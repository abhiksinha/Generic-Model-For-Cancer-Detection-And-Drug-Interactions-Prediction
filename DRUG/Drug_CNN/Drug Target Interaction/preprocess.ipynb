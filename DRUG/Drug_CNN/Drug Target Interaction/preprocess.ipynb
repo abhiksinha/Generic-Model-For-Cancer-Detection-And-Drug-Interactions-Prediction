{
 "cells": [
  {
   "cell_type": "code",
   "execution_count": 1,
   "metadata": {},
   "outputs": [],
   "source": [
    "import pandas as pd"
   ]
  },
  {
   "cell_type": "code",
   "execution_count": 2,
   "metadata": {},
   "outputs": [],
   "source": [
    "paths=\"D:\\Phase II Project Work\\DRUG\\Drug_CNN\\DTI\\Data\\\\\""
   ]
  },
  {
   "cell_type": "code",
   "execution_count": 3,
   "metadata": {},
   "outputs": [],
   "source": [
    "data=pd.read_csv(paths+\"drug.target.interaction.tsv\",sep='\\t')\n",
    "data=data[['DRUG_NAME','TARGET_NAME']]"
   ]
  },
  {
   "cell_type": "code",
   "execution_count": 4,
   "metadata": {},
   "outputs": [
    {
     "data": {
      "text/html": [
       "<div>\n",
       "<style scoped>\n",
       "    .dataframe tbody tr th:only-of-type {\n",
       "        vertical-align: middle;\n",
       "    }\n",
       "\n",
       "    .dataframe tbody tr th {\n",
       "        vertical-align: top;\n",
       "    }\n",
       "\n",
       "    .dataframe thead th {\n",
       "        text-align: right;\n",
       "    }\n",
       "</style>\n",
       "<table border=\"1\" class=\"dataframe\">\n",
       "  <thead>\n",
       "    <tr style=\"text-align: right;\">\n",
       "      <th></th>\n",
       "      <th>DRUG_NAME</th>\n",
       "      <th>TARGET_NAME</th>\n",
       "    </tr>\n",
       "  </thead>\n",
       "  <tbody>\n",
       "    <tr>\n",
       "      <th>0</th>\n",
       "      <td>levobupivacaine</td>\n",
       "      <td>Potassium voltage-gated channel subfamily H me...</td>\n",
       "    </tr>\n",
       "    <tr>\n",
       "      <th>1</th>\n",
       "      <td>levobupivacaine</td>\n",
       "      <td>Sodium channel protein type 1 subunit alpha</td>\n",
       "    </tr>\n",
       "    <tr>\n",
       "      <th>2</th>\n",
       "      <td>levobupivacaine</td>\n",
       "      <td>Sodium channel protein type 4 subunit alpha</td>\n",
       "    </tr>\n",
       "    <tr>\n",
       "      <th>3</th>\n",
       "      <td>levobupivacaine</td>\n",
       "      <td>Prostaglandin E2 receptor EP1 subtype</td>\n",
       "    </tr>\n",
       "    <tr>\n",
       "      <th>4</th>\n",
       "      <td>levobupivacaine</td>\n",
       "      <td>Cytochrome P450 2D6</td>\n",
       "    </tr>\n",
       "  </tbody>\n",
       "</table>\n",
       "</div>"
      ],
      "text/plain": [
       "         DRUG_NAME                                        TARGET_NAME\n",
       "0  levobupivacaine  Potassium voltage-gated channel subfamily H me...\n",
       "1  levobupivacaine        Sodium channel protein type 1 subunit alpha\n",
       "2  levobupivacaine        Sodium channel protein type 4 subunit alpha\n",
       "3  levobupivacaine              Prostaglandin E2 receptor EP1 subtype\n",
       "4  levobupivacaine                                Cytochrome P450 2D6"
      ]
     },
     "execution_count": 4,
     "metadata": {},
     "output_type": "execute_result"
    }
   ],
   "source": [
    "data.head()"
   ]
  },
  {
   "cell_type": "code",
   "execution_count": 5,
   "metadata": {},
   "outputs": [
    {
     "data": {
      "text/plain": [
       "DRUG_NAME      19378\n",
       "TARGET_NAME    19378\n",
       "dtype: int64"
      ]
     },
     "execution_count": 5,
     "metadata": {},
     "output_type": "execute_result"
    }
   ],
   "source": [
    "data.count()"
   ]
  },
  {
   "cell_type": "code",
   "execution_count": 6,
   "metadata": {},
   "outputs": [],
   "source": [
    "data=data.drop_duplicates()"
   ]
  },
  {
   "cell_type": "code",
   "execution_count": 7,
   "metadata": {},
   "outputs": [
    {
     "data": {
      "text/plain": [
       "DRUG_NAME      16680\n",
       "TARGET_NAME    16680\n",
       "dtype: int64"
      ]
     },
     "execution_count": 7,
     "metadata": {},
     "output_type": "execute_result"
    }
   ],
   "source": [
    "data.count()"
   ]
  },
  {
   "cell_type": "code",
   "execution_count": 9,
   "metadata": {},
   "outputs": [],
   "source": [
    "data_smiles=pd.read_csv(paths+\"tclin_05122020.tsv\",sep='\\t')\n",
    "data_smiles=data_smiles[['DRUG_NAME','smiles']]"
   ]
  },
  {
   "cell_type": "code",
   "execution_count": 10,
   "metadata": {},
   "outputs": [
    {
     "data": {
      "text/html": [
       "<div>\n",
       "<style scoped>\n",
       "    .dataframe tbody tr th:only-of-type {\n",
       "        vertical-align: middle;\n",
       "    }\n",
       "\n",
       "    .dataframe tbody tr th {\n",
       "        vertical-align: top;\n",
       "    }\n",
       "\n",
       "    .dataframe thead th {\n",
       "        text-align: right;\n",
       "    }\n",
       "</style>\n",
       "<table border=\"1\" class=\"dataframe\">\n",
       "  <thead>\n",
       "    <tr style=\"text-align: right;\">\n",
       "      <th></th>\n",
       "      <th>DRUG_NAME</th>\n",
       "      <th>smiles</th>\n",
       "    </tr>\n",
       "  </thead>\n",
       "  <tbody>\n",
       "    <tr>\n",
       "      <th>0</th>\n",
       "      <td>cepharanthine</td>\n",
       "      <td>[H][C@]12CC3=CC(OC4=CC=C(C[C@@H]5N(C)CCC6=CC7=...</td>\n",
       "    </tr>\n",
       "    <tr>\n",
       "      <th>1</th>\n",
       "      <td>cepharanthine</td>\n",
       "      <td>[H][C@]12CC3=CC(OC4=CC=C(C[C@@H]5N(C)CCC6=CC7=...</td>\n",
       "    </tr>\n",
       "    <tr>\n",
       "      <th>2</th>\n",
       "      <td>teicoplanin aglycone</td>\n",
       "      <td>[H][C@@]12CC3=CC=C(OC4=C(O)C5=CC(=C4)[C@@]([H]...</td>\n",
       "    </tr>\n",
       "    <tr>\n",
       "      <th>3</th>\n",
       "      <td>avapritinib</td>\n",
       "      <td>CN1C=C(C=N1)C1=CN2N=CN=C(N3CCN(CC3)C3=NC=C(C=N...</td>\n",
       "    </tr>\n",
       "    <tr>\n",
       "      <th>4</th>\n",
       "      <td>avapritinib</td>\n",
       "      <td>CN1C=C(C=N1)C1=CN2N=CN=C(N3CCN(CC3)C3=NC=C(C=N...</td>\n",
       "    </tr>\n",
       "  </tbody>\n",
       "</table>\n",
       "</div>"
      ],
      "text/plain": [
       "              DRUG_NAME                                             smiles\n",
       "0         cepharanthine  [H][C@]12CC3=CC(OC4=CC=C(C[C@@H]5N(C)CCC6=CC7=...\n",
       "1         cepharanthine  [H][C@]12CC3=CC(OC4=CC=C(C[C@@H]5N(C)CCC6=CC7=...\n",
       "2  teicoplanin aglycone  [H][C@@]12CC3=CC=C(OC4=C(O)C5=CC(=C4)[C@@]([H]...\n",
       "3           avapritinib  CN1C=C(C=N1)C1=CN2N=CN=C(N3CCN(CC3)C3=NC=C(C=N...\n",
       "4           avapritinib  CN1C=C(C=N1)C1=CN2N=CN=C(N3CCN(CC3)C3=NC=C(C=N..."
      ]
     },
     "execution_count": 10,
     "metadata": {},
     "output_type": "execute_result"
    }
   ],
   "source": [
    "data_smiles.head()"
   ]
  },
  {
   "cell_type": "code",
   "execution_count": 11,
   "metadata": {},
   "outputs": [
    {
     "data": {
      "text/plain": [
       "DRUG_NAME    3361\n",
       "smiles       3121\n",
       "dtype: int64"
      ]
     },
     "execution_count": 11,
     "metadata": {},
     "output_type": "execute_result"
    }
   ],
   "source": [
    "data_smiles.count()"
   ]
  },
  {
   "cell_type": "code",
   "execution_count": 12,
   "metadata": {},
   "outputs": [],
   "source": [
    "data_smiles = data_smiles.dropna(axis=0, subset=['smiles'])"
   ]
  },
  {
   "cell_type": "code",
   "execution_count": 13,
   "metadata": {},
   "outputs": [
    {
     "data": {
      "text/plain": [
       "DRUG_NAME    3121\n",
       "smiles       3121\n",
       "dtype: int64"
      ]
     },
     "execution_count": 13,
     "metadata": {},
     "output_type": "execute_result"
    }
   ],
   "source": [
    "data_smiles.count()"
   ]
  },
  {
   "cell_type": "code",
   "execution_count": 14,
   "metadata": {},
   "outputs": [],
   "source": [
    "data_final=pd.merge(data,data_smiles,on='DRUG_NAME')"
   ]
  },
  {
   "cell_type": "code",
   "execution_count": 15,
   "metadata": {},
   "outputs": [
    {
     "data": {
      "text/plain": [
       "DRUG_NAME      34413\n",
       "TARGET_NAME    34413\n",
       "smiles         34413\n",
       "dtype: int64"
      ]
     },
     "execution_count": 15,
     "metadata": {},
     "output_type": "execute_result"
    }
   ],
   "source": [
    "data_final.count()"
   ]
  },
  {
   "cell_type": "code",
   "execution_count": 16,
   "metadata": {},
   "outputs": [
    {
     "data": {
      "text/html": [
       "<div>\n",
       "<style scoped>\n",
       "    .dataframe tbody tr th:only-of-type {\n",
       "        vertical-align: middle;\n",
       "    }\n",
       "\n",
       "    .dataframe tbody tr th {\n",
       "        vertical-align: top;\n",
       "    }\n",
       "\n",
       "    .dataframe thead th {\n",
       "        text-align: right;\n",
       "    }\n",
       "</style>\n",
       "<table border=\"1\" class=\"dataframe\">\n",
       "  <thead>\n",
       "    <tr style=\"text-align: right;\">\n",
       "      <th></th>\n",
       "      <th>DRUG_NAME</th>\n",
       "      <th>TARGET_NAME</th>\n",
       "      <th>smiles</th>\n",
       "    </tr>\n",
       "  </thead>\n",
       "  <tbody>\n",
       "    <tr>\n",
       "      <th>0</th>\n",
       "      <td>levobupivacaine</td>\n",
       "      <td>Potassium voltage-gated channel subfamily H me...</td>\n",
       "      <td>CCCCN1CCCC[C@H]1C(=O)NC1=C(C)C=CC=C1C</td>\n",
       "    </tr>\n",
       "    <tr>\n",
       "      <th>1</th>\n",
       "      <td>levobupivacaine</td>\n",
       "      <td>Sodium channel protein type 1 subunit alpha</td>\n",
       "      <td>CCCCN1CCCC[C@H]1C(=O)NC1=C(C)C=CC=C1C</td>\n",
       "    </tr>\n",
       "    <tr>\n",
       "      <th>2</th>\n",
       "      <td>levobupivacaine</td>\n",
       "      <td>Sodium channel protein type 4 subunit alpha</td>\n",
       "      <td>CCCCN1CCCC[C@H]1C(=O)NC1=C(C)C=CC=C1C</td>\n",
       "    </tr>\n",
       "    <tr>\n",
       "      <th>3</th>\n",
       "      <td>levobupivacaine</td>\n",
       "      <td>Prostaglandin E2 receptor EP1 subtype</td>\n",
       "      <td>CCCCN1CCCC[C@H]1C(=O)NC1=C(C)C=CC=C1C</td>\n",
       "    </tr>\n",
       "    <tr>\n",
       "      <th>4</th>\n",
       "      <td>levobupivacaine</td>\n",
       "      <td>Cytochrome P450 2D6</td>\n",
       "      <td>CCCCN1CCCC[C@H]1C(=O)NC1=C(C)C=CC=C1C</td>\n",
       "    </tr>\n",
       "  </tbody>\n",
       "</table>\n",
       "</div>"
      ],
      "text/plain": [
       "         DRUG_NAME                                        TARGET_NAME  \\\n",
       "0  levobupivacaine  Potassium voltage-gated channel subfamily H me...   \n",
       "1  levobupivacaine        Sodium channel protein type 1 subunit alpha   \n",
       "2  levobupivacaine        Sodium channel protein type 4 subunit alpha   \n",
       "3  levobupivacaine              Prostaglandin E2 receptor EP1 subtype   \n",
       "4  levobupivacaine                                Cytochrome P450 2D6   \n",
       "\n",
       "                                  smiles  \n",
       "0  CCCCN1CCCC[C@H]1C(=O)NC1=C(C)C=CC=C1C  \n",
       "1  CCCCN1CCCC[C@H]1C(=O)NC1=C(C)C=CC=C1C  \n",
       "2  CCCCN1CCCC[C@H]1C(=O)NC1=C(C)C=CC=C1C  \n",
       "3  CCCCN1CCCC[C@H]1C(=O)NC1=C(C)C=CC=C1C  \n",
       "4  CCCCN1CCCC[C@H]1C(=O)NC1=C(C)C=CC=C1C  "
      ]
     },
     "execution_count": 16,
     "metadata": {},
     "output_type": "execute_result"
    }
   ],
   "source": [
    "data_final.head()"
   ]
  },
  {
   "cell_type": "code",
   "execution_count": 17,
   "metadata": {},
   "outputs": [],
   "source": [
    "data_final=data_final.drop_duplicates()"
   ]
  },
  {
   "cell_type": "code",
   "execution_count": 18,
   "metadata": {},
   "outputs": [
    {
     "data": {
      "text/plain": [
       "DRUG_NAME      11630\n",
       "TARGET_NAME    11630\n",
       "smiles         11630\n",
       "dtype: int64"
      ]
     },
     "execution_count": 18,
     "metadata": {},
     "output_type": "execute_result"
    }
   ],
   "source": [
    "data_final.count()"
   ]
  },
  {
   "cell_type": "code",
   "execution_count": 19,
   "metadata": {},
   "outputs": [
    {
     "data": {
      "text/html": [
       "<div>\n",
       "<style scoped>\n",
       "    .dataframe tbody tr th:only-of-type {\n",
       "        vertical-align: middle;\n",
       "    }\n",
       "\n",
       "    .dataframe tbody tr th {\n",
       "        vertical-align: top;\n",
       "    }\n",
       "\n",
       "    .dataframe thead th {\n",
       "        text-align: right;\n",
       "    }\n",
       "</style>\n",
       "<table border=\"1\" class=\"dataframe\">\n",
       "  <thead>\n",
       "    <tr style=\"text-align: right;\">\n",
       "      <th></th>\n",
       "      <th>DRUG_NAME</th>\n",
       "      <th>TARGET_NAME</th>\n",
       "      <th>smiles</th>\n",
       "    </tr>\n",
       "  </thead>\n",
       "  <tbody>\n",
       "    <tr>\n",
       "      <th>0</th>\n",
       "      <td>levobupivacaine</td>\n",
       "      <td>Potassium voltage-gated channel subfamily H me...</td>\n",
       "      <td>CCCCN1CCCC[C@H]1C(=O)NC1=C(C)C=CC=C1C</td>\n",
       "    </tr>\n",
       "    <tr>\n",
       "      <th>1</th>\n",
       "      <td>levobupivacaine</td>\n",
       "      <td>Sodium channel protein type 1 subunit alpha</td>\n",
       "      <td>CCCCN1CCCC[C@H]1C(=O)NC1=C(C)C=CC=C1C</td>\n",
       "    </tr>\n",
       "    <tr>\n",
       "      <th>2</th>\n",
       "      <td>levobupivacaine</td>\n",
       "      <td>Sodium channel protein type 4 subunit alpha</td>\n",
       "      <td>CCCCN1CCCC[C@H]1C(=O)NC1=C(C)C=CC=C1C</td>\n",
       "    </tr>\n",
       "    <tr>\n",
       "      <th>3</th>\n",
       "      <td>levobupivacaine</td>\n",
       "      <td>Prostaglandin E2 receptor EP1 subtype</td>\n",
       "      <td>CCCCN1CCCC[C@H]1C(=O)NC1=C(C)C=CC=C1C</td>\n",
       "    </tr>\n",
       "    <tr>\n",
       "      <th>4</th>\n",
       "      <td>levobupivacaine</td>\n",
       "      <td>Cytochrome P450 2D6</td>\n",
       "      <td>CCCCN1CCCC[C@H]1C(=O)NC1=C(C)C=CC=C1C</td>\n",
       "    </tr>\n",
       "  </tbody>\n",
       "</table>\n",
       "</div>"
      ],
      "text/plain": [
       "         DRUG_NAME                                        TARGET_NAME  \\\n",
       "0  levobupivacaine  Potassium voltage-gated channel subfamily H me...   \n",
       "1  levobupivacaine        Sodium channel protein type 1 subunit alpha   \n",
       "2  levobupivacaine        Sodium channel protein type 4 subunit alpha   \n",
       "3  levobupivacaine              Prostaglandin E2 receptor EP1 subtype   \n",
       "4  levobupivacaine                                Cytochrome P450 2D6   \n",
       "\n",
       "                                  smiles  \n",
       "0  CCCCN1CCCC[C@H]1C(=O)NC1=C(C)C=CC=C1C  \n",
       "1  CCCCN1CCCC[C@H]1C(=O)NC1=C(C)C=CC=C1C  \n",
       "2  CCCCN1CCCC[C@H]1C(=O)NC1=C(C)C=CC=C1C  \n",
       "3  CCCCN1CCCC[C@H]1C(=O)NC1=C(C)C=CC=C1C  \n",
       "4  CCCCN1CCCC[C@H]1C(=O)NC1=C(C)C=CC=C1C  "
      ]
     },
     "execution_count": 19,
     "metadata": {},
     "output_type": "execute_result"
    }
   ],
   "source": [
    "data_final.head()"
   ]
  },
  {
   "cell_type": "code",
   "execution_count": 20,
   "metadata": {},
   "outputs": [],
   "source": [
    "df_test=data_final[data_final['TARGET_NAME'].str.contains('Adenosine')]"
   ]
  },
  {
   "cell_type": "code",
   "execution_count": 21,
   "metadata": {},
   "outputs": [
    {
     "data": {
      "text/html": [
       "<div>\n",
       "<style scoped>\n",
       "    .dataframe tbody tr th:only-of-type {\n",
       "        vertical-align: middle;\n",
       "    }\n",
       "\n",
       "    .dataframe tbody tr th {\n",
       "        vertical-align: top;\n",
       "    }\n",
       "\n",
       "    .dataframe thead th {\n",
       "        text-align: right;\n",
       "    }\n",
       "</style>\n",
       "<table border=\"1\" class=\"dataframe\">\n",
       "  <thead>\n",
       "    <tr style=\"text-align: right;\">\n",
       "      <th></th>\n",
       "      <th>DRUG_NAME</th>\n",
       "      <th>TARGET_NAME</th>\n",
       "      <th>smiles</th>\n",
       "    </tr>\n",
       "  </thead>\n",
       "  <tbody>\n",
       "    <tr>\n",
       "      <th>298</th>\n",
       "      <td>adenosine</td>\n",
       "      <td>Adenosine receptor A2a</td>\n",
       "      <td>NC1=C2N=CN([C@@H]3O[C@H](CO)[C@@H](O)[C@H]3O)C...</td>\n",
       "    </tr>\n",
       "    <tr>\n",
       "      <th>301</th>\n",
       "      <td>adenosine</td>\n",
       "      <td>Adenosine receptor A1</td>\n",
       "      <td>NC1=C2N=CN([C@@H]3O[C@H](CO)[C@@H](O)[C@H]3O)C...</td>\n",
       "    </tr>\n",
       "    <tr>\n",
       "      <th>304</th>\n",
       "      <td>adenosine</td>\n",
       "      <td>Adenosine receptor A2b</td>\n",
       "      <td>NC1=C2N=CN([C@@H]3O[C@H](CO)[C@@H](O)[C@H]3O)C...</td>\n",
       "    </tr>\n",
       "    <tr>\n",
       "      <th>307</th>\n",
       "      <td>adenosine</td>\n",
       "      <td>Adenosine receptor A3</td>\n",
       "      <td>NC1=C2N=CN([C@@H]3O[C@H](CO)[C@@H](O)[C@H]3O)C...</td>\n",
       "    </tr>\n",
       "    <tr>\n",
       "      <th>310</th>\n",
       "      <td>adenosine</td>\n",
       "      <td>Adenosine kinase</td>\n",
       "      <td>NC1=C2N=CN([C@@H]3O[C@H](CO)[C@@H](O)[C@H]3O)C...</td>\n",
       "    </tr>\n",
       "  </tbody>\n",
       "</table>\n",
       "</div>"
      ],
      "text/plain": [
       "     DRUG_NAME             TARGET_NAME  \\\n",
       "298  adenosine  Adenosine receptor A2a   \n",
       "301  adenosine   Adenosine receptor A1   \n",
       "304  adenosine  Adenosine receptor A2b   \n",
       "307  adenosine   Adenosine receptor A3   \n",
       "310  adenosine        Adenosine kinase   \n",
       "\n",
       "                                                smiles  \n",
       "298  NC1=C2N=CN([C@@H]3O[C@H](CO)[C@@H](O)[C@H]3O)C...  \n",
       "301  NC1=C2N=CN([C@@H]3O[C@H](CO)[C@@H](O)[C@H]3O)C...  \n",
       "304  NC1=C2N=CN([C@@H]3O[C@H](CO)[C@@H](O)[C@H]3O)C...  \n",
       "307  NC1=C2N=CN([C@@H]3O[C@H](CO)[C@@H](O)[C@H]3O)C...  \n",
       "310  NC1=C2N=CN([C@@H]3O[C@H](CO)[C@@H](O)[C@H]3O)C...  "
      ]
     },
     "execution_count": 21,
     "metadata": {},
     "output_type": "execute_result"
    }
   ],
   "source": [
    "df_test.head()"
   ]
  },
  {
   "cell_type": "code",
   "execution_count": 22,
   "metadata": {},
   "outputs": [],
   "source": [
    "for_cancer=[]\n",
    "for x in data_final['TARGET_NAME']:\n",
    "    if('Adenosine' in x):\n",
    "        for_cancer.append(1)\n",
    "    else:\n",
    "        for_cancer.append(0)\n"
   ]
  },
  {
   "cell_type": "code",
   "execution_count": 23,
   "metadata": {},
   "outputs": [
    {
     "name": "stdout",
     "output_type": "stream",
     "text": [
      "118\n"
     ]
    }
   ],
   "source": [
    "c=0\n",
    "for x in for_cancer:\n",
    "    if(x==1):\n",
    "        c+=1\n",
    "print(c)"
   ]
  },
  {
   "cell_type": "code",
   "execution_count": 24,
   "metadata": {},
   "outputs": [],
   "source": [
    "data_final['interact_with_adenosine']=for_cancer"
   ]
  },
  {
   "cell_type": "code",
   "execution_count": 25,
   "metadata": {},
   "outputs": [
    {
     "data": {
      "text/html": [
       "<div>\n",
       "<style scoped>\n",
       "    .dataframe tbody tr th:only-of-type {\n",
       "        vertical-align: middle;\n",
       "    }\n",
       "\n",
       "    .dataframe tbody tr th {\n",
       "        vertical-align: top;\n",
       "    }\n",
       "\n",
       "    .dataframe thead th {\n",
       "        text-align: right;\n",
       "    }\n",
       "</style>\n",
       "<table border=\"1\" class=\"dataframe\">\n",
       "  <thead>\n",
       "    <tr style=\"text-align: right;\">\n",
       "      <th></th>\n",
       "      <th>DRUG_NAME</th>\n",
       "      <th>TARGET_NAME</th>\n",
       "      <th>smiles</th>\n",
       "      <th>interact_with_adenosine</th>\n",
       "    </tr>\n",
       "  </thead>\n",
       "  <tbody>\n",
       "    <tr>\n",
       "      <th>0</th>\n",
       "      <td>levobupivacaine</td>\n",
       "      <td>Potassium voltage-gated channel subfamily H me...</td>\n",
       "      <td>CCCCN1CCCC[C@H]1C(=O)NC1=C(C)C=CC=C1C</td>\n",
       "      <td>0</td>\n",
       "    </tr>\n",
       "    <tr>\n",
       "      <th>1</th>\n",
       "      <td>levobupivacaine</td>\n",
       "      <td>Sodium channel protein type 1 subunit alpha</td>\n",
       "      <td>CCCCN1CCCC[C@H]1C(=O)NC1=C(C)C=CC=C1C</td>\n",
       "      <td>0</td>\n",
       "    </tr>\n",
       "    <tr>\n",
       "      <th>2</th>\n",
       "      <td>levobupivacaine</td>\n",
       "      <td>Sodium channel protein type 4 subunit alpha</td>\n",
       "      <td>CCCCN1CCCC[C@H]1C(=O)NC1=C(C)C=CC=C1C</td>\n",
       "      <td>0</td>\n",
       "    </tr>\n",
       "    <tr>\n",
       "      <th>3</th>\n",
       "      <td>levobupivacaine</td>\n",
       "      <td>Prostaglandin E2 receptor EP1 subtype</td>\n",
       "      <td>CCCCN1CCCC[C@H]1C(=O)NC1=C(C)C=CC=C1C</td>\n",
       "      <td>0</td>\n",
       "    </tr>\n",
       "    <tr>\n",
       "      <th>4</th>\n",
       "      <td>levobupivacaine</td>\n",
       "      <td>Cytochrome P450 2D6</td>\n",
       "      <td>CCCCN1CCCC[C@H]1C(=O)NC1=C(C)C=CC=C1C</td>\n",
       "      <td>0</td>\n",
       "    </tr>\n",
       "  </tbody>\n",
       "</table>\n",
       "</div>"
      ],
      "text/plain": [
       "         DRUG_NAME                                        TARGET_NAME  \\\n",
       "0  levobupivacaine  Potassium voltage-gated channel subfamily H me...   \n",
       "1  levobupivacaine        Sodium channel protein type 1 subunit alpha   \n",
       "2  levobupivacaine        Sodium channel protein type 4 subunit alpha   \n",
       "3  levobupivacaine              Prostaglandin E2 receptor EP1 subtype   \n",
       "4  levobupivacaine                                Cytochrome P450 2D6   \n",
       "\n",
       "                                  smiles  interact_with_adenosine  \n",
       "0  CCCCN1CCCC[C@H]1C(=O)NC1=C(C)C=CC=C1C                        0  \n",
       "1  CCCCN1CCCC[C@H]1C(=O)NC1=C(C)C=CC=C1C                        0  \n",
       "2  CCCCN1CCCC[C@H]1C(=O)NC1=C(C)C=CC=C1C                        0  \n",
       "3  CCCCN1CCCC[C@H]1C(=O)NC1=C(C)C=CC=C1C                        0  \n",
       "4  CCCCN1CCCC[C@H]1C(=O)NC1=C(C)C=CC=C1C                        0  "
      ]
     },
     "execution_count": 25,
     "metadata": {},
     "output_type": "execute_result"
    }
   ],
   "source": [
    "data_final.head()"
   ]
  },
  {
   "cell_type": "code",
   "execution_count": 26,
   "metadata": {},
   "outputs": [],
   "source": [
    "df_to_write=data_final[['smiles','interact_with_adenosine']]"
   ]
  },
  {
   "cell_type": "code",
   "execution_count": 59,
   "metadata": {},
   "outputs": [],
   "source": [
    "df_to_write.to_csv(paths+'data_for_gnn.tsv', sep=\"\\t\",index=False)"
   ]
  }
 ],
 "metadata": {
  "kernelspec": {
   "display_name": "Python 3 (ipykernel)",
   "language": "python",
   "name": "python3"
  },
  "language_info": {
   "codemirror_mode": {
    "name": "ipython",
    "version": 3
   },
   "file_extension": ".py",
   "mimetype": "text/x-python",
   "name": "python",
   "nbconvert_exporter": "python",
   "pygments_lexer": "ipython3",
   "version": "3.9.13"
  },
  "orig_nbformat": 4
 },
 "nbformat": 4,
 "nbformat_minor": 2
}
