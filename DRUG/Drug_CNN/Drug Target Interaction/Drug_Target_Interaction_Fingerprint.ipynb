{
 "cells": [
  {
   "cell_type": "code",
   "execution_count": 1,
   "metadata": {},
   "outputs": [],
   "source": [
    "import pandas as pd"
   ]
  },
  {
   "cell_type": "code",
   "execution_count": 2,
   "metadata": {},
   "outputs": [],
   "source": [
    "df=pd.read_csv(\"D:\\\\DRUG\\\\Drug_CNN\\\\data_for_gnn.tsv\",sep='\\t')"
   ]
  },
  {
   "cell_type": "code",
   "execution_count": 3,
   "metadata": {},
   "outputs": [
    {
     "data": {
      "text/html": [
       "<div>\n",
       "<style scoped>\n",
       "    .dataframe tbody tr th:only-of-type {\n",
       "        vertical-align: middle;\n",
       "    }\n",
       "\n",
       "    .dataframe tbody tr th {\n",
       "        vertical-align: top;\n",
       "    }\n",
       "\n",
       "    .dataframe thead th {\n",
       "        text-align: right;\n",
       "    }\n",
       "</style>\n",
       "<table border=\"1\" class=\"dataframe\">\n",
       "  <thead>\n",
       "    <tr style=\"text-align: right;\">\n",
       "      <th></th>\n",
       "      <th>smiles</th>\n",
       "      <th>interact_with_adenosine</th>\n",
       "    </tr>\n",
       "  </thead>\n",
       "  <tbody>\n",
       "    <tr>\n",
       "      <th>0</th>\n",
       "      <td>BrC1=C(NC2=NCCN2)C=CC2=NC=CN=C12</td>\n",
       "      <td>0</td>\n",
       "    </tr>\n",
       "    <tr>\n",
       "      <th>1</th>\n",
       "      <td>C#CC1=CC=CC(NC2=NC=NC3=C2C=C2OCCOCCOCCOC2=C3)=C1</td>\n",
       "      <td>0</td>\n",
       "    </tr>\n",
       "    <tr>\n",
       "      <th>2</th>\n",
       "      <td>C#CCN[C@@H]1CCC2=C1C=CC=C2</td>\n",
       "      <td>0</td>\n",
       "    </tr>\n",
       "    <tr>\n",
       "      <th>3</th>\n",
       "      <td>CC(C)(C)C1=CC=C(C=C1)C(=O)CCCN1CCC(CC1)OC(C1=C...</td>\n",
       "      <td>1</td>\n",
       "    </tr>\n",
       "    <tr>\n",
       "      <th>4</th>\n",
       "      <td>C(C1=NCCN1)C1=CC=CC2=CC=CC=C12</td>\n",
       "      <td>0</td>\n",
       "    </tr>\n",
       "  </tbody>\n",
       "</table>\n",
       "</div>"
      ],
      "text/plain": [
       "                                              smiles  interact_with_adenosine\n",
       "0                   BrC1=C(NC2=NCCN2)C=CC2=NC=CN=C12                        0\n",
       "1   C#CC1=CC=CC(NC2=NC=NC3=C2C=C2OCCOCCOCCOC2=C3)=C1                        0\n",
       "2                         C#CCN[C@@H]1CCC2=C1C=CC=C2                        0\n",
       "3  CC(C)(C)C1=CC=C(C=C1)C(=O)CCCN1CCC(CC1)OC(C1=C...                        1\n",
       "4                     C(C1=NCCN1)C1=CC=CC2=CC=CC=C12                        0"
      ]
     },
     "execution_count": 3,
     "metadata": {},
     "output_type": "execute_result"
    }
   ],
   "source": [
    "df.head()"
   ]
  },
  {
   "cell_type": "code",
   "execution_count": 10,
   "metadata": {},
   "outputs": [],
   "source": [
    "from rdkit import Chem\n",
    "from rdkit.Chem import AllChem\n",
    "import numpy as np\n",
    "\n",
    "\n",
    "def fingerprint_to_array(fingerprint):\n",
    "    return np.fromstring(fingerprint.ToBitString(), dtype=np.uint8) - ord('0')\n",
    "\n",
    "\n",
    "def smiles_to_fingerprint(smiles):\n",
    "    mol = Chem.MolFromSmiles(smiles)\n",
    "    fingerprint = AllChem.GetMorganFingerprintAsBitVect(mol, radius=2, nBits=1024)\n",
    "    fingerprint_array = fingerprint_to_array(fingerprint)\n",
    "    return fingerprint_array"
   ]
  },
  {
   "cell_type": "code",
   "execution_count": 11,
   "metadata": {},
   "outputs": [
    {
     "name": "stderr",
     "output_type": "stream",
     "text": [
      "C:\\Users\\Abhishek Sinha\\AppData\\Local\\Temp\\ipykernel_9404\\1408840982.py:7: DeprecationWarning: The binary mode of fromstring is deprecated, as it behaves surprisingly on unicode inputs. Use frombuffer instead\n",
      "  return np.fromstring(fingerprint.ToBitString(), dtype=np.uint8) - ord('0')\n"
     ]
    }
   ],
   "source": [
    "input_data=[]\n",
    "for x,y in zip(df['smiles'],df['interact_with_adenosine']):\n",
    "    tsr=smiles_to_fingerprint(x)\n",
    "    input_data.append([tsr,y])\n"
   ]
  },
  {
   "cell_type": "code",
   "execution_count": 12,
   "metadata": {},
   "outputs": [],
   "source": [
    "import numpy as np"
   ]
  },
  {
   "cell_type": "code",
   "execution_count": 13,
   "metadata": {},
   "outputs": [],
   "source": [
    "def split_dataset(dataset, ratio):\n",
    "    \"\"\"Shuffle and split a dataset.\"\"\"\n",
    "    np.random.seed(1234)  # fix the seed for shuffle.\n",
    "    np.random.shuffle(dataset)\n",
    "    n = int(ratio * len(dataset))\n",
    "    return dataset[:n], dataset[n:]"
   ]
  },
  {
   "cell_type": "code",
   "execution_count": 14,
   "metadata": {},
   "outputs": [],
   "source": [
    "dataset_train, dataset_test=split_dataset(input_data,0.8)"
   ]
  },
  {
   "cell_type": "code",
   "execution_count": 16,
   "metadata": {},
   "outputs": [],
   "source": [
    "train_gen=np.array([np.array(x[0])for x in dataset_train])\n",
    "train_lab=np.array([x[1] for x in dataset_train])\n",
    "test_gen=np.array([np.array(x[0]) for x in dataset_test])\n",
    "test_lab=np.array([x[1] for x in dataset_test])"
   ]
  },
  {
   "cell_type": "code",
   "execution_count": 18,
   "metadata": {},
   "outputs": [
    {
     "name": "stdout",
     "output_type": "stream",
     "text": [
      "WARNING:tensorflow:Please fix your imports. Module tensorflow.python.training.tracking.autotrackable has been moved to tensorflow.python.trackable.autotrackable. The old module will be deleted in version 2.11.\n",
      "WARNING:tensorflow:Please fix your imports. Module tensorflow.python.training.tracking.base has been moved to tensorflow.python.trackable.base. The old module will be deleted in version 2.11.\n",
      "WARNING:tensorflow:Please fix your imports. Module tensorflow.python.training.tracking.base_delegate has been moved to tensorflow.python.trackable.base_delegate. The old module will be deleted in version 2.11.\n",
      "WARNING:tensorflow:Please fix your imports. Module tensorflow.python.training.tracking.data_structures has been moved to tensorflow.python.trackable.data_structures. The old module will be deleted in version 2.11.\n",
      "WARNING:tensorflow:Please fix your imports. Module tensorflow.python.training.tracking.graph_view has been moved to tensorflow.python.checkpoint.graph_view. The old module will be deleted in version 2.11.\n",
      "WARNING:tensorflow:Please fix your imports. Module tensorflow.python.training.tracking.util has been moved to tensorflow.python.checkpoint.checkpoint. The old module will be deleted in version 2.11.\n",
      "WARNING:tensorflow:Please fix your imports. Module tensorflow.python.training.checkpoint_management has been moved to tensorflow.python.checkpoint.checkpoint_management. The old module will be deleted in version 2.9.\n",
      "WARNING:tensorflow:Please fix your imports. Module tensorflow.python.training.tracking.resource has been moved to tensorflow.python.trackable.resource. The old module will be deleted in version 2.11.\n",
      "WARNING:tensorflow:Please fix your imports. Module tensorflow.python.training.tracking.asset has been moved to tensorflow.python.trackable.asset. The old module will be deleted in version 2.11.\n",
      "WARNING:tensorflow:Please fix your imports. Module tensorflow.python.training.tracking.python_state has been moved to tensorflow.python.trackable.python_state. The old module will be deleted in version 2.11.\n",
      "WARNING:tensorflow:Please fix your imports. Module tensorflow.python.training.saving.checkpoint_options has been moved to tensorflow.python.checkpoint.checkpoint_options. The old module will be deleted in version 2.11.\n"
     ]
    }
   ],
   "source": [
    "from tensorflow.keras.utils import to_categorical\n",
    "train_lab=to_categorical(train_lab,2)\n",
    "test_lab=to_categorical(test_lab,2)"
   ]
  },
  {
   "cell_type": "code",
   "execution_count": 19,
   "metadata": {},
   "outputs": [],
   "source": [
    "from tensorflow.keras.callbacks import ModelCheckpoint, EarlyStopping\n",
    "es= EarlyStopping(monitor=\"accuracy\",min_delta=0.04,patience=6,verbose=1,mode='auto')\n",
    "mc=ModelCheckpoint(monitor=\"accuracy\",filepath=\"D:\\Phase II Project Work\\DRUG\\Drug_CNN\\DTI\\DTI.h5\",verbose=1,save_best_only=True,mode='auto')\n",
    "cd=[es,mc]"
   ]
  },
  {
   "cell_type": "code",
   "execution_count": 25,
   "metadata": {},
   "outputs": [],
   "source": [
    "import numpy as np\n",
    "import pandas as pd\n",
    "import matplotlib.pyplot as plt\n",
    "from tensorflow.keras.layers import Conv1D,MaxPool1D,Dropout,Flatten,Dense,BatchNormalization,GlobalAvgPool2D,GaussianNoise,GlobalAveragePooling2D\n",
    "from tensorflow.keras.models import Sequential\n",
    "from tensorflow.keras.preprocessing.image import ImageDataGenerator"
   ]
  },
  {
   "cell_type": "code",
   "execution_count": 21,
   "metadata": {},
   "outputs": [
    {
     "name": "stdout",
     "output_type": "stream",
     "text": [
      "1 Physical GPUs, 1 Logical GPUs\n"
     ]
    }
   ],
   "source": [
    "import tensorflow as tf\n",
    "gpus = tf.config.list_physical_devices('GPU')\n",
    "if gpus:\n",
    "  # Restrict TensorFlow to only allocate 1GB of memory on the first GPU\n",
    "  try:\n",
    "    tf.config.set_logical_device_configuration(\n",
    "        gpus[0],\n",
    "        [tf.config.LogicalDeviceConfiguration(memory_limit=3072)])\n",
    "    logical_gpus = tf.config.list_logical_devices('GPU')\n",
    "    print(len(gpus), \"Physical GPUs,\", len(logical_gpus), \"Logical GPUs\")\n",
    "  except RuntimeError as e:\n",
    "    # Virtual devices must be set before GPUs have been initialized\n",
    "    print(e)"
   ]
  },
  {
   "cell_type": "code",
   "execution_count": 24,
   "metadata": {},
   "outputs": [
    {
     "data": {
      "text/plain": [
       "1024"
      ]
     },
     "execution_count": 24,
     "metadata": {},
     "output_type": "execute_result"
    }
   ],
   "source": [
    "train_gen.shape[1]"
   ]
  },
  {
   "cell_type": "code",
   "execution_count": 26,
   "metadata": {},
   "outputs": [
    {
     "name": "stdout",
     "output_type": "stream",
     "text": [
      "Model: \"sequential\"\n",
      "_________________________________________________________________\n",
      " Layer (type)                Output Shape              Param #   \n",
      "=================================================================\n",
      " conv1d (Conv1D)             (None, 1024, 64)          256       \n",
      "                                                                 \n",
      " max_pooling1d (MaxPooling1D  (None, 1024, 64)         0         \n",
      " )                                                               \n",
      "                                                                 \n",
      " conv1d_1 (Conv1D)           (None, 1022, 64)          12352     \n",
      "                                                                 \n",
      " max_pooling1d_1 (MaxPooling  (None, 1022, 64)         0         \n",
      " 1D)                                                             \n",
      "                                                                 \n",
      " conv1d_2 (Conv1D)           (None, 1020, 64)          12352     \n",
      "                                                                 \n",
      " flatten (Flatten)           (None, 65280)             0         \n",
      "                                                                 \n",
      " dense (Dense)               (None, 64)                4177984   \n",
      "                                                                 \n",
      " dense_1 (Dense)             (None, 2)                 130       \n",
      "                                                                 \n",
      "=================================================================\n",
      "Total params: 4,203,074\n",
      "Trainable params: 4,203,074\n",
      "Non-trainable params: 0\n",
      "_________________________________________________________________\n"
     ]
    }
   ],
   "source": [
    "import tensorflow as tf\n",
    "# base_model = tf.keras.applications.EfficientNetB2(weights='imagenet',input_shape=(256,256,1), include_top=False)\n",
    "# base_model = tf.keras.applications.resnet50.ResNet50(weights='imagenet', input_shape=(224,224,3), include_top=False)\n",
    "# with tf.device('/GPU:0'):\n",
    "model = Sequential()\n",
    "model.add(Conv1D(64, kernel_size=3, activation='relu',padding='Same', input_shape=(train_gen.shape[1],1)))\n",
    "model.add(MaxPool1D(pool_size=1))\n",
    "model.add(Conv1D(64, kernel_size=3, activation='relu'))\n",
    "model.add(MaxPool1D(pool_size=1))\n",
    "model.add(Conv1D(64, kernel_size=3, activation='relu'))\n",
    "model.add(Flatten())\n",
    "model.add(Dense(64, activation='relu'))\n",
    "model.add(Dense(2, activation='softmax'))\n",
    "model.summary()"
   ]
  },
  {
   "cell_type": "code",
   "execution_count": 27,
   "metadata": {},
   "outputs": [],
   "source": [
    "model.compile(loss='categorical_crossentropy',\n",
    "              optimizer='adam',\n",
    "              metrics=['accuracy','Precision','Recall'])"
   ]
  },
  {
   "cell_type": "code",
   "execution_count": 28,
   "metadata": {},
   "outputs": [
    {
     "name": "stdout",
     "output_type": "stream",
     "text": [
      "Epoch 1/8\n",
      "100/100 [==============================] - ETA: 0s - loss: 0.3294 - accuracy: 0.8626 - precision: 0.8626 - recall: 0.8626\n",
      "Epoch 1: accuracy improved from -inf to 0.86261, saving model to D:\\Phase II Project Work\\DRUG\\Drug_CNN\\DTI\\DTI.h5\n",
      "100/100 [==============================] - 7s 29ms/step - loss: 0.3294 - accuracy: 0.8626 - precision: 0.8626 - recall: 0.8626 - val_loss: 0.2783 - val_accuracy: 0.8722 - val_precision: 0.8722 - val_recall: 0.8722\n",
      "Epoch 2/8\n",
      "100/100 [==============================] - ETA: 0s - loss: 0.0941 - accuracy: 0.9724 - precision: 0.9724 - recall: 0.9724\n",
      "Epoch 2: accuracy improved from 0.86261 to 0.97240, saving model to D:\\Phase II Project Work\\DRUG\\Drug_CNN\\DTI\\DTI.h5\n",
      "100/100 [==============================] - 2s 23ms/step - loss: 0.0941 - accuracy: 0.9724 - precision: 0.9724 - recall: 0.9724 - val_loss: 0.1349 - val_accuracy: 0.9699 - val_precision: 0.9699 - val_recall: 0.9699\n",
      "Epoch 3/8\n",
      "100/100 [==============================] - ETA: 0s - loss: 0.0394 - accuracy: 0.9881 - precision: 0.9881 - recall: 0.9881\n",
      "Epoch 3: accuracy improved from 0.97240 to 0.98808, saving model to D:\\Phase II Project Work\\DRUG\\Drug_CNN\\DTI\\DTI.h5\n",
      "100/100 [==============================] - 2s 23ms/step - loss: 0.0394 - accuracy: 0.9881 - precision: 0.9881 - recall: 0.9881 - val_loss: 0.0865 - val_accuracy: 0.9724 - val_precision: 0.9724 - val_recall: 0.9724\n",
      "Epoch 4/8\n",
      "100/100 [==============================] - ETA: 0s - loss: 0.0209 - accuracy: 0.9956 - precision: 0.9956 - recall: 0.9956\n",
      "Epoch 4: accuracy improved from 0.98808 to 0.99561, saving model to D:\\Phase II Project Work\\DRUG\\Drug_CNN\\DTI\\DTI.h5\n",
      "100/100 [==============================] - 2s 23ms/step - loss: 0.0209 - accuracy: 0.9956 - precision: 0.9956 - recall: 0.9956 - val_loss: 0.1168 - val_accuracy: 0.9699 - val_precision: 0.9699 - val_recall: 0.9699\n",
      "Epoch 5/8\n",
      "100/100 [==============================] - ETA: 0s - loss: 0.0092 - accuracy: 0.9987 - precision: 0.9987 - recall: 0.9987\n",
      "Epoch 5: accuracy improved from 0.99561 to 0.99875, saving model to D:\\Phase II Project Work\\DRUG\\Drug_CNN\\DTI\\DTI.h5\n",
      "100/100 [==============================] - 2s 23ms/step - loss: 0.0092 - accuracy: 0.9987 - precision: 0.9987 - recall: 0.9987 - val_loss: 0.0922 - val_accuracy: 0.9774 - val_precision: 0.9774 - val_recall: 0.9774\n",
      "Epoch 6/8\n",
      "100/100 [==============================] - ETA: 0s - loss: 0.0062 - accuracy: 0.9987 - precision: 0.9987 - recall: 0.9987\n",
      "Epoch 6: accuracy did not improve from 0.99875\n",
      "100/100 [==============================] - 2s 22ms/step - loss: 0.0062 - accuracy: 0.9987 - precision: 0.9987 - recall: 0.9987 - val_loss: 0.1218 - val_accuracy: 0.9724 - val_precision: 0.9724 - val_recall: 0.9724\n",
      "Epoch 7/8\n",
      "100/100 [==============================] - ETA: 0s - loss: 0.0072 - accuracy: 0.9987 - precision: 0.9987 - recall: 0.9987\n",
      "Epoch 7: accuracy did not improve from 0.99875\n",
      "100/100 [==============================] - 2s 21ms/step - loss: 0.0072 - accuracy: 0.9987 - precision: 0.9987 - recall: 0.9987 - val_loss: 0.1007 - val_accuracy: 0.9749 - val_precision: 0.9749 - val_recall: 0.9749\n",
      "Epoch 8/8\n",
      "100/100 [==============================] - ETA: 0s - loss: 0.0066 - accuracy: 0.9987 - precision: 0.9987 - recall: 0.9987\n",
      "Epoch 8: accuracy did not improve from 0.99875\n",
      "100/100 [==============================] - 2s 21ms/step - loss: 0.0066 - accuracy: 0.9987 - precision: 0.9987 - recall: 0.9987 - val_loss: 0.1051 - val_accuracy: 0.9724 - val_precision: 0.9724 - val_recall: 0.9724\n",
      "Epoch 8: early stopping\n"
     ]
    }
   ],
   "source": [
    "\n",
    "              \n",
    "hs=model.fit(\n",
    "    train_gen,\n",
    "    train_lab,\n",
    "    batch_size=16,\n",
    "    epochs=8,\n",
    "    verbose=1,  \n",
    "    validation_data=(test_gen,test_lab),\n",
    "    callbacks=cd\n",
    "    )\n"
   ]
  },
  {
   "cell_type": "code",
   "execution_count": 29,
   "metadata": {},
   "outputs": [
    {
     "data": {
      "image/png": "[encoded data removed]",
      "text/plain": [
       "<Figure size 640x480 with 1 Axes>"
      ]
     },
     "metadata": {},
     "output_type": "display_data"
    }
   ],
   "source": [
    "from matplotlib import pyplot as plt\n",
    "plt.plot(hs.history['accuracy'])\n",
    "plt.plot(hs.history['val_accuracy'])\n",
    "plt.title('model accuracy')\n",
    "plt.ylabel('accuracy')\n",
    "plt.xlabel('epoch')\n",
    "plt.legend(['train', 'val'], loc='upper left')\n",
    "plt.show()"
   ]
  },
  {
   "cell_type": "code",
   "execution_count": 30,
   "metadata": {},
   "outputs": [],
   "source": [
    "import numpy as np\n",
    "def predict_output(x,model):\n",
    "    tsr=smiles_to_fingerprint(x)\n",
    "    res=int(np.argmax(model.predict(np.array([tsr,]))))\n",
    "    print(res)\n",
    "    if(res==1):\n",
    "        print(\"the drugs will interact with adenosine \")\n",
    "    else:\n",
    "        print(\"the drugs will not interact with adenosine\" )"
   ]
  },
  {
   "cell_type": "code",
   "execution_count": 35,
   "metadata": {},
   "outputs": [],
   "source": [
    "import py3Dmol\n",
    "from rdkit import Chem\n",
    "from rdkit.Chem import AllChem\n",
    "from rdkit.Chem import Draw\n",
    "\n",
    "def draw_3d(mols):\n",
    "    \n",
    "    mol = Chem.MolFromSmiles(mols)\n",
    "    mol = Chem.AddHs(mol)\n",
    "    AllChem.EmbedMolecule(mol, AllChem.ETKDG())\n",
    "\n",
    "\n",
    "    mblock = Chem.MolToMolBlock(mol)\n",
    "    viewer = py3Dmol.view(width=400, height=400)\n",
    "    viewer.addModel(mblock, 'sdf')\n",
    "    viewer.setStyle({'stick':{}})\n",
    "    viewer.setBackgroundColor('0xeeeeee')\n",
    "    viewer.zoomTo()\n",
    "    viewer.show()\n",
    "\n",
    "def draw_2d(mols):\n",
    "     return Draw.MolToImage(Chem.MolFromSmiles(mols),size=(400,400))\n"
   ]
  },
  {
   "cell_type": "code",
   "execution_count": 39,
   "metadata": {},
   "outputs": [
    {
     "data": {
      "image/png": "[encoded data removed]",
      "text/plain": [
       "<PIL.PngImagePlugin.PngImageFile image mode=RGB size=400x400>"
      ]
     },
     "execution_count": 39,
     "metadata": {},
     "output_type": "execute_result"
    }
   ],
   "source": [
    "x=\"CC(C)(C)C1=CC=C(C=C1)C(=O)CCCN1CCC(CC1)OC(C1=CC=CC=C1)C1=CC=CC=C1\"\n",
    "draw_2d(x)"
   ]
  },
  {
   "cell_type": "code",
   "execution_count": 36,
   "metadata": {},
   "outputs": [
    {
     "data": {
      "application/3dmoljs_load.v0": "<div id=\"3dmolviewer_16838385829214253\"  style=\"position: relative; width: 400px; height: 400px\">\n        <p id=\"3dmolwarning_16838385829214253\" style=\"background-color:#ffcccc;color:black\">You appear to be running in JupyterLab (or JavaScript failed to load for some other reason).  You need to install the 3dmol extension: <br>\n        <tt>jupyter labextension install jupyterlab_3dmol</tt></p>\n        </div>\n<script>\n\nvar loadScriptAsync = function(uri){\n  return new Promise((resolve, reject) => {\n    //this is to ignore the existence of requirejs amd\n    var savedexports, savedmodule;\n    if (typeof exports !== 'undefined') savedexports = exports;\n    else exports = {}\n    if (typeof module !== 'undefined') savedmodule = module;\n    else module = {}\n\n    var tag = document.createElement('script');\n    tag.src = uri;\n    tag.async = true;\n    tag.onload = () => {\n        exports = savedexports;\n        module = savedmodule;\n        resolve();\n    };\n  var firstScriptTag = document.getElementsByTagName('script')[0];\n  firstScriptTag.parentNode.insertBefore(tag, firstScriptTag);\n});\n};\n\nif(typeof $3Dmolpromise === 'undefined') {\n$3Dmolpromise = null;\n  $3Dmolpromise = loadScriptAsync('https://cdnjs.cloudflare.com/ajax/libs/3Dmol/2.0.1/3Dmol-min.js');\n}\n\nvar viewer_16838385829214253 = null;\nvar warn = document.getElementById(\"3dmolwarning_16838385829214253\");\nif(warn) {\n    warn.parentNode.removeChild(warn);\n}\n$3Dmolpromise.then(function() {\nviewer_16838385829214253 = $3Dmol.createViewer(document.getElementById(\"3dmolviewer_16838385829214253\"),{backgroundColor:\"white\"});\nviewer_16838385829214253.zoomTo();\n\tviewer_16838385829214253.addModel(\"\\n     RDKit          3D\\n\\n 24 25  0  0  0  0  0  0  0  0999 V2000\\n    4.6332   -0.0532   -1.2545 O   0  0  0  0  0  1  0  0  0  0  0  0\\n    3.9487    0.3603   -0.1432 N   0  0  0  0  0  4  0  0  0  0  0  0\\n    4.4890    0.5314    0.9562 O   0  0  0  0  0  0  0  0  0  0  0  0\\n    2.6021    0.5981   -0.2438 O   0  0  0  0  0  0  0  0  0  0  0  0\\n    1.7039   -0.4977   -0.2484 C   0  0  2  0  0  0  0  0  0  0  0  0\\n    0.8972   -0.4933   -1.5412 C   0  0  0  0  0  0  0  0  0  0  0  0\\n   -0.2147   -1.2322   -1.1987 O   0  0  0  0  0  0  0  0  0  0  0  0\\n   -0.5780   -0.9228    0.0855 C   0  0  2  0  0  0  0  0  0  0  0  0\\n   -1.5808    0.2085    0.1783 C   0  0  2  0  0  0  0  0  0  0  0  0\\n   -0.9944    0.9566    1.3835 C   0  0  0  0  0  0  0  0  0  0  0  0\\n    0.3433    1.0207    0.9795 O   0  0  0  0  0  0  0  0  0  0  0  0\\n    0.6214   -0.3422    0.7850 C   0  0  2  0  0  0  0  0  0  0  0  0\\n   -2.8544   -0.3069    0.4729 O   0  0  0  0  0  0  0  0  0  0  0  0\\n   -3.9748   -0.1155   -0.2585 N   0  0  0  0  0  4  0  0  0  0  0  0\\n   -5.1898   -0.1671    0.4107 O   0  0  0  0  0  1  0  0  0  0  0  0\\n   -4.0068    0.1034   -1.4828 O   0  0  0  0  0  0  0  0  0  0  0  0\\n    2.2343   -1.4531   -0.1657 H   0  0  0  0  0  0  0  0  0  0  0  0\\n    0.6197    0.5359   -1.8229 H   0  0  0  0  0  0  0  0  0  0  0  0\\n    1.4952   -1.0073   -2.3191 H   0  0  0  0  0  0  0  0  0  0  0  0\\n   -0.9981   -1.7796    0.6508 H   0  0  0  0  0  0  0  0  0  0  0  0\\n   -1.5379    0.8100   -0.7290 H   0  0  0  0  0  0  0  0  0  0  0  0\\n   -1.4495    1.9312    1.5311 H   0  0  0  0  0  0  0  0  0  0  0  0\\n   -1.0438    0.2756    2.2358 H   0  0  0  0  0  0  0  0  0  0  0  0\\n    0.8350   -0.8350    1.7387 H   0  0  0  0  0  0  0  0  0  0  0  0\\n  1  2  1  0\\n  2  3  2  0\\n  2  4  1  0\\n  4  5  1  0\\n  5  6  1  0\\n  6  7  1  0\\n  7  8  1  0\\n  8  9  1  0\\n  9 10  1  0\\n 10 11  1  0\\n 11 12  1  0\\n  9 13  1  0\\n 13 14  1  0\\n 14 15  1  0\\n 14 16  2  0\\n 12  5  1  0\\n 12  8  1  0\\n  5 17  1  1\\n  6 18  1  0\\n  6 19  1  0\\n  8 20  1  1\\n  9 21  1  6\\n 10 22  1  0\\n 10 23  1  0\\n 12 24  1  1\\nM  CHG  4   1  -1   2   1  14   1  15  -1\\nM  END\\n\",\"sdf\");\n\tviewer_16838385829214253.setStyle({\"stick\": {}});\n\tviewer_16838385829214253.setBackgroundColor(\"0xeeeeee\");\n\tviewer_16838385829214253.zoomTo();\nviewer_16838385829214253.render();\n});\n</script>",
      "text/html": [
       "<div id=\"3dmolviewer_16838385829214253\"  style=\"position: relative; width: 400px; height: 400px\">\n",
       "        <p id=\"3dmolwarning_16838385829214253\" style=\"background-color:#ffcccc;color:black\">You appear to be running in JupyterLab (or JavaScript failed to load for some other reason).  You need to install the 3dmol extension: <br>\n",
       "        <tt>jupyter labextension install jupyterlab_3dmol</tt></p>\n",
       "        </div>\n",
       "<script>\n",
       "\n",
       "var loadScriptAsync = function(uri){\n",
       "  return new Promise((resolve, reject) => {\n",
       "    //this is to ignore the existence of requirejs amd\n",
       "    var savedexports, savedmodule;\n",
       "    if (typeof exports !== 'undefined') savedexports = exports;\n",
       "    else exports = {}\n",
       "    if (typeof module !== 'undefined') savedmodule = module;\n",
       "    else module = {}\n",
       "\n",
       "    var tag = document.createElement('script');\n",
       "    tag.src = uri;\n",
       "    tag.async = true;\n",
       "    tag.onload = () => {\n",
       "        exports = savedexports;\n",
       "        module = savedmodule;\n",
       "        resolve();\n",
       "    };\n",
       "  var firstScriptTag = document.getElementsByTagName('script')[0];\n",
       "  firstScriptTag.parentNode.insertBefore(tag, firstScriptTag);\n",
       "});\n",
       "};\n",
       "\n",
       "if(typeof $3Dmolpromise === 'undefined') {\n",
       "$3Dmolpromise = null;\n",
       "  $3Dmolpromise = loadScriptAsync('https://cdnjs.cloudflare.com/ajax/libs/3Dmol/2.0.1/3Dmol-min.js');\n",
       "}\n",
       "\n",
       "var viewer_16838385829214253 = null;\n",
       "var warn = document.getElementById(\"3dmolwarning_16838385829214253\");\n",
       "if(warn) {\n",
       "    warn.parentNode.removeChild(warn);\n",
       "}\n",
       "$3Dmolpromise.then(function() {\n",
       "viewer_16838385829214253 = $3Dmol.createViewer(document.getElementById(\"3dmolviewer_16838385829214253\"),{backgroundColor:\"white\"});\n",
       "viewer_16838385829214253.zoomTo();\n",
       "\tviewer_16838385829214253.addModel(\"\\n     RDKit          3D\\n\\n 24 25  0  0  0  0  0  0  0  0999 V2000\\n    4.6332   -0.0532   -1.2545 O   0  0  0  0  0  1  0  0  0  0  0  0\\n    3.9487    0.3603   -0.1432 N   0  0  0  0  0  4  0  0  0  0  0  0\\n    4.4890    0.5314    0.9562 O   0  0  0  0  0  0  0  0  0  0  0  0\\n    2.6021    0.5981   -0.2438 O   0  0  0  0  0  0  0  0  0  0  0  0\\n    1.7039   -0.4977   -0.2484 C   0  0  2  0  0  0  0  0  0  0  0  0\\n    0.8972   -0.4933   -1.5412 C   0  0  0  0  0  0  0  0  0  0  0  0\\n   -0.2147   -1.2322   -1.1987 O   0  0  0  0  0  0  0  0  0  0  0  0\\n   -0.5780   -0.9228    0.0855 C   0  0  2  0  0  0  0  0  0  0  0  0\\n   -1.5808    0.2085    0.1783 C   0  0  2  0  0  0  0  0  0  0  0  0\\n   -0.9944    0.9566    1.3835 C   0  0  0  0  0  0  0  0  0  0  0  0\\n    0.3433    1.0207    0.9795 O   0  0  0  0  0  0  0  0  0  0  0  0\\n    0.6214   -0.3422    0.7850 C   0  0  2  0  0  0  0  0  0  0  0  0\\n   -2.8544   -0.3069    0.4729 O   0  0  0  0  0  0  0  0  0  0  0  0\\n   -3.9748   -0.1155   -0.2585 N   0  0  0  0  0  4  0  0  0  0  0  0\\n   -5.1898   -0.1671    0.4107 O   0  0  0  0  0  1  0  0  0  0  0  0\\n   -4.0068    0.1034   -1.4828 O   0  0  0  0  0  0  0  0  0  0  0  0\\n    2.2343   -1.4531   -0.1657 H   0  0  0  0  0  0  0  0  0  0  0  0\\n    0.6197    0.5359   -1.8229 H   0  0  0  0  0  0  0  0  0  0  0  0\\n    1.4952   -1.0073   -2.3191 H   0  0  0  0  0  0  0  0  0  0  0  0\\n   -0.9981   -1.7796    0.6508 H   0  0  0  0  0  0  0  0  0  0  0  0\\n   -1.5379    0.8100   -0.7290 H   0  0  0  0  0  0  0  0  0  0  0  0\\n   -1.4495    1.9312    1.5311 H   0  0  0  0  0  0  0  0  0  0  0  0\\n   -1.0438    0.2756    2.2358 H   0  0  0  0  0  0  0  0  0  0  0  0\\n    0.8350   -0.8350    1.7387 H   0  0  0  0  0  0  0  0  0  0  0  0\\n  1  2  1  0\\n  2  3  2  0\\n  2  4  1  0\\n  4  5  1  0\\n  5  6  1  0\\n  6  7  1  0\\n  7  8  1  0\\n  8  9  1  0\\n  9 10  1  0\\n 10 11  1  0\\n 11 12  1  0\\n  9 13  1  0\\n 13 14  1  0\\n 14 15  1  0\\n 14 16  2  0\\n 12  5  1  0\\n 12  8  1  0\\n  5 17  1  1\\n  6 18  1  0\\n  6 19  1  0\\n  8 20  1  1\\n  9 21  1  6\\n 10 22  1  0\\n 10 23  1  0\\n 12 24  1  1\\nM  CHG  4   1  -1   2   1  14   1  15  -1\\nM  END\\n\",\"sdf\");\n",
       "\tviewer_16838385829214253.setStyle({\"stick\": {}});\n",
       "\tviewer_16838385829214253.setBackgroundColor(\"0xeeeeee\");\n",
       "\tviewer_16838385829214253.zoomTo();\n",
       "viewer_16838385829214253.render();\n",
       "});\n",
       "</script>"
      ]
     },
     "metadata": {},
     "output_type": "display_data"
    }
   ],
   "source": [
    "draw_3d(x)"
   ]
  },
  {
   "cell_type": "code",
   "execution_count": 41,
   "metadata": {},
   "outputs": [],
   "source": [
    "from tensorflow import keras\n",
    "model = keras.models.load_model('D:\\\\Phase II Project Work\\\\DRUG\\\\Drug_CNN\\\\DTI\\\\DTI.h5')"
   ]
  },
  {
   "cell_type": "code",
   "execution_count": 42,
   "metadata": {},
   "outputs": [
    {
     "name": "stdout",
     "output_type": "stream",
     "text": [
      "1/1 [==============================] - 0s 95ms/step\n",
      "1\n",
      "the drugs will interact with adenosine with probability \n"
     ]
    }
   ],
   "source": [
    "predict_output(x,model)"
   ]
  },
  {
   "cell_type": "code",
   "execution_count": 33,
   "metadata": {},
   "outputs": [
    {
     "name": "stdout",
     "output_type": "stream",
     "text": [
      "1/1 [==============================] - 0s 25ms/step\n",
      "0\n",
      "the drugs will not interact with adenosine\n"
     ]
    },
    {
     "name": "stderr",
     "output_type": "stream",
     "text": [
      "C:\\Users\\Abhishek Sinha\\AppData\\Local\\Temp\\ipykernel_9404\\1408840982.py:7: DeprecationWarning: The binary mode of fromstring is deprecated, as it behaves surprisingly on unicode inputs. Use frombuffer instead\n",
      "  return np.fromstring(fingerprint.ToBitString(), dtype=np.uint8) - ord('0')\n"
     ]
    }
   ],
   "source": [
    "y=\"OCCN(CCO)C1=NC2=C(N=C(N=C2N2CCCCC2)N(CCO)CCO)C(=N1)N1CCCCC1\"\n",
    "predict_output(y,model)"
   ]
  }
 ],
 "metadata": {
  "kernelspec": {
   "display_name": "base",
   "language": "python",
   "name": "python3"
  },
  "language_info": {
   "codemirror_mode": {
    "name": "ipython",
    "version": 3
   },
   "file_extension": ".py",
   "mimetype": "text/x-python",
   "name": "python",
   "nbconvert_exporter": "python",
   "pygments_lexer": "ipython3",
   "version": "3.9.13"
  },
  "orig_nbformat": 4
 },
 "nbformat": 4,
 "nbformat_minor": 2
}
