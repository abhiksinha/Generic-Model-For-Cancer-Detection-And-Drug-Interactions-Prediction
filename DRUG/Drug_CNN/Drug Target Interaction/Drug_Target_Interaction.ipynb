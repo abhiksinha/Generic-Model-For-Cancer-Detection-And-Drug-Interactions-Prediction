{
 "cells": [
  {
   "cell_type": "code",
   "execution_count": 1,
   "metadata": {},
   "outputs": [],
   "source": [
    "import pandas as pd"
   ]
  },
  {
   "cell_type": "code",
   "execution_count": 2,
   "metadata": {},
   "outputs": [],
   "source": [
    "df=pd.read_csv(\"D:\\\\DRUG\\\\Drug_CNN\\\\data_for_gnn.tsv\",sep='\\t')"
   ]
  },
  {
   "cell_type": "code",
   "execution_count": 3,
   "metadata": {},
   "outputs": [
    {
     "data": {
      "text/html": [
       "<div>\n",
       "<style scoped>\n",
       "    .dataframe tbody tr th:only-of-type {\n",
       "        vertical-align: middle;\n",
       "    }\n",
       "\n",
       "    .dataframe tbody tr th {\n",
       "        vertical-align: top;\n",
       "    }\n",
       "\n",
       "    .dataframe thead th {\n",
       "        text-align: right;\n",
       "    }\n",
       "</style>\n",
       "<table border=\"1\" class=\"dataframe\">\n",
       "  <thead>\n",
       "    <tr style=\"text-align: right;\">\n",
       "      <th></th>\n",
       "      <th>smiles</th>\n",
       "      <th>interact_with_adenosine</th>\n",
       "    </tr>\n",
       "  </thead>\n",
       "  <tbody>\n",
       "    <tr>\n",
       "      <th>0</th>\n",
       "      <td>BrC1=C(NC2=NCCN2)C=CC2=NC=CN=C12</td>\n",
       "      <td>0</td>\n",
       "    </tr>\n",
       "    <tr>\n",
       "      <th>1</th>\n",
       "      <td>C#CC1=CC=CC(NC2=NC=NC3=C2C=C2OCCOCCOCCOC2=C3)=C1</td>\n",
       "      <td>0</td>\n",
       "    </tr>\n",
       "    <tr>\n",
       "      <th>2</th>\n",
       "      <td>C#CCN[C@@H]1CCC2=C1C=CC=C2</td>\n",
       "      <td>0</td>\n",
       "    </tr>\n",
       "    <tr>\n",
       "      <th>3</th>\n",
       "      <td>CC(C)(C)C1=CC=C(C=C1)C(=O)CCCN1CCC(CC1)OC(C1=C...</td>\n",
       "      <td>1</td>\n",
       "    </tr>\n",
       "    <tr>\n",
       "      <th>4</th>\n",
       "      <td>C(C1=NCCN1)C1=CC=CC2=CC=CC=C12</td>\n",
       "      <td>0</td>\n",
       "    </tr>\n",
       "  </tbody>\n",
       "</table>\n",
       "</div>"
      ],
      "text/plain": [
       "                                              smiles  interact_with_adenosine\n",
       "0                   BrC1=C(NC2=NCCN2)C=CC2=NC=CN=C12                        0\n",
       "1   C#CC1=CC=CC(NC2=NC=NC3=C2C=C2OCCOCCOCCOC2=C3)=C1                        0\n",
       "2                         C#CCN[C@@H]1CCC2=C1C=CC=C2                        0\n",
       "3  CC(C)(C)C1=CC=C(C=C1)C(=O)CCCN1CCC(CC1)OC(C1=C...                        1\n",
       "4                     C(C1=NCCN1)C1=CC=CC2=CC=CC=C12                        0"
      ]
     },
     "execution_count": 3,
     "metadata": {},
     "output_type": "execute_result"
    }
   ],
   "source": [
    "df.head()"
   ]
  },
  {
   "cell_type": "code",
   "execution_count": 4,
   "metadata": {},
   "outputs": [],
   "source": [
    "atoms={}\n",
    "i=0\n",
    "maxm=0\n",
    "for x in df['smiles']:\n",
    "    maxm=max(maxm,len(x))\n",
    "    for j in x:\n",
    "        if j not in atoms:\n",
    "            atoms[j]=i\n",
    "            i+=1\n"
   ]
  },
  {
   "cell_type": "code",
   "execution_count": 5,
   "metadata": {},
   "outputs": [
    {
     "data": {
      "text/plain": [
       "3821"
      ]
     },
     "execution_count": 5,
     "metadata": {},
     "output_type": "execute_result"
    }
   ],
   "source": [
    "maxm"
   ]
  },
  {
   "cell_type": "code",
   "execution_count": 6,
   "metadata": {},
   "outputs": [
    {
     "data": {
      "text/plain": [
       "36"
      ]
     },
     "execution_count": 6,
     "metadata": {},
     "output_type": "execute_result"
    }
   ],
   "source": [
    "len(atoms)"
   ]
  },
  {
   "cell_type": "code",
   "execution_count": 7,
   "metadata": {},
   "outputs": [],
   "source": [
    "# from collections import defaultdict\n",
    "\n",
    "# import numpy as np\n",
    "\n",
    "# from rdkit import Chem\n",
    "\n",
    "# import torch"
   ]
  },
  {
   "cell_type": "code",
   "execution_count": 8,
   "metadata": {},
   "outputs": [],
   "source": [
    "input_data=[]\n",
    "for x,y in zip(df['smiles'],df['interact_with_adenosine']):\n",
    "    tsr=[[0]*maxm for i in range(len(atoms))]\n",
    "    k=0\n",
    "    for j in x:\n",
    "        tsr[atoms[j]][k]=1\n",
    "        k+=1\n",
    "    input_data.append([tsr,y])\n"
   ]
  },
  {
   "cell_type": "code",
   "execution_count": 9,
   "metadata": {},
   "outputs": [],
   "source": [
    "import numpy as np"
   ]
  },
  {
   "cell_type": "code",
   "execution_count": 10,
   "metadata": {},
   "outputs": [],
   "source": [
    "def split_dataset(dataset, ratio):\n",
    "    \"\"\"Shuffle and split a dataset.\"\"\"\n",
    "    np.random.seed(1234)  # fix the seed for shuffle.\n",
    "    np.random.shuffle(dataset)\n",
    "    n = int(ratio * len(dataset))\n",
    "    return dataset[:n], dataset[n:]"
   ]
  },
  {
   "cell_type": "code",
   "execution_count": 11,
   "metadata": {},
   "outputs": [],
   "source": [
    "dataset_train, dataset_test=split_dataset(input_data,0.8)"
   ]
  },
  {
   "cell_type": "code",
   "execution_count": 12,
   "metadata": {},
   "outputs": [],
   "source": [
    "train_gen=np.array([np.array(x[0]).reshape(36,3821,1) for x in dataset_train])\n",
    "train_lab=np.array([x[1] for x in dataset_train])\n",
    "test_gen=np.array([np.array(x[0]).reshape(36,3821,1) for x in dataset_test])\n",
    "test_lab=np.array([x[1] for x in dataset_test])"
   ]
  },
  {
   "cell_type": "code",
   "execution_count": 13,
   "metadata": {},
   "outputs": [
    {
     "name": "stdout",
     "output_type": "stream",
     "text": [
      "WARNING:tensorflow:Please fix your imports. Module tensorflow.python.training.tracking.autotrackable has been moved to tensorflow.python.trackable.autotrackable. The old module will be deleted in version 2.11.\n",
      "WARNING:tensorflow:Please fix your imports. Module tensorflow.python.training.tracking.base has been moved to tensorflow.python.trackable.base. The old module will be deleted in version 2.11.\n",
      "WARNING:tensorflow:Please fix your imports. Module tensorflow.python.training.tracking.base_delegate has been moved to tensorflow.python.trackable.base_delegate. The old module will be deleted in version 2.11.\n",
      "WARNING:tensorflow:Please fix your imports. Module tensorflow.python.training.tracking.data_structures has been moved to tensorflow.python.trackable.data_structures. The old module will be deleted in version 2.11.\n",
      "WARNING:tensorflow:Please fix your imports. Module tensorflow.python.training.tracking.graph_view has been moved to tensorflow.python.checkpoint.graph_view. The old module will be deleted in version 2.11.\n",
      "WARNING:tensorflow:Please fix your imports. Module tensorflow.python.training.tracking.util has been moved to tensorflow.python.checkpoint.checkpoint. The old module will be deleted in version 2.11.\n",
      "WARNING:tensorflow:Please fix your imports. Module tensorflow.python.training.checkpoint_management has been moved to tensorflow.python.checkpoint.checkpoint_management. The old module will be deleted in version 2.9.\n",
      "WARNING:tensorflow:Please fix your imports. Module tensorflow.python.training.tracking.resource has been moved to tensorflow.python.trackable.resource. The old module will be deleted in version 2.11.\n",
      "WARNING:tensorflow:Please fix your imports. Module tensorflow.python.training.tracking.asset has been moved to tensorflow.python.trackable.asset. The old module will be deleted in version 2.11.\n",
      "WARNING:tensorflow:Please fix your imports. Module tensorflow.python.training.tracking.python_state has been moved to tensorflow.python.trackable.python_state. The old module will be deleted in version 2.11.\n",
      "WARNING:tensorflow:Please fix your imports. Module tensorflow.python.training.saving.checkpoint_options has been moved to tensorflow.python.checkpoint.checkpoint_options. The old module will be deleted in version 2.11.\n"
     ]
    }
   ],
   "source": [
    "from tensorflow.keras.utils import to_categorical\n",
    "train_lab=to_categorical(train_lab,2)\n",
    "test_lab=to_categorical(test_lab,2)"
   ]
  },
  {
   "cell_type": "code",
   "execution_count": 14,
   "metadata": {},
   "outputs": [
    {
     "data": {
      "text/plain": [
       "(36, 3821, 1)"
      ]
     },
     "execution_count": 14,
     "metadata": {},
     "output_type": "execute_result"
    }
   ],
   "source": [
    "train_gen[0].shape"
   ]
  },
  {
   "cell_type": "code",
   "execution_count": 15,
   "metadata": {},
   "outputs": [],
   "source": [
    "from tensorflow.keras.callbacks import ModelCheckpoint, EarlyStopping\n",
    "es= EarlyStopping(monitor=\"accuracy\",min_delta=0.04,patience=6,verbose=1,mode='auto')\n",
    "mc=ModelCheckpoint(monitor=\"accuracy\",filepath=\"D:\\Phase II Project Work\\DRUG\\Drug_CNN\\DTI\\DTI.h5\",verbose=1,save_best_only=True,mode='auto')\n",
    "cd=[es,mc]"
   ]
  },
  {
   "cell_type": "code",
   "execution_count": 16,
   "metadata": {},
   "outputs": [],
   "source": [
    "import numpy as np\n",
    "import pandas as pd\n",
    "import matplotlib.pyplot as plt\n",
    "from tensorflow.keras.layers import Conv2D,MaxPool2D,Dropout,Flatten,Dense,BatchNormalization,GlobalAvgPool2D,GaussianNoise,GlobalAveragePooling2D\n",
    "from tensorflow.keras.models import Sequential\n",
    "from tensorflow.keras.preprocessing.image import ImageDataGenerator"
   ]
  },
  {
   "cell_type": "code",
   "execution_count": 17,
   "metadata": {},
   "outputs": [
    {
     "name": "stdout",
     "output_type": "stream",
     "text": [
      "1 Physical GPUs, 1 Logical GPUs\n"
     ]
    }
   ],
   "source": [
    "import tensorflow as tf\n",
    "gpus = tf.config.list_physical_devices('GPU')\n",
    "if gpus:\n",
    "  # Restrict TensorFlow to only allocate 1GB of memory on the first GPU\n",
    "  try:\n",
    "    tf.config.set_logical_device_configuration(\n",
    "        gpus[0],\n",
    "        [tf.config.LogicalDeviceConfiguration(memory_limit=3072)])\n",
    "    logical_gpus = tf.config.list_logical_devices('GPU')\n",
    "    print(len(gpus), \"Physical GPUs,\", len(logical_gpus), \"Logical GPUs\")\n",
    "  except RuntimeError as e:\n",
    "    # Virtual devices must be set before GPUs have been initialized\n",
    "    print(e)"
   ]
  },
  {
   "cell_type": "code",
   "execution_count": 18,
   "metadata": {},
   "outputs": [
    {
     "data": {
      "text/plain": [
       "(1594, 36, 3821, 1)"
      ]
     },
     "execution_count": 18,
     "metadata": {},
     "output_type": "execute_result"
    }
   ],
   "source": [
    "train_gen.shape"
   ]
  },
  {
   "cell_type": "code",
   "execution_count": 19,
   "metadata": {},
   "outputs": [
    {
     "name": "stdout",
     "output_type": "stream",
     "text": [
      "Model: \"sequential\"\n",
      "_________________________________________________________________\n",
      " Layer (type)                Output Shape              Param #   \n",
      "=================================================================\n",
      " conv2d (Conv2D)             (None, 36, 3821, 64)      640       \n",
      "                                                                 \n",
      " max_pooling2d (MaxPooling2D  (None, 18, 1910, 64)     0         \n",
      " )                                                               \n",
      "                                                                 \n",
      " conv2d_1 (Conv2D)           (None, 16, 1908, 64)      36928     \n",
      "                                                                 \n",
      " max_pooling2d_1 (MaxPooling  (None, 8, 954, 64)       0         \n",
      " 2D)                                                             \n",
      "                                                                 \n",
      " conv2d_2 (Conv2D)           (None, 6, 952, 64)        36928     \n",
      "                                                                 \n",
      " flatten (Flatten)           (None, 365568)            0         \n",
      "                                                                 \n",
      " dense (Dense)               (None, 64)                23396416  \n",
      "                                                                 \n",
      " dense_1 (Dense)             (None, 2)                 130       \n",
      "                                                                 \n",
      "=================================================================\n",
      "Total params: 23,471,042\n",
      "Trainable params: 23,471,042\n",
      "Non-trainable params: 0\n",
      "_________________________________________________________________\n"
     ]
    }
   ],
   "source": [
    "import tensorflow as tf\n",
    "# base_model = tf.keras.applications.EfficientNetB2(weights='imagenet',input_shape=(256,256,1), include_top=False)\n",
    "# base_model = tf.keras.applications.resnet50.ResNet50(weights='imagenet', input_shape=(224,224,3), include_top=False)\n",
    "# with tf.device('/GPU:0'):\n",
    "model = Sequential()\n",
    "model.add(Conv2D(64, (3,3), activation='relu',padding='Same', input_shape=(36,3821,1)))\n",
    "model.add(MaxPool2D((2, 2)))\n",
    "model.add(Conv2D(64, kernel_size=3, activation='relu'))\n",
    "model.add(MaxPool2D((2, 2)))\n",
    "model.add(Conv2D(64, kernel_size=3, activation='relu'))\n",
    "model.add(Flatten())\n",
    "model.add(Dense(64, activation='relu'))\n",
    "model.add(Dense(2, activation='softmax'))\n",
    "model.summary()"
   ]
  },
  {
   "cell_type": "code",
   "execution_count": 20,
   "metadata": {},
   "outputs": [],
   "source": [
    "model.compile(loss='categorical_crossentropy',\n",
    "              optimizer='adam',\n",
    "              metrics=['accuracy','Precision','Recall'])"
   ]
  },
  {
   "cell_type": "code",
   "execution_count": 21,
   "metadata": {},
   "outputs": [
    {
     "name": "stdout",
     "output_type": "stream",
     "text": [
      "Epoch 1/8\n",
      "100/100 [==============================] - ETA: 0s - loss: 0.6168 - accuracy: 0.6662 - precision: 0.6662 - recall: 0.6662\n",
      "Epoch 1: accuracy improved from -inf to 0.66625, saving model to D:\\Phase II Project Work\\DRUG\\Drug_CNN\\DTI\\DTI.h5\n",
      "100/100 [==============================] - 38s 268ms/step - loss: 0.6168 - accuracy: 0.6662 - precision: 0.6662 - recall: 0.6662 - val_loss: 0.5511 - val_accuracy: 0.7143 - val_precision: 0.7143 - val_recall: 0.7143\n",
      "Epoch 2/8\n",
      "100/100 [==============================] - ETA: 0s - loss: 0.4171 - accuracy: 0.7917 - precision: 0.7917 - recall: 0.7917\n",
      "Epoch 2: accuracy improved from 0.66625 to 0.79172, saving model to D:\\Phase II Project Work\\DRUG\\Drug_CNN\\DTI\\DTI.h5\n",
      "100/100 [==============================] - 26s 257ms/step - loss: 0.4171 - accuracy: 0.7917 - precision: 0.7917 - recall: 0.7917 - val_loss: 0.2737 - val_accuracy: 0.8947 - val_precision: 0.8947 - val_recall: 0.8947\n",
      "Epoch 3/8\n",
      "100/100 [==============================] - ETA: 0s - loss: 0.1813 - accuracy: 0.9253 - precision: 0.9253 - recall: 0.9253\n",
      "Epoch 3: accuracy improved from 0.79172 to 0.92535, saving model to D:\\Phase II Project Work\\DRUG\\Drug_CNN\\DTI\\DTI.h5\n",
      "100/100 [==============================] - 25s 247ms/step - loss: 0.1813 - accuracy: 0.9253 - precision: 0.9253 - recall: 0.9253 - val_loss: 0.1258 - val_accuracy: 0.9624 - val_precision: 0.9624 - val_recall: 0.9624\n",
      "Epoch 4/8\n",
      "100/100 [==============================] - ETA: 0s - loss: 0.0710 - accuracy: 0.9787 - precision: 0.9787 - recall: 0.9787\n",
      "Epoch 4: accuracy improved from 0.92535 to 0.97867, saving model to D:\\Phase II Project Work\\DRUG\\Drug_CNN\\DTI\\DTI.h5\n",
      "100/100 [==============================] - 41s 409ms/step - loss: 0.0710 - accuracy: 0.9787 - precision: 0.9787 - recall: 0.9787 - val_loss: 0.1387 - val_accuracy: 0.9499 - val_precision: 0.9499 - val_recall: 0.9499\n",
      "Epoch 5/8\n",
      "100/100 [==============================] - ETA: 0s - loss: 0.0498 - accuracy: 0.9849 - precision: 0.9849 - recall: 0.9849\n",
      "Epoch 5: accuracy improved from 0.97867 to 0.98494, saving model to D:\\Phase II Project Work\\DRUG\\Drug_CNN\\DTI\\DTI.h5\n",
      "100/100 [==============================] - 36s 356ms/step - loss: 0.0498 - accuracy: 0.9849 - precision: 0.9849 - recall: 0.9849 - val_loss: 0.0697 - val_accuracy: 0.9774 - val_precision: 0.9774 - val_recall: 0.9774\n",
      "Epoch 6/8\n",
      "100/100 [==============================] - ETA: 0s - loss: 0.0310 - accuracy: 0.9912 - precision: 0.9912 - recall: 0.9912\n",
      "Epoch 6: accuracy improved from 0.98494 to 0.99122, saving model to D:\\Phase II Project Work\\DRUG\\Drug_CNN\\DTI\\DTI.h5\n",
      "100/100 [==============================] - 37s 370ms/step - loss: 0.0310 - accuracy: 0.9912 - precision: 0.9912 - recall: 0.9912 - val_loss: 0.0649 - val_accuracy: 0.9749 - val_precision: 0.9749 - val_recall: 0.9749\n",
      "Epoch 7/8\n",
      "100/100 [==============================] - ETA: 0s - loss: 0.0225 - accuracy: 0.9931 - precision: 0.9931 - recall: 0.9931\n",
      "Epoch 7: accuracy improved from 0.99122 to 0.99310, saving model to D:\\Phase II Project Work\\DRUG\\Drug_CNN\\DTI\\DTI.h5\n",
      "100/100 [==============================] - 34s 343ms/step - loss: 0.0225 - accuracy: 0.9931 - precision: 0.9931 - recall: 0.9931 - val_loss: 0.0784 - val_accuracy: 0.9749 - val_precision: 0.9749 - val_recall: 0.9749\n",
      "Epoch 8/8\n",
      "100/100 [==============================] - ETA: 0s - loss: 0.0229 - accuracy: 0.9931 - precision: 0.9931 - recall: 0.9931\n",
      "Epoch 8: accuracy did not improve from 0.99310\n",
      "100/100 [==============================] - 33s 331ms/step - loss: 0.0229 - accuracy: 0.9931 - precision: 0.9931 - recall: 0.9931 - val_loss: 0.0741 - val_accuracy: 0.9724 - val_precision: 0.9724 - val_recall: 0.9724\n"
     ]
    }
   ],
   "source": [
    "\n",
    "              \n",
    "hs=model.fit(\n",
    "    train_gen,\n",
    "    train_lab,\n",
    "    batch_size=16,\n",
    "    epochs=8,\n",
    "    verbose=1,  \n",
    "    validation_data=(test_gen,test_lab),\n",
    "    callbacks=cd\n",
    "    )\n"
   ]
  },
  {
   "cell_type": "code",
   "execution_count": 22,
   "metadata": {},
   "outputs": [
    {
     "data": {
      "image/png": "[encoded data removed]",
      "text/plain": [
       "<Figure size 640x480 with 1 Axes>"
      ]
     },
     "metadata": {},
     "output_type": "display_data"
    }
   ],
   "source": [
    "from matplotlib import pyplot as plt\n",
    "plt.plot(hs.history['accuracy'])\n",
    "plt.plot(hs.history['val_accuracy'])\n",
    "plt.title('model accuracy')\n",
    "plt.ylabel('accuracy')\n",
    "plt.xlabel('epoch')\n",
    "plt.legend(['train', 'val'], loc='upper left')\n",
    "plt.show()"
   ]
  },
  {
   "cell_type": "code",
   "execution_count": 23,
   "metadata": {},
   "outputs": [],
   "source": [
    "import numpy as np\n",
    "def predict_output(x,model):\n",
    "    tsr=[[0]*maxm for i in range(36)]\n",
    "    k=0\n",
    "    for j in x:\n",
    "        tsr[atoms[j]][k]=1\n",
    "        k+=1\n",
    "    tsr=np.array(tsr).reshape(36,3821,1)\n",
    "    res=int(np.argmax(model.predict(np.array([tsr,]))))\n",
    "    print(res)\n",
    "    if(res==1):\n",
    "        print(\"the drugs will interact with adenosine \")\n",
    "    else:\n",
    "        print(\"the drugs will not interact with adenosine\" )"
   ]
  },
  {
   "cell_type": "code",
   "execution_count": 24,
   "metadata": {},
   "outputs": [],
   "source": [
    "import py3Dmol\n",
    "from rdkit import Chem\n",
    "from rdkit.Chem import AllChem\n",
    "from rdkit.Chem import Draw\n",
    "\n",
    "def draw_3d(mols):\n",
    "    \n",
    "    mol = Chem.MolFromSmiles(mols)\n",
    "    mol = Chem.AddHs(mol)\n",
    "    AllChem.EmbedMolecule(mol, AllChem.ETKDG())\n",
    "\n",
    "\n",
    "    mblock = Chem.MolToMolBlock(mol)\n",
    "    viewer = py3Dmol.view(width=400, height=400)\n",
    "    viewer.addModel(mblock, 'sdf')\n",
    "    viewer.setStyle({'stick':{}})\n",
    "    viewer.setBackgroundColor('0xeeeeee')\n",
    "    viewer.zoomTo()\n",
    "    viewer.show()\n",
    "\n",
    "def draw_2d(mols):\n",
    "     return Draw.MolToImage(Chem.MolFromSmiles(mols),size=(400,400))\n"
   ]
  },
  {
   "cell_type": "code",
   "execution_count": 25,
   "metadata": {},
   "outputs": [
    {
     "data": {
      "image/png": "[encoded data removed]",
      "text/plain": [
       "<PIL.PngImagePlugin.PngImageFile image mode=RGB size=400x400>"
      ]
     },
     "execution_count": 25,
     "metadata": {},
     "output_type": "execute_result"
    }
   ],
   "source": [
    "x=\"CC(C)(C)C1=CC=C(C=C1)C(=O)CCCN1CCC(CC1)OC(C1=CC=CC=C1)C1=CC=CC=C1\"\n",
    "draw_2d(x)"
   ]
  },
  {
   "cell_type": "code",
   "execution_count": 26,
   "metadata": {},
   "outputs": [
    {
     "data": {
      "application/3dmoljs_load.v0": "<div id=\"3dmolviewer_16838684504497585\"  style=\"position: relative; width: 400px; height: 400px\">\n        <p id=\"3dmolwarning_16838684504497585\" style=\"background-color:#ffcccc;color:black\">You appear to be running in JupyterLab (or JavaScript failed to load for some other reason).  You need to install the 3dmol extension: <br>\n        <tt>jupyter labextension install jupyterlab_3dmol</tt></p>\n        </div>\n<script>\n\nvar loadScriptAsync = function(uri){\n  return new Promise((resolve, reject) => {\n    //this is to ignore the existence of requirejs amd\n    var savedexports, savedmodule;\n    if (typeof exports !== 'undefined') savedexports = exports;\n    else exports = {}\n    if (typeof module !== 'undefined') savedmodule = module;\n    else module = {}\n\n    var tag = document.createElement('script');\n    tag.src = uri;\n    tag.async = true;\n    tag.onload = () => {\n        exports = savedexports;\n        module = savedmodule;\n        resolve();\n    };\n  var firstScriptTag = document.getElementsByTagName('script')[0];\n  firstScriptTag.parentNode.insertBefore(tag, firstScriptTag);\n});\n};\n\nif(typeof $3Dmolpromise === 'undefined') {\n$3Dmolpromise = null;\n  $3Dmolpromise = loadScriptAsync('https://cdnjs.cloudflare.com/ajax/libs/3Dmol/2.0.1/3Dmol-min.js');\n}\n\nvar viewer_16838684504497585 = null;\nvar warn = document.getElementById(\"3dmolwarning_16838684504497585\");\nif(warn) {\n    warn.parentNode.removeChild(warn);\n}\n$3Dmolpromise.then(function() {\nviewer_16838684504497585 = $3Dmol.createViewer(document.getElementById(\"3dmolviewer_16838684504497585\"),{backgroundColor:\"white\"});\nviewer_16838684504497585.zoomTo();\n\tviewer_16838684504497585.addModel(\"\\n     RDKit          3D\\n\\n 74 77  0  0  0  0  0  0  0  0999 V2000\\n    9.4503    1.5763   -0.2505 C   0  0  0  0  0  0  0  0  0  0  0  0\\n    8.7399    0.9954    0.9821 C   0  0  0  0  0  0  0  0  0  0  0  0\\n    8.7289    2.0209    2.0685 C   0  0  0  0  0  0  0  0  0  0  0  0\\n    9.5172   -0.2302    1.3816 C   0  0  0  0  0  0  0  0  0  0  0  0\\n    7.3910    0.6063    0.4992 C   0  0  0  0  0  0  0  0  0  0  0  0\\n    6.9717   -0.7030    0.4954 C   0  0  0  0  0  0  0  0  0  0  0  0\\n    5.7013   -1.0697    0.0210 C   0  0  0  0  0  0  0  0  0  0  0  0\\n    4.8328   -0.1419   -0.4536 C   0  0  0  0  0  0  0  0  0  0  0  0\\n    5.2530    1.2004   -0.4537 C   0  0  0  0  0  0  0  0  0  0  0  0\\n    6.4995    1.5484    0.0137 C   0  0  0  0  0  0  0  0  0  0  0  0\\n    3.5031   -0.4689   -0.9993 C   0  0  0  0  0  0  0  0  0  0  0  0\\n    2.7260    0.5156   -1.2836 O   0  0  0  0  0  0  0  0  0  0  0  0\\n    3.0289   -1.8217   -1.2326 C   0  0  0  0  0  0  0  0  0  0  0  0\\n    1.5898   -2.0377   -0.9214 C   0  0  0  0  0  0  0  0  0  0  0  0\\n    0.6175   -1.2029   -1.6426 C   0  0  0  0  0  0  0  0  0  0  0  0\\n   -0.7812   -1.6162   -1.3096 N   0  0  0  0  0  0  0  0  0  0  0  0\\n   -0.9985   -1.3414    0.0882 C   0  0  0  0  0  0  0  0  0  0  0  0\\n   -2.4666   -1.4098    0.4496 C   0  0  0  0  0  0  0  0  0  0  0  0\\n   -3.2889   -0.4178   -0.2969 C   0  0  0  0  0  0  0  0  0  0  0  0\\n   -2.9904   -0.5699   -1.7652 C   0  0  0  0  0  0  0  0  0  0  0  0\\n   -1.5957   -0.7885   -2.1585 C   0  0  0  0  0  0  0  0  0  0  0  0\\n   -4.6428   -0.7401   -0.1506 O   0  0  0  0  0  0  0  0  0  0  0  0\\n   -5.3056    0.3550    0.4186 C   0  0  0  0  0  0  0  0  0  0  0  0\\n   -6.2440   -0.0254    1.4788 C   0  0  0  0  0  0  0  0  0  0  0  0\\n   -7.4526    0.6646    1.5676 C   0  0  0  0  0  0  0  0  0  0  0  0\\n   -8.3843    0.3241    2.5175 C   0  0  0  0  0  0  0  0  0  0  0  0\\n   -8.1511   -0.7039    3.4035 C   0  0  0  0  0  0  0  0  0  0  0  0\\n   -6.9710   -1.3938    3.3335 C   0  0  0  0  0  0  0  0  0  0  0  0\\n   -6.0224   -1.0368    2.3581 C   0  0  0  0  0  0  0  0  0  0  0  0\\n   -6.1525    0.9198   -0.6962 C   0  0  0  0  0  0  0  0  0  0  0  0\\n   -6.9006    0.0710   -1.4612 C   0  0  0  0  0  0  0  0  0  0  0  0\\n   -7.6718    0.5601   -2.4852 C   0  0  0  0  0  0  0  0  0  0  0  0\\n   -7.7115    1.9052   -2.7645 C   0  0  0  0  0  0  0  0  0  0  0  0\\n   -6.9612    2.7813   -2.0009 C   0  0  0  0  0  0  0  0  0  0  0  0\\n   -6.1774    2.2603   -0.9580 C   0  0  0  0  0  0  0  0  0  0  0  0\\n    9.1043    0.9815   -1.1177 H   0  0  0  0  0  0  0  0  0  0  0  0\\n   10.5338    1.4687   -0.2070 H   0  0  0  0  0  0  0  0  0  0  0  0\\n    9.1171    2.6285   -0.4047 H   0  0  0  0  0  0  0  0  0  0  0  0\\n    8.2868    2.9692    1.7237 H   0  0  0  0  0  0  0  0  0  0  0  0\\n    9.7876    2.2310    2.3332 H   0  0  0  0  0  0  0  0  0  0  0  0\\n    8.1797    1.6373    2.9395 H   0  0  0  0  0  0  0  0  0  0  0  0\\n    9.5684   -0.9114    0.4777 H   0  0  0  0  0  0  0  0  0  0  0  0\\n    9.1124   -0.7164    2.2726 H   0  0  0  0  0  0  0  0  0  0  0  0\\n   10.5850    0.1036    1.5388 H   0  0  0  0  0  0  0  0  0  0  0  0\\n    7.6570   -1.4696    0.8804 H   0  0  0  0  0  0  0  0  0  0  0  0\\n    5.4395   -2.1218    0.0526 H   0  0  0  0  0  0  0  0  0  0  0  0\\n    4.5802    1.9349   -0.8260 H   0  0  0  0  0  0  0  0  0  0  0  0\\n    6.8289    2.5890    0.0182 H   0  0  0  0  0  0  0  0  0  0  0  0\\n    3.2448   -2.1107   -2.3154 H   0  0  0  0  0  0  0  0  0  0  0  0\\n    3.6780   -2.5259   -0.6356 H   0  0  0  0  0  0  0  0  0  0  0  0\\n    1.3646   -3.1406   -0.9980 H   0  0  0  0  0  0  0  0  0  0  0  0\\n    1.5289   -1.8815    0.2197 H   0  0  0  0  0  0  0  0  0  0  0  0\\n    0.7468   -1.3193   -2.7338 H   0  0  0  0  0  0  0  0  0  0  0  0\\n    0.7138   -0.1335   -1.3368 H   0  0  0  0  0  0  0  0  0  0  0  0\\n   -0.4555   -2.0115    0.7747 H   0  0  0  0  0  0  0  0  0  0  0  0\\n   -0.6552   -0.3125    0.2835 H   0  0  0  0  0  0  0  0  0  0  0  0\\n   -2.6099   -1.2977    1.5399 H   0  0  0  0  0  0  0  0  0  0  0  0\\n   -2.8654   -2.4309    0.2160 H   0  0  0  0  0  0  0  0  0  0  0  0\\n   -3.0818    0.6121    0.0654 H   0  0  0  0  0  0  0  0  0  0  0  0\\n   -3.6175   -1.4394   -2.1309 H   0  0  0  0  0  0  0  0  0  0  0  0\\n   -3.4397    0.3141   -2.2805 H   0  0  0  0  0  0  0  0  0  0  0  0\\n   -1.0988    0.2318   -2.1484 H   0  0  0  0  0  0  0  0  0  0  0  0\\n   -1.5642   -1.0870   -3.2240 H   0  0  0  0  0  0  0  0  0  0  0  0\\n   -4.5577    1.1170    0.6846 H   0  0  0  0  0  0  0  0  0  0  0  0\\n   -7.6396    1.4875    0.8556 H   0  0  0  0  0  0  0  0  0  0  0  0\\n   -9.3408    0.8779    2.5850 H   0  0  0  0  0  0  0  0  0  0  0  0\\n   -8.8871   -0.9892    4.1563 H   0  0  0  0  0  0  0  0  0  0  0  0\\n   -6.7390   -2.2063    3.9935 H   0  0  0  0  0  0  0  0  0  0  0  0\\n   -5.1008   -1.5869    2.3212 H   0  0  0  0  0  0  0  0  0  0  0  0\\n   -6.8924   -0.9842   -1.2633 H   0  0  0  0  0  0  0  0  0  0  0  0\\n   -8.2597   -0.1335   -3.0746 H   0  0  0  0  0  0  0  0  0  0  0  0\\n   -8.3402    2.2595   -3.5899 H   0  0  0  0  0  0  0  0  0  0  0  0\\n   -6.9959    3.8320   -2.2222 H   0  0  0  0  0  0  0  0  0  0  0  0\\n   -5.5972    2.9489   -0.3743 H   0  0  0  0  0  0  0  0  0  0  0  0\\n  1  2  1  0\\n  2  3  1  0\\n  2  4  1  0\\n  2  5  1  0\\n  5  6  2  0\\n  6  7  1  0\\n  7  8  2  0\\n  8  9  1  0\\n  9 10  2  0\\n  8 11  1  0\\n 11 12  2  0\\n 11 13  1  0\\n 13 14  1  0\\n 14 15  1  0\\n 15 16  1  0\\n 16 17  1  0\\n 17 18  1  0\\n 18 19  1  0\\n 19 20  1  0\\n 20 21  1  0\\n 19 22  1  0\\n 22 23  1  0\\n 23 24  1  0\\n 24 25  2  0\\n 25 26  1  0\\n 26 27  2  0\\n 27 28  1  0\\n 28 29  2  0\\n 23 30  1  0\\n 30 31  2  0\\n 31 32  1  0\\n 32 33  2  0\\n 33 34  1  0\\n 34 35  2  0\\n 10  5  1  0\\n 21 16  1  0\\n 29 24  1  0\\n 35 30  1  0\\n  1 36  1  0\\n  1 37  1  0\\n  1 38  1  0\\n  3 39  1  0\\n  3 40  1  0\\n  3 41  1  0\\n  4 42  1  0\\n  4 43  1  0\\n  4 44  1  0\\n  6 45  1  0\\n  7 46  1  0\\n  9 47  1  0\\n 10 48  1  0\\n 13 49  1  0\\n 13 50  1  0\\n 14 51  1  0\\n 14 52  1  0\\n 15 53  1  0\\n 15 54  1  0\\n 17 55  1  0\\n 17 56  1  0\\n 18 57  1  0\\n 18 58  1  0\\n 19 59  1  0\\n 20 60  1  0\\n 20 61  1  0\\n 21 62  1  0\\n 21 63  1  0\\n 23 64  1  0\\n 25 65  1  0\\n 26 66  1  0\\n 27 67  1  0\\n 28 68  1  0\\n 29 69  1  0\\n 31 70  1  0\\n 32 71  1  0\\n 33 72  1  0\\n 34 73  1  0\\n 35 74  1  0\\nM  END\\n\",\"sdf\");\n\tviewer_16838684504497585.setStyle({\"stick\": {}});\n\tviewer_16838684504497585.setBackgroundColor(\"0xeeeeee\");\n\tviewer_16838684504497585.zoomTo();\nviewer_16838684504497585.render();\n});\n</script>",
      "text/html": [
       "<div id=\"3dmolviewer_16838684504497585\"  style=\"position: relative; width: 400px; height: 400px\">\n",
       "        <p id=\"3dmolwarning_16838684504497585\" style=\"background-color:#ffcccc;color:black\">You appear to be running in JupyterLab (or JavaScript failed to load for some other reason).  You need to install the 3dmol extension: <br>\n",
       "        <tt>jupyter labextension install jupyterlab_3dmol</tt></p>\n",
       "        </div>\n",
       "<script>\n",
       "\n",
       "var loadScriptAsync = function(uri){\n",
       "  return new Promise((resolve, reject) => {\n",
       "    //this is to ignore the existence of requirejs amd\n",
       "    var savedexports, savedmodule;\n",
       "    if (typeof exports !== 'undefined') savedexports = exports;\n",
       "    else exports = {}\n",
       "    if (typeof module !== 'undefined') savedmodule = module;\n",
       "    else module = {}\n",
       "\n",
       "    var tag = document.createElement('script');\n",
       "    tag.src = uri;\n",
       "    tag.async = true;\n",
       "    tag.onload = () => {\n",
       "        exports = savedexports;\n",
       "        module = savedmodule;\n",
       "        resolve();\n",
       "    };\n",
       "  var firstScriptTag = document.getElementsByTagName('script')[0];\n",
       "  firstScriptTag.parentNode.insertBefore(tag, firstScriptTag);\n",
       "});\n",
       "};\n",
       "\n",
       "if(typeof $3Dmolpromise === 'undefined') {\n",
       "$3Dmolpromise = null;\n",
       "  $3Dmolpromise = loadScriptAsync('https://cdnjs.cloudflare.com/ajax/libs/3Dmol/2.0.1/3Dmol-min.js');\n",
       "}\n",
       "\n",
       "var viewer_16838684504497585 = null;\n",
       "var warn = document.getElementById(\"3dmolwarning_16838684504497585\");\n",
       "if(warn) {\n",
       "    warn.parentNode.removeChild(warn);\n",
       "}\n",
       "$3Dmolpromise.then(function() {\n",
       "viewer_16838684504497585 = $3Dmol.createViewer(document.getElementById(\"3dmolviewer_16838684504497585\"),{backgroundColor:\"white\"});\n",
       "viewer_16838684504497585.zoomTo();\n",
       "\tviewer_16838684504497585.addModel(\"\\n     RDKit          3D\\n\\n 74 77  0  0  0  0  0  0  0  0999 V2000\\n    9.4503    1.5763   -0.2505 C   0  0  0  0  0  0  0  0  0  0  0  0\\n    8.7399    0.9954    0.9821 C   0  0  0  0  0  0  0  0  0  0  0  0\\n    8.7289    2.0209    2.0685 C   0  0  0  0  0  0  0  0  0  0  0  0\\n    9.5172   -0.2302    1.3816 C   0  0  0  0  0  0  0  0  0  0  0  0\\n    7.3910    0.6063    0.4992 C   0  0  0  0  0  0  0  0  0  0  0  0\\n    6.9717   -0.7030    0.4954 C   0  0  0  0  0  0  0  0  0  0  0  0\\n    5.7013   -1.0697    0.0210 C   0  0  0  0  0  0  0  0  0  0  0  0\\n    4.8328   -0.1419   -0.4536 C   0  0  0  0  0  0  0  0  0  0  0  0\\n    5.2530    1.2004   -0.4537 C   0  0  0  0  0  0  0  0  0  0  0  0\\n    6.4995    1.5484    0.0137 C   0  0  0  0  0  0  0  0  0  0  0  0\\n    3.5031   -0.4689   -0.9993 C   0  0  0  0  0  0  0  0  0  0  0  0\\n    2.7260    0.5156   -1.2836 O   0  0  0  0  0  0  0  0  0  0  0  0\\n    3.0289   -1.8217   -1.2326 C   0  0  0  0  0  0  0  0  0  0  0  0\\n    1.5898   -2.0377   -0.9214 C   0  0  0  0  0  0  0  0  0  0  0  0\\n    0.6175   -1.2029   -1.6426 C   0  0  0  0  0  0  0  0  0  0  0  0\\n   -0.7812   -1.6162   -1.3096 N   0  0  0  0  0  0  0  0  0  0  0  0\\n   -0.9985   -1.3414    0.0882 C   0  0  0  0  0  0  0  0  0  0  0  0\\n   -2.4666   -1.4098    0.4496 C   0  0  0  0  0  0  0  0  0  0  0  0\\n   -3.2889   -0.4178   -0.2969 C   0  0  0  0  0  0  0  0  0  0  0  0\\n   -2.9904   -0.5699   -1.7652 C   0  0  0  0  0  0  0  0  0  0  0  0\\n   -1.5957   -0.7885   -2.1585 C   0  0  0  0  0  0  0  0  0  0  0  0\\n   -4.6428   -0.7401   -0.1506 O   0  0  0  0  0  0  0  0  0  0  0  0\\n   -5.3056    0.3550    0.4186 C   0  0  0  0  0  0  0  0  0  0  0  0\\n   -6.2440   -0.0254    1.4788 C   0  0  0  0  0  0  0  0  0  0  0  0\\n   -7.4526    0.6646    1.5676 C   0  0  0  0  0  0  0  0  0  0  0  0\\n   -8.3843    0.3241    2.5175 C   0  0  0  0  0  0  0  0  0  0  0  0\\n   -8.1511   -0.7039    3.4035 C   0  0  0  0  0  0  0  0  0  0  0  0\\n   -6.9710   -1.3938    3.3335 C   0  0  0  0  0  0  0  0  0  0  0  0\\n   -6.0224   -1.0368    2.3581 C   0  0  0  0  0  0  0  0  0  0  0  0\\n   -6.1525    0.9198   -0.6962 C   0  0  0  0  0  0  0  0  0  0  0  0\\n   -6.9006    0.0710   -1.4612 C   0  0  0  0  0  0  0  0  0  0  0  0\\n   -7.6718    0.5601   -2.4852 C   0  0  0  0  0  0  0  0  0  0  0  0\\n   -7.7115    1.9052   -2.7645 C   0  0  0  0  0  0  0  0  0  0  0  0\\n   -6.9612    2.7813   -2.0009 C   0  0  0  0  0  0  0  0  0  0  0  0\\n   -6.1774    2.2603   -0.9580 C   0  0  0  0  0  0  0  0  0  0  0  0\\n    9.1043    0.9815   -1.1177 H   0  0  0  0  0  0  0  0  0  0  0  0\\n   10.5338    1.4687   -0.2070 H   0  0  0  0  0  0  0  0  0  0  0  0\\n    9.1171    2.6285   -0.4047 H   0  0  0  0  0  0  0  0  0  0  0  0\\n    8.2868    2.9692    1.7237 H   0  0  0  0  0  0  0  0  0  0  0  0\\n    9.7876    2.2310    2.3332 H   0  0  0  0  0  0  0  0  0  0  0  0\\n    8.1797    1.6373    2.9395 H   0  0  0  0  0  0  0  0  0  0  0  0\\n    9.5684   -0.9114    0.4777 H   0  0  0  0  0  0  0  0  0  0  0  0\\n    9.1124   -0.7164    2.2726 H   0  0  0  0  0  0  0  0  0  0  0  0\\n   10.5850    0.1036    1.5388 H   0  0  0  0  0  0  0  0  0  0  0  0\\n    7.6570   -1.4696    0.8804 H   0  0  0  0  0  0  0  0  0  0  0  0\\n    5.4395   -2.1218    0.0526 H   0  0  0  0  0  0  0  0  0  0  0  0\\n    4.5802    1.9349   -0.8260 H   0  0  0  0  0  0  0  0  0  0  0  0\\n    6.8289    2.5890    0.0182 H   0  0  0  0  0  0  0  0  0  0  0  0\\n    3.2448   -2.1107   -2.3154 H   0  0  0  0  0  0  0  0  0  0  0  0\\n    3.6780   -2.5259   -0.6356 H   0  0  0  0  0  0  0  0  0  0  0  0\\n    1.3646   -3.1406   -0.9980 H   0  0  0  0  0  0  0  0  0  0  0  0\\n    1.5289   -1.8815    0.2197 H   0  0  0  0  0  0  0  0  0  0  0  0\\n    0.7468   -1.3193   -2.7338 H   0  0  0  0  0  0  0  0  0  0  0  0\\n    0.7138   -0.1335   -1.3368 H   0  0  0  0  0  0  0  0  0  0  0  0\\n   -0.4555   -2.0115    0.7747 H   0  0  0  0  0  0  0  0  0  0  0  0\\n   -0.6552   -0.3125    0.2835 H   0  0  0  0  0  0  0  0  0  0  0  0\\n   -2.6099   -1.2977    1.5399 H   0  0  0  0  0  0  0  0  0  0  0  0\\n   -2.8654   -2.4309    0.2160 H   0  0  0  0  0  0  0  0  0  0  0  0\\n   -3.0818    0.6121    0.0654 H   0  0  0  0  0  0  0  0  0  0  0  0\\n   -3.6175   -1.4394   -2.1309 H   0  0  0  0  0  0  0  0  0  0  0  0\\n   -3.4397    0.3141   -2.2805 H   0  0  0  0  0  0  0  0  0  0  0  0\\n   -1.0988    0.2318   -2.1484 H   0  0  0  0  0  0  0  0  0  0  0  0\\n   -1.5642   -1.0870   -3.2240 H   0  0  0  0  0  0  0  0  0  0  0  0\\n   -4.5577    1.1170    0.6846 H   0  0  0  0  0  0  0  0  0  0  0  0\\n   -7.6396    1.4875    0.8556 H   0  0  0  0  0  0  0  0  0  0  0  0\\n   -9.3408    0.8779    2.5850 H   0  0  0  0  0  0  0  0  0  0  0  0\\n   -8.8871   -0.9892    4.1563 H   0  0  0  0  0  0  0  0  0  0  0  0\\n   -6.7390   -2.2063    3.9935 H   0  0  0  0  0  0  0  0  0  0  0  0\\n   -5.1008   -1.5869    2.3212 H   0  0  0  0  0  0  0  0  0  0  0  0\\n   -6.8924   -0.9842   -1.2633 H   0  0  0  0  0  0  0  0  0  0  0  0\\n   -8.2597   -0.1335   -3.0746 H   0  0  0  0  0  0  0  0  0  0  0  0\\n   -8.3402    2.2595   -3.5899 H   0  0  0  0  0  0  0  0  0  0  0  0\\n   -6.9959    3.8320   -2.2222 H   0  0  0  0  0  0  0  0  0  0  0  0\\n   -5.5972    2.9489   -0.3743 H   0  0  0  0  0  0  0  0  0  0  0  0\\n  1  2  1  0\\n  2  3  1  0\\n  2  4  1  0\\n  2  5  1  0\\n  5  6  2  0\\n  6  7  1  0\\n  7  8  2  0\\n  8  9  1  0\\n  9 10  2  0\\n  8 11  1  0\\n 11 12  2  0\\n 11 13  1  0\\n 13 14  1  0\\n 14 15  1  0\\n 15 16  1  0\\n 16 17  1  0\\n 17 18  1  0\\n 18 19  1  0\\n 19 20  1  0\\n 20 21  1  0\\n 19 22  1  0\\n 22 23  1  0\\n 23 24  1  0\\n 24 25  2  0\\n 25 26  1  0\\n 26 27  2  0\\n 27 28  1  0\\n 28 29  2  0\\n 23 30  1  0\\n 30 31  2  0\\n 31 32  1  0\\n 32 33  2  0\\n 33 34  1  0\\n 34 35  2  0\\n 10  5  1  0\\n 21 16  1  0\\n 29 24  1  0\\n 35 30  1  0\\n  1 36  1  0\\n  1 37  1  0\\n  1 38  1  0\\n  3 39  1  0\\n  3 40  1  0\\n  3 41  1  0\\n  4 42  1  0\\n  4 43  1  0\\n  4 44  1  0\\n  6 45  1  0\\n  7 46  1  0\\n  9 47  1  0\\n 10 48  1  0\\n 13 49  1  0\\n 13 50  1  0\\n 14 51  1  0\\n 14 52  1  0\\n 15 53  1  0\\n 15 54  1  0\\n 17 55  1  0\\n 17 56  1  0\\n 18 57  1  0\\n 18 58  1  0\\n 19 59  1  0\\n 20 60  1  0\\n 20 61  1  0\\n 21 62  1  0\\n 21 63  1  0\\n 23 64  1  0\\n 25 65  1  0\\n 26 66  1  0\\n 27 67  1  0\\n 28 68  1  0\\n 29 69  1  0\\n 31 70  1  0\\n 32 71  1  0\\n 33 72  1  0\\n 34 73  1  0\\n 35 74  1  0\\nM  END\\n\",\"sdf\");\n",
       "\tviewer_16838684504497585.setStyle({\"stick\": {}});\n",
       "\tviewer_16838684504497585.setBackgroundColor(\"0xeeeeee\");\n",
       "\tviewer_16838684504497585.zoomTo();\n",
       "viewer_16838684504497585.render();\n",
       "});\n",
       "</script>"
      ]
     },
     "metadata": {},
     "output_type": "display_data"
    }
   ],
   "source": [
    "draw_3d(x)"
   ]
  },
  {
   "cell_type": "code",
   "execution_count": 27,
   "metadata": {},
   "outputs": [],
   "source": [
    "from tensorflow import keras\n",
    "model = keras.models.load_model('D:\\\\Phase II Project Work\\\\DRUG\\\\Drug_CNN\\\\DTI\\\\DTI.h5')"
   ]
  },
  {
   "cell_type": "code",
   "execution_count": 28,
   "metadata": {},
   "outputs": [
    {
     "name": "stdout",
     "output_type": "stream",
     "text": [
      "1/1 [==============================] - 0s 463ms/step\n",
      "1\n",
      "the drugs will interact with adenosine \n"
     ]
    }
   ],
   "source": [
    "predict_output(x,model)"
   ]
  },
  {
   "cell_type": "code",
   "execution_count": 29,
   "metadata": {},
   "outputs": [
    {
     "name": "stdout",
     "output_type": "stream",
     "text": [
      "1/1 [==============================] - 0s 34ms/step\n",
      "0\n",
      "the drugs will not interact with adenosine\n"
     ]
    }
   ],
   "source": [
    "y=\"CC(C)(CO)C1=CC2=C(C=C(F)C(NC(=O)C3(CC3)C3=CC=C4OC(F)(F)OC4=C3)=C2)N1C[C@@H](O)CO\"\n",
    "predict_output(y,model)"
   ]
  }
 ],
 "metadata": {
  "kernelspec": {
   "display_name": "base",
   "language": "python",
   "name": "python3"
  },
  "language_info": {
   "codemirror_mode": {
    "name": "ipython",
    "version": 3
   },
   "file_extension": ".py",
   "mimetype": "text/x-python",
   "name": "python",
   "nbconvert_exporter": "python",
   "pygments_lexer": "ipython3",
   "version": "3.9.13"
  },
  "orig_nbformat": 4
 },
 "nbformat": 4,
 "nbformat_minor": 2
}
