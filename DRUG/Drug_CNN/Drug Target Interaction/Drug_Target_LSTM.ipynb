{
 "cells": [
  {
   "cell_type": "code",
   "execution_count": 1,
   "metadata": {},
   "outputs": [],
   "source": [
    "import pandas as pd"
   ]
  },
  {
   "cell_type": "code",
   "execution_count": 2,
   "metadata": {},
   "outputs": [],
   "source": [
    "df=pd.read_csv(\"D:\\\\DRUG\\\\Drug_CNN\\\\data_for_gnn.tsv\",sep='\\t')"
   ]
  },
  {
   "cell_type": "code",
   "execution_count": 3,
   "metadata": {},
   "outputs": [
    {
     "data": {
      "text/html": [
       "<div>\n",
       "<style scoped>\n",
       "    .dataframe tbody tr th:only-of-type {\n",
       "        vertical-align: middle;\n",
       "    }\n",
       "\n",
       "    .dataframe tbody tr th {\n",
       "        vertical-align: top;\n",
       "    }\n",
       "\n",
       "    .dataframe thead th {\n",
       "        text-align: right;\n",
       "    }\n",
       "</style>\n",
       "<table border=\"1\" class=\"dataframe\">\n",
       "  <thead>\n",
       "    <tr style=\"text-align: right;\">\n",
       "      <th></th>\n",
       "      <th>smiles</th>\n",
       "      <th>interact_with_adenosine</th>\n",
       "    </tr>\n",
       "  </thead>\n",
       "  <tbody>\n",
       "    <tr>\n",
       "      <th>0</th>\n",
       "      <td>BrC1=C(NC2=NCCN2)C=CC2=NC=CN=C12</td>\n",
       "      <td>0</td>\n",
       "    </tr>\n",
       "    <tr>\n",
       "      <th>1</th>\n",
       "      <td>C#CC1=CC=CC(NC2=NC=NC3=C2C=C2OCCOCCOCCOC2=C3)=C1</td>\n",
       "      <td>0</td>\n",
       "    </tr>\n",
       "    <tr>\n",
       "      <th>2</th>\n",
       "      <td>C#CCN[C@@H]1CCC2=C1C=CC=C2</td>\n",
       "      <td>0</td>\n",
       "    </tr>\n",
       "    <tr>\n",
       "      <th>3</th>\n",
       "      <td>CC(C)(C)C1=CC=C(C=C1)C(=O)CCCN1CCC(CC1)OC(C1=C...</td>\n",
       "      <td>1</td>\n",
       "    </tr>\n",
       "    <tr>\n",
       "      <th>4</th>\n",
       "      <td>C(C1=NCCN1)C1=CC=CC2=CC=CC=C12</td>\n",
       "      <td>0</td>\n",
       "    </tr>\n",
       "  </tbody>\n",
       "</table>\n",
       "</div>"
      ],
      "text/plain": [
       "                                              smiles  interact_with_adenosine\n",
       "0                   BrC1=C(NC2=NCCN2)C=CC2=NC=CN=C12                        0\n",
       "1   C#CC1=CC=CC(NC2=NC=NC3=C2C=C2OCCOCCOCCOC2=C3)=C1                        0\n",
       "2                         C#CCN[C@@H]1CCC2=C1C=CC=C2                        0\n",
       "3  CC(C)(C)C1=CC=C(C=C1)C(=O)CCCN1CCC(CC1)OC(C1=C...                        1\n",
       "4                     C(C1=NCCN1)C1=CC=CC2=CC=CC=C12                        0"
      ]
     },
     "execution_count": 3,
     "metadata": {},
     "output_type": "execute_result"
    }
   ],
   "source": [
    "df.head()"
   ]
  },
  {
   "cell_type": "code",
   "execution_count": 4,
   "metadata": {},
   "outputs": [],
   "source": [
    "input_data=[]\n",
    "for x,y in zip(df['smiles'],df['interact_with_adenosine']):\n",
    "    input_data.append([x,y])\n"
   ]
  },
  {
   "cell_type": "code",
   "execution_count": 5,
   "metadata": {},
   "outputs": [],
   "source": [
    "import numpy as np"
   ]
  },
  {
   "cell_type": "code",
   "execution_count": 6,
   "metadata": {},
   "outputs": [],
   "source": [
    "def split_dataset(dataset, ratio):\n",
    "    \"\"\"Shuffle and split a dataset.\"\"\"\n",
    "    np.random.seed(1234)  # fix the seed for shuffle.\n",
    "    np.random.shuffle(dataset)\n",
    "    n = int(ratio * len(dataset))\n",
    "    return dataset[:n], dataset[n:]"
   ]
  },
  {
   "cell_type": "code",
   "execution_count": 7,
   "metadata": {},
   "outputs": [],
   "source": [
    "dataset_train, dataset_test=split_dataset(input_data,0.8)"
   ]
  },
  {
   "cell_type": "code",
   "execution_count": 8,
   "metadata": {},
   "outputs": [],
   "source": [
    "train_gen=[x[0] for x in input_data]\n",
    "train_lab=[x[1] for x in input_data]"
   ]
  },
  {
   "cell_type": "code",
   "execution_count": 62,
   "metadata": {},
   "outputs": [],
   "source": [
    "import numpy as np\n",
    "from keras.models import Sequential\n",
    "from keras.layers import LSTM, Dense\n",
    "from keras.preprocessing.text import Tokenizer\n",
    "from keras.utils import to_categorical\n",
    "from tensorflow.keras.preprocessing.sequence import pad_sequences\n",
    "tokenizer = Tokenizer(char_level=True)\n",
    "tokenizer.fit_on_texts(train_gen)\n",
    "sequences = tokenizer.texts_to_sequences(train_gen)\n",
    "\n",
    "# Pad the integer sequences to a fixed length\n",
    "padded_sequences = pad_sequences(sequences, maxlen=3000, padding='post', truncating='post')\n",
    "\n",
    "# Convert the labels to one-hot vectors\n",
    "one_hot_labels = to_categorical(train_lab)"
   ]
  },
  {
   "cell_type": "code",
   "execution_count": null,
   "metadata": {},
   "outputs": [],
   "source": []
  },
  {
   "cell_type": "code",
   "execution_count": 24,
   "metadata": {},
   "outputs": [
    {
     "data": {
      "text/plain": [
       "34"
      ]
     },
     "execution_count": 24,
     "metadata": {},
     "output_type": "execute_result"
    }
   ],
   "source": [
    "len(tokenizer.word_index)"
   ]
  },
  {
   "cell_type": "code",
   "execution_count": 60,
   "metadata": {},
   "outputs": [],
   "source": [
    "max_length=3000"
   ]
  },
  {
   "cell_type": "code",
   "execution_count": 66,
   "metadata": {},
   "outputs": [
    {
     "name": "stdout",
     "output_type": "stream",
     "text": [
      "Epoch 1/50\n",
      "50/50 [==============================] - 10s 160ms/step - loss: 0.6574 - accuracy: 0.6631 - val_loss: 0.6394 - val_accuracy: 0.6642\n",
      "Epoch 2/50\n",
      "50/50 [==============================] - 7s 149ms/step - loss: 0.6417 - accuracy: 0.6637 - val_loss: 0.6375 - val_accuracy: 0.6642\n",
      "Epoch 3/50\n",
      "50/50 [==============================] - 7s 149ms/step - loss: 0.6389 - accuracy: 0.6637 - val_loss: 0.6377 - val_accuracy: 0.6642\n",
      "Epoch 4/50\n",
      "50/50 [==============================] - 8s 151ms/step - loss: 0.6392 - accuracy: 0.6637 - val_loss: 0.6386 - val_accuracy: 0.6642\n",
      "Epoch 5/50\n",
      "50/50 [==============================] - 7s 149ms/step - loss: 0.6398 - accuracy: 0.6637 - val_loss: 0.6373 - val_accuracy: 0.6642\n",
      "Epoch 6/50\n",
      "50/50 [==============================] - 8s 152ms/step - loss: 0.6395 - accuracy: 0.6637 - val_loss: 0.6387 - val_accuracy: 0.6642\n",
      "Epoch 7/50\n",
      "50/50 [==============================] - 8s 150ms/step - loss: 0.6390 - accuracy: 0.6637 - val_loss: 0.6377 - val_accuracy: 0.6642\n",
      "Epoch 8/50\n",
      "50/50 [==============================] - 8s 153ms/step - loss: 0.6402 - accuracy: 0.6637 - val_loss: 0.6373 - val_accuracy: 0.6642\n",
      "Epoch 9/50\n",
      "50/50 [==============================] - 8s 157ms/step - loss: 0.6388 - accuracy: 0.6637 - val_loss: 0.6400 - val_accuracy: 0.6642\n",
      "Epoch 10/50\n",
      "50/50 [==============================] - 8s 152ms/step - loss: 0.6406 - accuracy: 0.6637 - val_loss: 0.6379 - val_accuracy: 0.6642\n",
      "Epoch 11/50\n",
      "50/50 [==============================] - 8s 152ms/step - loss: 0.6402 - accuracy: 0.6637 - val_loss: 0.6376 - val_accuracy: 0.6642\n",
      "Epoch 12/50\n",
      "50/50 [==============================] - 7s 150ms/step - loss: 0.6388 - accuracy: 0.6637 - val_loss: 0.6372 - val_accuracy: 0.6642\n",
      "Epoch 13/50\n",
      "50/50 [==============================] - 8s 152ms/step - loss: 0.6386 - accuracy: 0.6637 - val_loss: 0.6372 - val_accuracy: 0.6642\n",
      "Epoch 14/50\n",
      "50/50 [==============================] - 8s 153ms/step - loss: 0.6391 - accuracy: 0.6637 - val_loss: 0.6381 - val_accuracy: 0.6642\n",
      "Epoch 15/50\n",
      "50/50 [==============================] - 8s 151ms/step - loss: 0.6389 - accuracy: 0.6637 - val_loss: 0.6374 - val_accuracy: 0.6642\n",
      "Epoch 16/50\n",
      "50/50 [==============================] - 8s 153ms/step - loss: 0.6390 - accuracy: 0.6637 - val_loss: 0.6374 - val_accuracy: 0.6642\n",
      "Epoch 17/50\n",
      "50/50 [==============================] - 8s 155ms/step - loss: 0.6389 - accuracy: 0.6637 - val_loss: 0.6373 - val_accuracy: 0.6642\n",
      "Epoch 18/50\n",
      "50/50 [==============================] - 7s 149ms/step - loss: 0.6402 - accuracy: 0.6637 - val_loss: 0.6384 - val_accuracy: 0.6642\n",
      "Epoch 19/50\n",
      "50/50 [==============================] - 8s 151ms/step - loss: 0.6384 - accuracy: 0.6637 - val_loss: 0.6374 - val_accuracy: 0.6642\n",
      "Epoch 20/50\n",
      "50/50 [==============================] - 8s 152ms/step - loss: 0.6389 - accuracy: 0.6637 - val_loss: 0.6376 - val_accuracy: 0.6642\n",
      "Epoch 21/50\n",
      "50/50 [==============================] - 8s 152ms/step - loss: 0.6389 - accuracy: 0.6637 - val_loss: 0.6373 - val_accuracy: 0.6642\n",
      "Epoch 22/50\n",
      "50/50 [==============================] - 7s 150ms/step - loss: 0.6392 - accuracy: 0.6637 - val_loss: 0.6372 - val_accuracy: 0.6642\n",
      "Epoch 23/50\n",
      "50/50 [==============================] - 8s 153ms/step - loss: 0.6388 - accuracy: 0.6637 - val_loss: 0.6372 - val_accuracy: 0.6642\n",
      "Epoch 24/50\n",
      "50/50 [==============================] - 8s 150ms/step - loss: 0.6389 - accuracy: 0.6637 - val_loss: 0.6373 - val_accuracy: 0.6642\n",
      "Epoch 25/50\n",
      "50/50 [==============================] - 8s 152ms/step - loss: 0.6399 - accuracy: 0.6637 - val_loss: 0.6382 - val_accuracy: 0.6642\n",
      "Epoch 26/50\n",
      "50/50 [==============================] - 7s 149ms/step - loss: 0.6392 - accuracy: 0.6637 - val_loss: 0.6373 - val_accuracy: 0.6642\n",
      "Epoch 27/50\n",
      "50/50 [==============================] - 8s 150ms/step - loss: 0.6386 - accuracy: 0.6637 - val_loss: 0.6375 - val_accuracy: 0.6642\n",
      "Epoch 28/50\n",
      "50/50 [==============================] - 8s 152ms/step - loss: 0.6394 - accuracy: 0.6637 - val_loss: 0.6382 - val_accuracy: 0.6642\n",
      "Epoch 29/50\n",
      "50/50 [==============================] - 8s 155ms/step - loss: 0.6391 - accuracy: 0.6637 - val_loss: 0.6373 - val_accuracy: 0.6642\n",
      "Epoch 30/50\n",
      "50/50 [==============================] - 8s 155ms/step - loss: 0.6387 - accuracy: 0.6637 - val_loss: 0.6374 - val_accuracy: 0.6642\n",
      "Epoch 31/50\n",
      "50/50 [==============================] - 7s 149ms/step - loss: 0.6392 - accuracy: 0.6637 - val_loss: 0.6381 - val_accuracy: 0.6642\n",
      "Epoch 32/50\n",
      "50/50 [==============================] - 8s 152ms/step - loss: 0.6388 - accuracy: 0.6637 - val_loss: 0.6372 - val_accuracy: 0.6642\n",
      "Epoch 33/50\n",
      "50/50 [==============================] - 7s 149ms/step - loss: 0.6388 - accuracy: 0.6637 - val_loss: 0.6374 - val_accuracy: 0.6642\n",
      "Epoch 34/50\n",
      "50/50 [==============================] - 8s 151ms/step - loss: 0.6388 - accuracy: 0.6637 - val_loss: 0.6373 - val_accuracy: 0.6642\n",
      "Epoch 35/50\n",
      "50/50 [==============================] - 7s 150ms/step - loss: 0.6394 - accuracy: 0.6637 - val_loss: 0.6372 - val_accuracy: 0.6642\n",
      "Epoch 36/50\n",
      "50/50 [==============================] - 8s 151ms/step - loss: 0.6389 - accuracy: 0.6637 - val_loss: 0.6372 - val_accuracy: 0.6642\n",
      "Epoch 37/50\n",
      "50/50 [==============================] - 7s 150ms/step - loss: 0.6385 - accuracy: 0.6637 - val_loss: 0.6373 - val_accuracy: 0.6642\n",
      "Epoch 38/50\n",
      "50/50 [==============================] - 8s 151ms/step - loss: 0.6391 - accuracy: 0.6637 - val_loss: 0.6378 - val_accuracy: 0.6642\n",
      "Epoch 39/50\n",
      "50/50 [==============================] - 7s 150ms/step - loss: 0.6381 - accuracy: 0.6637 - val_loss: 0.6384 - val_accuracy: 0.6642\n",
      "Epoch 40/50\n",
      "50/50 [==============================] - 8s 152ms/step - loss: 0.6390 - accuracy: 0.6637 - val_loss: 0.6376 - val_accuracy: 0.6642\n",
      "Epoch 41/50\n",
      "50/50 [==============================] - 8s 154ms/step - loss: 0.6387 - accuracy: 0.6637 - val_loss: 0.6373 - val_accuracy: 0.6642\n",
      "Epoch 42/50\n",
      "50/50 [==============================] - 8s 152ms/step - loss: 0.6392 - accuracy: 0.6637 - val_loss: 0.6372 - val_accuracy: 0.6642\n",
      "Epoch 43/50\n",
      "50/50 [==============================] - 8s 156ms/step - loss: 0.6408 - accuracy: 0.6637 - val_loss: 0.6372 - val_accuracy: 0.6642\n",
      "Epoch 44/50\n",
      "50/50 [==============================] - 8s 153ms/step - loss: 0.6390 - accuracy: 0.6637 - val_loss: 0.6372 - val_accuracy: 0.6642\n",
      "Epoch 45/50\n",
      "50/50 [==============================] - 8s 150ms/step - loss: 0.6389 - accuracy: 0.6637 - val_loss: 0.6375 - val_accuracy: 0.6642\n",
      "Epoch 46/50\n",
      "50/50 [==============================] - 8s 151ms/step - loss: 0.6387 - accuracy: 0.6637 - val_loss: 0.6373 - val_accuracy: 0.6642\n",
      "Epoch 47/50\n",
      "50/50 [==============================] - 8s 151ms/step - loss: 0.6390 - accuracy: 0.6637 - val_loss: 0.6373 - val_accuracy: 0.6642\n",
      "Epoch 48/50\n",
      "50/50 [==============================] - 7s 150ms/step - loss: 0.6387 - accuracy: 0.6637 - val_loss: 0.6372 - val_accuracy: 0.6642\n",
      "Epoch 49/50\n",
      "50/50 [==============================] - 8s 153ms/step - loss: 0.6389 - accuracy: 0.6637 - val_loss: 0.6373 - val_accuracy: 0.6642\n",
      "Epoch 50/50\n",
      "50/50 [==============================] - 8s 152ms/step - loss: 0.6388 - accuracy: 0.6637 - val_loss: 0.6372 - val_accuracy: 0.6642\n"
     ]
    },
    {
     "data": {
      "text/plain": [
       "<keras.callbacks.History at 0x223a4477460>"
      ]
     },
     "execution_count": 66,
     "metadata": {},
     "output_type": "execute_result"
    }
   ],
   "source": [
    "model = Sequential()\n",
    "model.add(LSTM(128, input_shape=(max_length,1)))\n",
    "model.add(Dense(128, activation='relu'))\n",
    "model.add(Dense(len(one_hot_labels[0]), activation='softmax'))\n",
    "model.compile(loss='categorical_crossentropy', optimizer='adam', metrics=['accuracy'])\n",
    "\n",
    "# Train the model\n",
    "model.fit(padded_sequences, one_hot_labels, epochs=50, batch_size=32, validation_split=0.2)"
   ]
  },
  {
   "cell_type": "code",
   "execution_count": null,
   "metadata": {},
   "outputs": [],
   "source": [
    "from tensorflow.keras.callbacks import ModelCheckpoint, EarlyStopping\n",
    "es= EarlyStopping(monitor=\"accuracy\",min_delta=0.04,patience=6,verbose=1,mode='auto')\n",
    "mc=ModelCheckpoint(monitor=\"accuracy\",filepath=\"D:\\Phase II Project Work\\DRUG\\Drug_CNN\\DTI\\DTI.h5\",verbose=1,save_best_only=True,mode='auto')\n",
    "cd=[es,mc]"
   ]
  },
  {
   "cell_type": "code",
   "execution_count": 15,
   "metadata": {},
   "outputs": [],
   "source": [
    "import numpy as np\n",
    "import pandas as pd\n",
    "import matplotlib.pyplot as plt\n",
    "from tensorflow.keras.layers import Conv2D,MaxPool2D,Dropout,Flatten,Dense,BatchNormalization,GlobalAvgPool2D,GaussianNoise,GlobalAveragePooling2D\n",
    "from tensorflow.keras.models import Sequential\n",
    "from tensorflow.keras.preprocessing.image import ImageDataGenerator"
   ]
  },
  {
   "cell_type": "code",
   "execution_count": 16,
   "metadata": {},
   "outputs": [
    {
     "name": "stdout",
     "output_type": "stream",
     "text": [
      "1 Physical GPUs, 1 Logical GPUs\n"
     ]
    }
   ],
   "source": [
    "import tensorflow as tf\n",
    "gpus = tf.config.list_physical_devices('GPU')\n",
    "if gpus:\n",
    "  # Restrict TensorFlow to only allocate 1GB of memory on the first GPU\n",
    "  try:\n",
    "    tf.config.set_logical_device_configuration(\n",
    "        gpus[0],\n",
    "        [tf.config.LogicalDeviceConfiguration(memory_limit=3072)])\n",
    "    logical_gpus = tf.config.list_logical_devices('GPU')\n",
    "    print(len(gpus), \"Physical GPUs,\", len(logical_gpus), \"Logical GPUs\")\n",
    "  except RuntimeError as e:\n",
    "    # Virtual devices must be set before GPUs have been initialized\n",
    "    print(e)"
   ]
  },
  {
   "cell_type": "code",
   "execution_count": 18,
   "metadata": {},
   "outputs": [
    {
     "data": {
      "text/plain": [
       "(1395, 36, 3821, 1)"
      ]
     },
     "execution_count": 18,
     "metadata": {},
     "output_type": "execute_result"
    }
   ],
   "source": [
    "train_gen.shape"
   ]
  },
  {
   "cell_type": "code",
   "execution_count": 21,
   "metadata": {},
   "outputs": [
    {
     "name": "stdout",
     "output_type": "stream",
     "text": [
      "Model: \"sequential_1\"\n",
      "_________________________________________________________________\n",
      " Layer (type)                Output Shape              Param #   \n",
      "=================================================================\n",
      " conv2d_3 (Conv2D)           (None, 36, 3821, 64)      640       \n",
      "                                                                 \n",
      " max_pooling2d_2 (MaxPooling  (None, 18, 1910, 64)     0         \n",
      " 2D)                                                             \n",
      "                                                                 \n",
      " conv2d_4 (Conv2D)           (None, 16, 1908, 64)      36928     \n",
      "                                                                 \n",
      " max_pooling2d_3 (MaxPooling  (None, 8, 954, 64)       0         \n",
      " 2D)                                                             \n",
      "                                                                 \n",
      " conv2d_5 (Conv2D)           (None, 6, 952, 64)        36928     \n",
      "                                                                 \n",
      " flatten_1 (Flatten)         (None, 365568)            0         \n",
      "                                                                 \n",
      " dense_2 (Dense)             (None, 64)                23396416  \n",
      "                                                                 \n",
      " dense_3 (Dense)             (None, 2)                 130       \n",
      "                                                                 \n",
      "=================================================================\n",
      "Total params: 23,471,042\n",
      "Trainable params: 23,471,042\n",
      "Non-trainable params: 0\n",
      "_________________________________________________________________\n"
     ]
    }
   ],
   "source": [
    "import tensorflow as tf\n",
    "# base_model = tf.keras.applications.EfficientNetB2(weights='imagenet',input_shape=(256,256,1), include_top=False)\n",
    "# base_model = tf.keras.applications.resnet50.ResNet50(weights='imagenet', input_shape=(224,224,3), include_top=False)\n",
    "# with tf.device('/GPU:0'):\n",
    "model = Sequential()\n",
    "model.add(Conv2D(64, (3,3), activation='relu',padding='Same', input_shape=(36,3821,1)))\n",
    "model.add(MaxPool2D((2, 2)))\n",
    "model.add(Conv2D(64, kernel_size=3, activation='relu'))\n",
    "model.add(MaxPool2D((2, 2)))\n",
    "model.add(Conv2D(64, kernel_size=3, activation='relu'))\n",
    "model.add(Flatten())\n",
    "model.add(Dense(64, activation='relu'))\n",
    "model.add(Dense(2, activation='softmax'))\n",
    "model.summary()"
   ]
  },
  {
   "cell_type": "code",
   "execution_count": 22,
   "metadata": {},
   "outputs": [],
   "source": [
    "model.compile(loss='categorical_crossentropy',\n",
    "              optimizer='adam',\n",
    "              metrics=['accuracy','Precision','Recall'])"
   ]
  },
  {
   "cell_type": "code",
   "execution_count": 23,
   "metadata": {},
   "outputs": [
    {
     "name": "stdout",
     "output_type": "stream",
     "text": [
      "Epoch 1/8\n",
      "100/100 [==============================] - ETA: 0s - loss: 0.5754 - accuracy: 0.6995 - precision: 0.6995 - recall: 0.6995\n",
      "Epoch 1: accuracy improved from -inf to 0.69950, saving model to D:\\Phase II Project Work\\DRUG\\Drug_CNN\\DTI\\DTI.h5\n",
      "100/100 [==============================] - 32s 242ms/step - loss: 0.5754 - accuracy: 0.6995 - precision: 0.6995 - recall: 0.6995 - val_loss: 0.4495 - val_accuracy: 0.7519 - val_precision: 0.7519 - val_recall: 0.7519\n",
      "Epoch 2/8\n",
      "100/100 [==============================] - ETA: 0s - loss: 0.2811 - accuracy: 0.8777 - precision: 0.8777 - recall: 0.8777\n",
      "Epoch 2: accuracy improved from 0.69950 to 0.87767, saving model to D:\\Phase II Project Work\\DRUG\\Drug_CNN\\DTI\\DTI.h5\n",
      "100/100 [==============================] - 23s 230ms/step - loss: 0.2811 - accuracy: 0.8777 - precision: 0.8777 - recall: 0.8777 - val_loss: 0.2936 - val_accuracy: 0.8596 - val_precision: 0.8596 - val_recall: 0.8596\n",
      "Epoch 3/8\n",
      "100/100 [==============================] - ETA: 0s - loss: 0.1343 - accuracy: 0.9555 - precision: 0.9555 - recall: 0.9555\n",
      "Epoch 3: accuracy improved from 0.87767 to 0.95546, saving model to D:\\Phase II Project Work\\DRUG\\Drug_CNN\\DTI\\DTI.h5\n",
      "100/100 [==============================] - 25s 255ms/step - loss: 0.1343 - accuracy: 0.9555 - precision: 0.9555 - recall: 0.9555 - val_loss: 0.1354 - val_accuracy: 0.9449 - val_precision: 0.9449 - val_recall: 0.9449\n",
      "Epoch 4/8\n",
      "100/100 [==============================] - ETA: 0s - loss: 0.0519 - accuracy: 0.9856 - precision: 0.9856 - recall: 0.9856\n",
      "Epoch 4: accuracy improved from 0.95546 to 0.98557, saving model to D:\\Phase II Project Work\\DRUG\\Drug_CNN\\DTI\\DTI.h5\n",
      "100/100 [==============================] - 22s 223ms/step - loss: 0.0519 - accuracy: 0.9856 - precision: 0.9856 - recall: 0.9856 - val_loss: 0.1302 - val_accuracy: 0.9649 - val_precision: 0.9649 - val_recall: 0.9649\n",
      "Epoch 5/8\n",
      "100/100 [==============================] - ETA: 0s - loss: 0.0273 - accuracy: 0.9918 - precision: 0.9918 - recall: 0.9918\n",
      "Epoch 5: accuracy improved from 0.98557 to 0.99184, saving model to D:\\Phase II Project Work\\DRUG\\Drug_CNN\\DTI\\DTI.h5\n",
      "100/100 [==============================] - 22s 224ms/step - loss: 0.0273 - accuracy: 0.9918 - precision: 0.9918 - recall: 0.9918 - val_loss: 0.1626 - val_accuracy: 0.9674 - val_precision: 0.9674 - val_recall: 0.9674\n",
      "Epoch 6/8\n",
      "100/100 [==============================] - ETA: 0s - loss: 0.0235 - accuracy: 0.9944 - precision: 0.9944 - recall: 0.9944\n",
      "Epoch 6: accuracy improved from 0.99184 to 0.99435, saving model to D:\\Phase II Project Work\\DRUG\\Drug_CNN\\DTI\\DTI.h5\n",
      "100/100 [==============================] - 22s 225ms/step - loss: 0.0235 - accuracy: 0.9944 - precision: 0.9944 - recall: 0.9944 - val_loss: 0.1203 - val_accuracy: 0.9624 - val_precision: 0.9624 - val_recall: 0.9624\n",
      "Epoch 7/8\n",
      "100/100 [==============================] - ETA: 0s - loss: 0.0077 - accuracy: 0.9975 - precision: 0.9975 - recall: 0.9975\n",
      "Epoch 7: accuracy improved from 0.99435 to 0.99749, saving model to D:\\Phase II Project Work\\DRUG\\Drug_CNN\\DTI\\DTI.h5\n",
      "100/100 [==============================] - 31s 308ms/step - loss: 0.0077 - accuracy: 0.9975 - precision: 0.9975 - recall: 0.9975 - val_loss: 0.0831 - val_accuracy: 0.9799 - val_precision: 0.9799 - val_recall: 0.9799\n",
      "Epoch 8/8\n",
      "100/100 [==============================] - ETA: 0s - loss: 0.0139 - accuracy: 0.9969 - precision: 0.9969 - recall: 0.9969\n",
      "Epoch 8: accuracy did not improve from 0.99749\n",
      "100/100 [==============================] - 22s 215ms/step - loss: 0.0139 - accuracy: 0.9969 - precision: 0.9969 - recall: 0.9969 - val_loss: 0.0845 - val_accuracy: 0.9724 - val_precision: 0.9724 - val_recall: 0.9724\n"
     ]
    }
   ],
   "source": [
    "\n",
    "              \n",
    "hs=model.fit(\n",
    "    train_gen,\n",
    "    train_lab,\n",
    "    batch_size=16,\n",
    "    epochs=8,\n",
    "    verbose=1,  \n",
    "    validation_data=(test_gen,test_lab),\n",
    "    callbacks=cd\n",
    "    )\n"
   ]
  },
  {
   "cell_type": "code",
   "execution_count": 24,
   "metadata": {},
   "outputs": [
    {
     "data": {
      "image/png": "[encoded data removed]",
      "text/plain": [
       "<Figure size 640x480 with 1 Axes>"
      ]
     },
     "metadata": {},
     "output_type": "display_data"
    }
   ],
   "source": [
    "from matplotlib import pyplot as plt\n",
    "plt.plot(hs.history['accuracy'])\n",
    "plt.plot(hs.history['val_accuracy'])\n",
    "plt.title('model accuracy')\n",
    "plt.ylabel('accuracy')\n",
    "plt.xlabel('epoch')\n",
    "plt.legend(['train', 'val'], loc='upper left')\n",
    "plt.show()"
   ]
  },
  {
   "cell_type": "code",
   "execution_count": 33,
   "metadata": {},
   "outputs": [],
   "source": [
    "import numpy as np\n",
    "def predict_output(x,model):\n",
    "    tsr=[[0]*maxm for i in range(36)]\n",
    "    k=0\n",
    "    for j in x:\n",
    "        tsr[atoms[j]][k]=1\n",
    "        k+=1\n",
    "    tsr=np.array(tsr).reshape(36,3821,1)\n",
    "    res=int(np.argmax(model.predict(np.array([tsr,]))))\n",
    "    print(res)\n",
    "    if(res==1):\n",
    "        print(\"the drugs will interact with adenosine \")\n",
    "    else:\n",
    "        print(\"the drugs will not interact with adenosine\" )"
   ]
  },
  {
   "cell_type": "code",
   "execution_count": 38,
   "metadata": {},
   "outputs": [],
   "source": [
    "import py3Dmol\n",
    "from rdkit import Chem\n",
    "from rdkit.Chem import AllChem\n",
    "from rdkit.Chem import Draw\n",
    "\n",
    "def draw_3d(mols):\n",
    "    \n",
    "    mol = Chem.MolFromSmiles(mols)\n",
    "    mol = Chem.AddHs(mol)\n",
    "    AllChem.EmbedMolecule(mol, AllChem.ETKDG())\n",
    "\n",
    "\n",
    "    mblock = Chem.MolToMolBlock(mol)\n",
    "    viewer = py3Dmol.view(width=400, height=400)\n",
    "    viewer.addModel(mblock, 'sdf')\n",
    "    viewer.setStyle({'stick':{}})\n",
    "    viewer.setBackgroundColor('0xeeeeee')\n",
    "    viewer.zoomTo()\n",
    "    viewer.show()\n",
    "\n",
    "def draw_2d(mols):\n",
    "     return Draw.MolToImage(Chem.MolFromSmiles(mols),size=(400,400))\n"
   ]
  },
  {
   "cell_type": "code",
   "execution_count": 39,
   "metadata": {},
   "outputs": [
    {
     "data": {
      "image/png": "[encoded data removed]",
      "text/plain": [
       "<PIL.PngImagePlugin.PngImageFile image mode=RGB size=400x400>"
      ]
     },
     "execution_count": 39,
     "metadata": {},
     "output_type": "execute_result"
    }
   ],
   "source": [
    "x=\"CC(C)(C)C1=CC=C(C=C1)C(=O)CCCN1CCC(CC1)OC(C1=CC=CC=C1)C1=CC=CC=C1\"\n",
    "draw_2d(x)"
   ]
  },
  {
   "cell_type": "code",
   "execution_count": 40,
   "metadata": {},
   "outputs": [
    {
     "data": {
      "application/3dmoljs_load.v0": "<div id=\"3dmolviewer_16838370755319653\"  style=\"position: relative; width: 400px; height: 400px\">\n        <p id=\"3dmolwarning_16838370755319653\" style=\"background-color:#ffcccc;color:black\">You appear to be running in JupyterLab (or JavaScript failed to load for some other reason).  You need to install the 3dmol extension: <br>\n        <tt>jupyter labextension install jupyterlab_3dmol</tt></p>\n        </div>\n<script>\n\nvar loadScriptAsync = function(uri){\n  return new Promise((resolve, reject) => {\n    //this is to ignore the existence of requirejs amd\n    var savedexports, savedmodule;\n    if (typeof exports !== 'undefined') savedexports = exports;\n    else exports = {}\n    if (typeof module !== 'undefined') savedmodule = module;\n    else module = {}\n\n    var tag = document.createElement('script');\n    tag.src = uri;\n    tag.async = true;\n    tag.onload = () => {\n        exports = savedexports;\n        module = savedmodule;\n        resolve();\n    };\n  var firstScriptTag = document.getElementsByTagName('script')[0];\n  firstScriptTag.parentNode.insertBefore(tag, firstScriptTag);\n});\n};\n\nif(typeof $3Dmolpromise === 'undefined') {\n$3Dmolpromise = null;\n  $3Dmolpromise = loadScriptAsync('https://cdnjs.cloudflare.com/ajax/libs/3Dmol/2.0.1/3Dmol-min.js');\n}\n\nvar viewer_16838370755319653 = null;\nvar warn = document.getElementById(\"3dmolwarning_16838370755319653\");\nif(warn) {\n    warn.parentNode.removeChild(warn);\n}\n$3Dmolpromise.then(function() {\nviewer_16838370755319653 = $3Dmol.createViewer(document.getElementById(\"3dmolviewer_16838370755319653\"),{backgroundColor:\"white\"});\nviewer_16838370755319653.zoomTo();\n\tviewer_16838370755319653.addModel(\"\\n     RDKit          3D\\n\\n 74 77  0  0  0  0  0  0  0  0999 V2000\\n    9.4503    1.5763   -0.2505 C   0  0  0  0  0  0  0  0  0  0  0  0\\n    8.7399    0.9954    0.9821 C   0  0  0  0  0  0  0  0  0  0  0  0\\n    8.7289    2.0209    2.0685 C   0  0  0  0  0  0  0  0  0  0  0  0\\n    9.5172   -0.2302    1.3816 C   0  0  0  0  0  0  0  0  0  0  0  0\\n    7.3910    0.6063    0.4992 C   0  0  0  0  0  0  0  0  0  0  0  0\\n    6.9717   -0.7030    0.4954 C   0  0  0  0  0  0  0  0  0  0  0  0\\n    5.7013   -1.0697    0.0210 C   0  0  0  0  0  0  0  0  0  0  0  0\\n    4.8328   -0.1419   -0.4536 C   0  0  0  0  0  0  0  0  0  0  0  0\\n    5.2530    1.2004   -0.4537 C   0  0  0  0  0  0  0  0  0  0  0  0\\n    6.4995    1.5484    0.0137 C   0  0  0  0  0  0  0  0  0  0  0  0\\n    3.5031   -0.4689   -0.9993 C   0  0  0  0  0  0  0  0  0  0  0  0\\n    2.7260    0.5156   -1.2836 O   0  0  0  0  0  0  0  0  0  0  0  0\\n    3.0289   -1.8217   -1.2326 C   0  0  0  0  0  0  0  0  0  0  0  0\\n    1.5898   -2.0377   -0.9214 C   0  0  0  0  0  0  0  0  0  0  0  0\\n    0.6175   -1.2029   -1.6426 C   0  0  0  0  0  0  0  0  0  0  0  0\\n   -0.7812   -1.6162   -1.3096 N   0  0  0  0  0  0  0  0  0  0  0  0\\n   -0.9985   -1.3414    0.0882 C   0  0  0  0  0  0  0  0  0  0  0  0\\n   -2.4666   -1.4098    0.4496 C   0  0  0  0  0  0  0  0  0  0  0  0\\n   -3.2889   -0.4178   -0.2969 C   0  0  0  0  0  0  0  0  0  0  0  0\\n   -2.9904   -0.5699   -1.7652 C   0  0  0  0  0  0  0  0  0  0  0  0\\n   -1.5957   -0.7885   -2.1585 C   0  0  0  0  0  0  0  0  0  0  0  0\\n   -4.6428   -0.7401   -0.1506 O   0  0  0  0  0  0  0  0  0  0  0  0\\n   -5.3056    0.3550    0.4186 C   0  0  0  0  0  0  0  0  0  0  0  0\\n   -6.2440   -0.0254    1.4788 C   0  0  0  0  0  0  0  0  0  0  0  0\\n   -7.4526    0.6646    1.5676 C   0  0  0  0  0  0  0  0  0  0  0  0\\n   -8.3843    0.3241    2.5175 C   0  0  0  0  0  0  0  0  0  0  0  0\\n   -8.1511   -0.7039    3.4035 C   0  0  0  0  0  0  0  0  0  0  0  0\\n   -6.9710   -1.3938    3.3335 C   0  0  0  0  0  0  0  0  0  0  0  0\\n   -6.0224   -1.0368    2.3581 C   0  0  0  0  0  0  0  0  0  0  0  0\\n   -6.1525    0.9198   -0.6962 C   0  0  0  0  0  0  0  0  0  0  0  0\\n   -6.9006    0.0710   -1.4612 C   0  0  0  0  0  0  0  0  0  0  0  0\\n   -7.6718    0.5601   -2.4852 C   0  0  0  0  0  0  0  0  0  0  0  0\\n   -7.7115    1.9052   -2.7645 C   0  0  0  0  0  0  0  0  0  0  0  0\\n   -6.9612    2.7813   -2.0009 C   0  0  0  0  0  0  0  0  0  0  0  0\\n   -6.1774    2.2603   -0.9580 C   0  0  0  0  0  0  0  0  0  0  0  0\\n    9.1043    0.9815   -1.1177 H   0  0  0  0  0  0  0  0  0  0  0  0\\n   10.5338    1.4687   -0.2070 H   0  0  0  0  0  0  0  0  0  0  0  0\\n    9.1171    2.6285   -0.4047 H   0  0  0  0  0  0  0  0  0  0  0  0\\n    8.2868    2.9692    1.7237 H   0  0  0  0  0  0  0  0  0  0  0  0\\n    9.7876    2.2310    2.3332 H   0  0  0  0  0  0  0  0  0  0  0  0\\n    8.1797    1.6373    2.9395 H   0  0  0  0  0  0  0  0  0  0  0  0\\n    9.5684   -0.9114    0.4777 H   0  0  0  0  0  0  0  0  0  0  0  0\\n    9.1124   -0.7164    2.2726 H   0  0  0  0  0  0  0  0  0  0  0  0\\n   10.5850    0.1036    1.5388 H   0  0  0  0  0  0  0  0  0  0  0  0\\n    7.6570   -1.4696    0.8804 H   0  0  0  0  0  0  0  0  0  0  0  0\\n    5.4395   -2.1218    0.0526 H   0  0  0  0  0  0  0  0  0  0  0  0\\n    4.5802    1.9349   -0.8260 H   0  0  0  0  0  0  0  0  0  0  0  0\\n    6.8289    2.5890    0.0182 H   0  0  0  0  0  0  0  0  0  0  0  0\\n    3.2448   -2.1107   -2.3154 H   0  0  0  0  0  0  0  0  0  0  0  0\\n    3.6780   -2.5259   -0.6356 H   0  0  0  0  0  0  0  0  0  0  0  0\\n    1.3646   -3.1406   -0.9980 H   0  0  0  0  0  0  0  0  0  0  0  0\\n    1.5289   -1.8815    0.2197 H   0  0  0  0  0  0  0  0  0  0  0  0\\n    0.7468   -1.3193   -2.7338 H   0  0  0  0  0  0  0  0  0  0  0  0\\n    0.7138   -0.1335   -1.3368 H   0  0  0  0  0  0  0  0  0  0  0  0\\n   -0.4555   -2.0115    0.7747 H   0  0  0  0  0  0  0  0  0  0  0  0\\n   -0.6552   -0.3125    0.2835 H   0  0  0  0  0  0  0  0  0  0  0  0\\n   -2.6099   -1.2977    1.5399 H   0  0  0  0  0  0  0  0  0  0  0  0\\n   -2.8654   -2.4309    0.2160 H   0  0  0  0  0  0  0  0  0  0  0  0\\n   -3.0818    0.6121    0.0654 H   0  0  0  0  0  0  0  0  0  0  0  0\\n   -3.6175   -1.4394   -2.1309 H   0  0  0  0  0  0  0  0  0  0  0  0\\n   -3.4397    0.3141   -2.2805 H   0  0  0  0  0  0  0  0  0  0  0  0\\n   -1.0988    0.2318   -2.1484 H   0  0  0  0  0  0  0  0  0  0  0  0\\n   -1.5642   -1.0870   -3.2240 H   0  0  0  0  0  0  0  0  0  0  0  0\\n   -4.5577    1.1170    0.6846 H   0  0  0  0  0  0  0  0  0  0  0  0\\n   -7.6396    1.4875    0.8556 H   0  0  0  0  0  0  0  0  0  0  0  0\\n   -9.3408    0.8779    2.5850 H   0  0  0  0  0  0  0  0  0  0  0  0\\n   -8.8871   -0.9892    4.1563 H   0  0  0  0  0  0  0  0  0  0  0  0\\n   -6.7390   -2.2063    3.9935 H   0  0  0  0  0  0  0  0  0  0  0  0\\n   -5.1008   -1.5869    2.3212 H   0  0  0  0  0  0  0  0  0  0  0  0\\n   -6.8924   -0.9842   -1.2633 H   0  0  0  0  0  0  0  0  0  0  0  0\\n   -8.2597   -0.1335   -3.0746 H   0  0  0  0  0  0  0  0  0  0  0  0\\n   -8.3402    2.2595   -3.5899 H   0  0  0  0  0  0  0  0  0  0  0  0\\n   -6.9959    3.8320   -2.2222 H   0  0  0  0  0  0  0  0  0  0  0  0\\n   -5.5972    2.9489   -0.3743 H   0  0  0  0  0  0  0  0  0  0  0  0\\n  1  2  1  0\\n  2  3  1  0\\n  2  4  1  0\\n  2  5  1  0\\n  5  6  2  0\\n  6  7  1  0\\n  7  8  2  0\\n  8  9  1  0\\n  9 10  2  0\\n  8 11  1  0\\n 11 12  2  0\\n 11 13  1  0\\n 13 14  1  0\\n 14 15  1  0\\n 15 16  1  0\\n 16 17  1  0\\n 17 18  1  0\\n 18 19  1  0\\n 19 20  1  0\\n 20 21  1  0\\n 19 22  1  0\\n 22 23  1  0\\n 23 24  1  0\\n 24 25  2  0\\n 25 26  1  0\\n 26 27  2  0\\n 27 28  1  0\\n 28 29  2  0\\n 23 30  1  0\\n 30 31  2  0\\n 31 32  1  0\\n 32 33  2  0\\n 33 34  1  0\\n 34 35  2  0\\n 10  5  1  0\\n 21 16  1  0\\n 29 24  1  0\\n 35 30  1  0\\n  1 36  1  0\\n  1 37  1  0\\n  1 38  1  0\\n  3 39  1  0\\n  3 40  1  0\\n  3 41  1  0\\n  4 42  1  0\\n  4 43  1  0\\n  4 44  1  0\\n  6 45  1  0\\n  7 46  1  0\\n  9 47  1  0\\n 10 48  1  0\\n 13 49  1  0\\n 13 50  1  0\\n 14 51  1  0\\n 14 52  1  0\\n 15 53  1  0\\n 15 54  1  0\\n 17 55  1  0\\n 17 56  1  0\\n 18 57  1  0\\n 18 58  1  0\\n 19 59  1  0\\n 20 60  1  0\\n 20 61  1  0\\n 21 62  1  0\\n 21 63  1  0\\n 23 64  1  0\\n 25 65  1  0\\n 26 66  1  0\\n 27 67  1  0\\n 28 68  1  0\\n 29 69  1  0\\n 31 70  1  0\\n 32 71  1  0\\n 33 72  1  0\\n 34 73  1  0\\n 35 74  1  0\\nM  END\\n\",\"sdf\");\n\tviewer_16838370755319653.setStyle({\"stick\": {}});\n\tviewer_16838370755319653.setBackgroundColor(\"0xeeeeee\");\n\tviewer_16838370755319653.zoomTo();\nviewer_16838370755319653.render();\n});\n</script>",
      "text/html": [
       "<div id=\"3dmolviewer_16838370755319653\"  style=\"position: relative; width: 400px; height: 400px\">\n",
       "        <p id=\"3dmolwarning_16838370755319653\" style=\"background-color:#ffcccc;color:black\">You appear to be running in JupyterLab (or JavaScript failed to load for some other reason).  You need to install the 3dmol extension: <br>\n",
       "        <tt>jupyter labextension install jupyterlab_3dmol</tt></p>\n",
       "        </div>\n",
       "<script>\n",
       "\n",
       "var loadScriptAsync = function(uri){\n",
       "  return new Promise((resolve, reject) => {\n",
       "    //this is to ignore the existence of requirejs amd\n",
       "    var savedexports, savedmodule;\n",
       "    if (typeof exports !== 'undefined') savedexports = exports;\n",
       "    else exports = {}\n",
       "    if (typeof module !== 'undefined') savedmodule = module;\n",
       "    else module = {}\n",
       "\n",
       "    var tag = document.createElement('script');\n",
       "    tag.src = uri;\n",
       "    tag.async = true;\n",
       "    tag.onload = () => {\n",
       "        exports = savedexports;\n",
       "        module = savedmodule;\n",
       "        resolve();\n",
       "    };\n",
       "  var firstScriptTag = document.getElementsByTagName('script')[0];\n",
       "  firstScriptTag.parentNode.insertBefore(tag, firstScriptTag);\n",
       "});\n",
       "};\n",
       "\n",
       "if(typeof $3Dmolpromise === 'undefined') {\n",
       "$3Dmolpromise = null;\n",
       "  $3Dmolpromise = loadScriptAsync('https://cdnjs.cloudflare.com/ajax/libs/3Dmol/2.0.1/3Dmol-min.js');\n",
       "}\n",
       "\n",
       "var viewer_16838370755319653 = null;\n",
       "var warn = document.getElementById(\"3dmolwarning_16838370755319653\");\n",
       "if(warn) {\n",
       "    warn.parentNode.removeChild(warn);\n",
       "}\n",
       "$3Dmolpromise.then(function() {\n",
       "viewer_16838370755319653 = $3Dmol.createViewer(document.getElementById(\"3dmolviewer_16838370755319653\"),{backgroundColor:\"white\"});\n",
       "viewer_16838370755319653.zoomTo();\n",
       "\tviewer_16838370755319653.addModel(\"\\n     RDKit          3D\\n\\n 74 77  0  0  0  0  0  0  0  0999 V2000\\n    9.4503    1.5763   -0.2505 C   0  0  0  0  0  0  0  0  0  0  0  0\\n    8.7399    0.9954    0.9821 C   0  0  0  0  0  0  0  0  0  0  0  0\\n    8.7289    2.0209    2.0685 C   0  0  0  0  0  0  0  0  0  0  0  0\\n    9.5172   -0.2302    1.3816 C   0  0  0  0  0  0  0  0  0  0  0  0\\n    7.3910    0.6063    0.4992 C   0  0  0  0  0  0  0  0  0  0  0  0\\n    6.9717   -0.7030    0.4954 C   0  0  0  0  0  0  0  0  0  0  0  0\\n    5.7013   -1.0697    0.0210 C   0  0  0  0  0  0  0  0  0  0  0  0\\n    4.8328   -0.1419   -0.4536 C   0  0  0  0  0  0  0  0  0  0  0  0\\n    5.2530    1.2004   -0.4537 C   0  0  0  0  0  0  0  0  0  0  0  0\\n    6.4995    1.5484    0.0137 C   0  0  0  0  0  0  0  0  0  0  0  0\\n    3.5031   -0.4689   -0.9993 C   0  0  0  0  0  0  0  0  0  0  0  0\\n    2.7260    0.5156   -1.2836 O   0  0  0  0  0  0  0  0  0  0  0  0\\n    3.0289   -1.8217   -1.2326 C   0  0  0  0  0  0  0  0  0  0  0  0\\n    1.5898   -2.0377   -0.9214 C   0  0  0  0  0  0  0  0  0  0  0  0\\n    0.6175   -1.2029   -1.6426 C   0  0  0  0  0  0  0  0  0  0  0  0\\n   -0.7812   -1.6162   -1.3096 N   0  0  0  0  0  0  0  0  0  0  0  0\\n   -0.9985   -1.3414    0.0882 C   0  0  0  0  0  0  0  0  0  0  0  0\\n   -2.4666   -1.4098    0.4496 C   0  0  0  0  0  0  0  0  0  0  0  0\\n   -3.2889   -0.4178   -0.2969 C   0  0  0  0  0  0  0  0  0  0  0  0\\n   -2.9904   -0.5699   -1.7652 C   0  0  0  0  0  0  0  0  0  0  0  0\\n   -1.5957   -0.7885   -2.1585 C   0  0  0  0  0  0  0  0  0  0  0  0\\n   -4.6428   -0.7401   -0.1506 O   0  0  0  0  0  0  0  0  0  0  0  0\\n   -5.3056    0.3550    0.4186 C   0  0  0  0  0  0  0  0  0  0  0  0\\n   -6.2440   -0.0254    1.4788 C   0  0  0  0  0  0  0  0  0  0  0  0\\n   -7.4526    0.6646    1.5676 C   0  0  0  0  0  0  0  0  0  0  0  0\\n   -8.3843    0.3241    2.5175 C   0  0  0  0  0  0  0  0  0  0  0  0\\n   -8.1511   -0.7039    3.4035 C   0  0  0  0  0  0  0  0  0  0  0  0\\n   -6.9710   -1.3938    3.3335 C   0  0  0  0  0  0  0  0  0  0  0  0\\n   -6.0224   -1.0368    2.3581 C   0  0  0  0  0  0  0  0  0  0  0  0\\n   -6.1525    0.9198   -0.6962 C   0  0  0  0  0  0  0  0  0  0  0  0\\n   -6.9006    0.0710   -1.4612 C   0  0  0  0  0  0  0  0  0  0  0  0\\n   -7.6718    0.5601   -2.4852 C   0  0  0  0  0  0  0  0  0  0  0  0\\n   -7.7115    1.9052   -2.7645 C   0  0  0  0  0  0  0  0  0  0  0  0\\n   -6.9612    2.7813   -2.0009 C   0  0  0  0  0  0  0  0  0  0  0  0\\n   -6.1774    2.2603   -0.9580 C   0  0  0  0  0  0  0  0  0  0  0  0\\n    9.1043    0.9815   -1.1177 H   0  0  0  0  0  0  0  0  0  0  0  0\\n   10.5338    1.4687   -0.2070 H   0  0  0  0  0  0  0  0  0  0  0  0\\n    9.1171    2.6285   -0.4047 H   0  0  0  0  0  0  0  0  0  0  0  0\\n    8.2868    2.9692    1.7237 H   0  0  0  0  0  0  0  0  0  0  0  0\\n    9.7876    2.2310    2.3332 H   0  0  0  0  0  0  0  0  0  0  0  0\\n    8.1797    1.6373    2.9395 H   0  0  0  0  0  0  0  0  0  0  0  0\\n    9.5684   -0.9114    0.4777 H   0  0  0  0  0  0  0  0  0  0  0  0\\n    9.1124   -0.7164    2.2726 H   0  0  0  0  0  0  0  0  0  0  0  0\\n   10.5850    0.1036    1.5388 H   0  0  0  0  0  0  0  0  0  0  0  0\\n    7.6570   -1.4696    0.8804 H   0  0  0  0  0  0  0  0  0  0  0  0\\n    5.4395   -2.1218    0.0526 H   0  0  0  0  0  0  0  0  0  0  0  0\\n    4.5802    1.9349   -0.8260 H   0  0  0  0  0  0  0  0  0  0  0  0\\n    6.8289    2.5890    0.0182 H   0  0  0  0  0  0  0  0  0  0  0  0\\n    3.2448   -2.1107   -2.3154 H   0  0  0  0  0  0  0  0  0  0  0  0\\n    3.6780   -2.5259   -0.6356 H   0  0  0  0  0  0  0  0  0  0  0  0\\n    1.3646   -3.1406   -0.9980 H   0  0  0  0  0  0  0  0  0  0  0  0\\n    1.5289   -1.8815    0.2197 H   0  0  0  0  0  0  0  0  0  0  0  0\\n    0.7468   -1.3193   -2.7338 H   0  0  0  0  0  0  0  0  0  0  0  0\\n    0.7138   -0.1335   -1.3368 H   0  0  0  0  0  0  0  0  0  0  0  0\\n   -0.4555   -2.0115    0.7747 H   0  0  0  0  0  0  0  0  0  0  0  0\\n   -0.6552   -0.3125    0.2835 H   0  0  0  0  0  0  0  0  0  0  0  0\\n   -2.6099   -1.2977    1.5399 H   0  0  0  0  0  0  0  0  0  0  0  0\\n   -2.8654   -2.4309    0.2160 H   0  0  0  0  0  0  0  0  0  0  0  0\\n   -3.0818    0.6121    0.0654 H   0  0  0  0  0  0  0  0  0  0  0  0\\n   -3.6175   -1.4394   -2.1309 H   0  0  0  0  0  0  0  0  0  0  0  0\\n   -3.4397    0.3141   -2.2805 H   0  0  0  0  0  0  0  0  0  0  0  0\\n   -1.0988    0.2318   -2.1484 H   0  0  0  0  0  0  0  0  0  0  0  0\\n   -1.5642   -1.0870   -3.2240 H   0  0  0  0  0  0  0  0  0  0  0  0\\n   -4.5577    1.1170    0.6846 H   0  0  0  0  0  0  0  0  0  0  0  0\\n   -7.6396    1.4875    0.8556 H   0  0  0  0  0  0  0  0  0  0  0  0\\n   -9.3408    0.8779    2.5850 H   0  0  0  0  0  0  0  0  0  0  0  0\\n   -8.8871   -0.9892    4.1563 H   0  0  0  0  0  0  0  0  0  0  0  0\\n   -6.7390   -2.2063    3.9935 H   0  0  0  0  0  0  0  0  0  0  0  0\\n   -5.1008   -1.5869    2.3212 H   0  0  0  0  0  0  0  0  0  0  0  0\\n   -6.8924   -0.9842   -1.2633 H   0  0  0  0  0  0  0  0  0  0  0  0\\n   -8.2597   -0.1335   -3.0746 H   0  0  0  0  0  0  0  0  0  0  0  0\\n   -8.3402    2.2595   -3.5899 H   0  0  0  0  0  0  0  0  0  0  0  0\\n   -6.9959    3.8320   -2.2222 H   0  0  0  0  0  0  0  0  0  0  0  0\\n   -5.5972    2.9489   -0.3743 H   0  0  0  0  0  0  0  0  0  0  0  0\\n  1  2  1  0\\n  2  3  1  0\\n  2  4  1  0\\n  2  5  1  0\\n  5  6  2  0\\n  6  7  1  0\\n  7  8  2  0\\n  8  9  1  0\\n  9 10  2  0\\n  8 11  1  0\\n 11 12  2  0\\n 11 13  1  0\\n 13 14  1  0\\n 14 15  1  0\\n 15 16  1  0\\n 16 17  1  0\\n 17 18  1  0\\n 18 19  1  0\\n 19 20  1  0\\n 20 21  1  0\\n 19 22  1  0\\n 22 23  1  0\\n 23 24  1  0\\n 24 25  2  0\\n 25 26  1  0\\n 26 27  2  0\\n 27 28  1  0\\n 28 29  2  0\\n 23 30  1  0\\n 30 31  2  0\\n 31 32  1  0\\n 32 33  2  0\\n 33 34  1  0\\n 34 35  2  0\\n 10  5  1  0\\n 21 16  1  0\\n 29 24  1  0\\n 35 30  1  0\\n  1 36  1  0\\n  1 37  1  0\\n  1 38  1  0\\n  3 39  1  0\\n  3 40  1  0\\n  3 41  1  0\\n  4 42  1  0\\n  4 43  1  0\\n  4 44  1  0\\n  6 45  1  0\\n  7 46  1  0\\n  9 47  1  0\\n 10 48  1  0\\n 13 49  1  0\\n 13 50  1  0\\n 14 51  1  0\\n 14 52  1  0\\n 15 53  1  0\\n 15 54  1  0\\n 17 55  1  0\\n 17 56  1  0\\n 18 57  1  0\\n 18 58  1  0\\n 19 59  1  0\\n 20 60  1  0\\n 20 61  1  0\\n 21 62  1  0\\n 21 63  1  0\\n 23 64  1  0\\n 25 65  1  0\\n 26 66  1  0\\n 27 67  1  0\\n 28 68  1  0\\n 29 69  1  0\\n 31 70  1  0\\n 32 71  1  0\\n 33 72  1  0\\n 34 73  1  0\\n 35 74  1  0\\nM  END\\n\",\"sdf\");\n",
       "\tviewer_16838370755319653.setStyle({\"stick\": {}});\n",
       "\tviewer_16838370755319653.setBackgroundColor(\"0xeeeeee\");\n",
       "\tviewer_16838370755319653.zoomTo();\n",
       "viewer_16838370755319653.render();\n",
       "});\n",
       "</script>"
      ]
     },
     "metadata": {},
     "output_type": "display_data"
    }
   ],
   "source": [
    "draw_3d(x)"
   ]
  },
  {
   "cell_type": "code",
   "execution_count": 41,
   "metadata": {},
   "outputs": [],
   "source": [
    "from tensorflow import keras\n",
    "model = keras.models.load_model('D:\\\\Phase II Project Work\\\\DRUG\\\\Drug_CNN\\\\DTI\\\\DTI.h5')"
   ]
  },
  {
   "cell_type": "code",
   "execution_count": 42,
   "metadata": {},
   "outputs": [
    {
     "name": "stdout",
     "output_type": "stream",
     "text": [
      "1/1 [==============================] - 0s 95ms/step\n",
      "1\n",
      "the drugs will interact with adenosine with probability \n"
     ]
    }
   ],
   "source": [
    "predict_output(x,model)"
   ]
  },
  {
   "cell_type": "code",
   "execution_count": 36,
   "metadata": {},
   "outputs": [
    {
     "name": "stdout",
     "output_type": "stream",
     "text": [
      "1/1 [==============================] - 0s 26ms/step\n",
      "0\n",
      "the drugs will not interact with adenosine\n"
     ]
    }
   ],
   "source": [
    "y=\"CC(C)(CO)C1=CC2=C(C=C(F)C(NC(=O)C3(CC3)C3=CC=C4OC(F)(F)OC4=C3)=C2)N1C[C@@H](O)CO\"\n",
    "predict_output(y,model)"
   ]
  }
 ],
 "metadata": {
  "kernelspec": {
   "display_name": "base",
   "language": "python",
   "name": "python3"
  },
  "language_info": {
   "codemirror_mode": {
    "name": "ipython",
    "version": 3
   },
   "file_extension": ".py",
   "mimetype": "text/x-python",
   "name": "python",
   "nbconvert_exporter": "python",
   "pygments_lexer": "ipython3",
   "version": "3.9.13"
  },
  "orig_nbformat": 4
 },
 "nbformat": 4,
 "nbformat_minor": 2
}
