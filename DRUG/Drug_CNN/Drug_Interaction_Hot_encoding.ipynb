{
 "cells": [
  {
   "cell_type": "code",
   "execution_count": 1,
   "metadata": {},
   "outputs": [],
   "source": [
    "import pandas as pd"
   ]
  },
  {
   "cell_type": "code",
   "execution_count": 2,
   "metadata": {},
   "outputs": [],
   "source": [
    "df=pd.read_csv(\"D:\\\\DRUG\\\\Drug_CNN\\\\data_for_gnn.tsv\",sep='\\t')"
   ]
  },
  {
   "cell_type": "code",
   "execution_count": 3,
   "metadata": {},
   "outputs": [],
   "source": [
    "atoms={}\n",
    "i=0\n",
    "maxm=0\n",
    "for x in df['smiles']:\n",
    "    maxm=max(maxm,len(x))\n",
    "    for j in x:\n",
    "        if j not in atoms:\n",
    "            atoms[j]=i\n",
    "            i+=1\n"
   ]
  },
  {
   "cell_type": "code",
   "execution_count": 4,
   "metadata": {},
   "outputs": [
    {
     "data": {
      "text/plain": [
       "3821"
      ]
     },
     "execution_count": 4,
     "metadata": {},
     "output_type": "execute_result"
    }
   ],
   "source": [
    "maxm"
   ]
  },
  {
   "cell_type": "code",
   "execution_count": 5,
   "metadata": {},
   "outputs": [
    {
     "data": {
      "text/plain": [
       "36"
      ]
     },
     "execution_count": 5,
     "metadata": {},
     "output_type": "execute_result"
    }
   ],
   "source": [
    "len(atoms)"
   ]
  },
  {
   "cell_type": "code",
   "execution_count": 1,
   "metadata": {},
   "outputs": [],
   "source": [
    "# from collections import defaultdict\n",
    "\n",
    "# import numpy as np\n",
    "\n",
    "# from rdkit import Chem\n",
    "\n",
    "# import torch"
   ]
  },
  {
   "cell_type": "code",
   "execution_count": 6,
   "metadata": {},
   "outputs": [],
   "source": [
    "input_data=[]\n",
    "for x,y in zip(df['smiles'],df['for_cancer']):\n",
    "    tsr=[[0]*maxm for i in range(len(atoms))]\n",
    "    k=0\n",
    "    for j in x:\n",
    "        tsr[atoms[j]][k]=1\n",
    "        k+=1\n",
    "    input_data.append([tsr,y])\n"
   ]
  },
  {
   "cell_type": "code",
   "execution_count": 7,
   "metadata": {},
   "outputs": [],
   "source": [
    "import numpy as np"
   ]
  },
  {
   "cell_type": "code",
   "execution_count": 9,
   "metadata": {},
   "outputs": [],
   "source": [
    "def split_dataset(dataset, ratio):\n",
    "    \"\"\"Shuffle and split a dataset.\"\"\"\n",
    "    np.random.seed(1234)  # fix the seed for shuffle.\n",
    "    np.random.shuffle(dataset)\n",
    "    n = int(ratio * len(dataset))\n",
    "    return dataset[:n], dataset[n:]"
   ]
  },
  {
   "cell_type": "code",
   "execution_count": 10,
   "metadata": {},
   "outputs": [],
   "source": [
    "dataset_train, dataset_test=split_dataset(input_data,0.7)"
   ]
  },
  {
   "cell_type": "code",
   "execution_count": 11,
   "metadata": {},
   "outputs": [],
   "source": [
    "train_gen=np.array([np.array(x[0]).reshape(36,3821,1) for x in dataset_train])\n",
    "train_lab=np.array([x[1] for x in dataset_train])\n",
    "test_gen=np.array([np.array(x[0]).reshape(36,3821,1) for x in dataset_test])\n",
    "test_lab=np.array([x[1] for x in dataset_test])"
   ]
  },
  {
   "cell_type": "code",
   "execution_count": 12,
   "metadata": {},
   "outputs": [
    {
     "data": {
      "text/plain": [
       "(36, 3821, 1)"
      ]
     },
     "execution_count": 12,
     "metadata": {},
     "output_type": "execute_result"
    }
   ],
   "source": [
    "train_gen[0].shape"
   ]
  },
  {
   "cell_type": "code",
   "execution_count": 13,
   "metadata": {},
   "outputs": [],
   "source": [
    "from tensorflow.keras.callbacks import ModelCheckpoint, EarlyStopping\n",
    "es= EarlyStopping(monitor=\"accuracy\",min_delta=0.1,patience=4,verbose=1,mode='auto')\n",
    "# mc=ModelCheckpoint(monitor=\"accuracy\",filepath=\"/content/drive/MyDrive/Final Year Project/skinmodel.h5\",verbose=1,save_best_only=True,mode='auto')\n",
    "cd=[es]"
   ]
  },
  {
   "cell_type": "code",
   "execution_count": 14,
   "metadata": {},
   "outputs": [],
   "source": [
    "import numpy as np\n",
    "import pandas as pd\n",
    "import matplotlib.pyplot as plt\n",
    "from tensorflow.keras.layers import Conv2D,MaxPool2D,Dropout,Flatten,Dense,BatchNormalization,GlobalAvgPool2D,GaussianNoise,GlobalAveragePooling2D\n",
    "from tensorflow.keras.models import Sequential\n",
    "from tensorflow.keras.preprocessing.image import ImageDataGenerator"
   ]
  },
  {
   "cell_type": "code",
   "execution_count": 15,
   "metadata": {},
   "outputs": [
    {
     "name": "stdout",
     "output_type": "stream",
     "text": [
      "1 Physical GPUs, 1 Logical GPUs\n"
     ]
    }
   ],
   "source": [
    "import tensorflow as tf\n",
    "gpus = tf.config.list_physical_devices('GPU')\n",
    "if gpus:\n",
    "  # Restrict TensorFlow to only allocate 1GB of memory on the first GPU\n",
    "  try:\n",
    "    tf.config.set_logical_device_configuration(\n",
    "        gpus[0],\n",
    "        [tf.config.LogicalDeviceConfiguration(memory_limit=3072)])\n",
    "    logical_gpus = tf.config.list_logical_devices('GPU')\n",
    "    print(len(gpus), \"Physical GPUs,\", len(logical_gpus), \"Logical GPUs\")\n",
    "  except RuntimeError as e:\n",
    "    # Virtual devices must be set before GPUs have been initialized\n",
    "    print(e)"
   ]
  },
  {
   "cell_type": "code",
   "execution_count": 16,
   "metadata": {},
   "outputs": [
    {
     "data": {
      "text/plain": [
       "(1395, 36, 3821, 1)"
      ]
     },
     "execution_count": 16,
     "metadata": {},
     "output_type": "execute_result"
    }
   ],
   "source": [
    "train_gen.shape"
   ]
  },
  {
   "cell_type": "code",
   "execution_count": 17,
   "metadata": {},
   "outputs": [
    {
     "name": "stdout",
     "output_type": "stream",
     "text": [
      "Model: \"sequential\"\n",
      "_________________________________________________________________\n",
      " Layer (type)                Output Shape              Param #   \n",
      "=================================================================\n",
      " conv2d (Conv2D)             (None, 36, 3821, 64)      640       \n",
      "                                                                 \n",
      " max_pooling2d (MaxPooling2D  (None, 18, 1910, 64)     0         \n",
      " )                                                               \n",
      "                                                                 \n",
      " conv2d_1 (Conv2D)           (None, 16, 1908, 32)      18464     \n",
      "                                                                 \n",
      " max_pooling2d_1 (MaxPooling  (None, 8, 954, 32)       0         \n",
      " 2D)                                                             \n",
      "                                                                 \n",
      " flatten (Flatten)           (None, 244224)            0         \n",
      "                                                                 \n",
      " dense (Dense)               (None, 1)                 244225    \n",
      "                                                                 \n",
      "=================================================================\n",
      "Total params: 263,329\n",
      "Trainable params: 263,329\n",
      "Non-trainable params: 0\n",
      "_________________________________________________________________\n"
     ]
    }
   ],
   "source": [
    "import tensorflow as tf\n",
    "# base_model = tf.keras.applications.EfficientNetB2(weights='imagenet',input_shape=(256,256,1), include_top=False)\n",
    "# base_model = tf.keras.applications.resnet50.ResNet50(weights='imagenet', input_shape=(224,224,3), include_top=False)\n",
    "# with tf.device('/GPU:0'):\n",
    "model = Sequential()\n",
    "model.add(Conv2D(64, kernel_size=3, activation='relu',padding='Same', input_shape=(36,3821,1)))\n",
    "model.add(MaxPool2D((2, 2)))\n",
    "model.add(Conv2D(32, kernel_size=3, activation='relu'))\n",
    "model.add(MaxPool2D((2, 2)))\n",
    "model.add(Flatten())\n",
    "model.add(Dense(1, activation='sigmoid'))\n",
    "model.summary()"
   ]
  },
  {
   "cell_type": "code",
   "execution_count": 18,
   "metadata": {},
   "outputs": [],
   "source": [
    "model.compile(loss='binary_crossentropy',\n",
    "              optimizer='adam',\n",
    "              metrics=['accuracy','Precision','Recall'])"
   ]
  },
  {
   "cell_type": "code",
   "execution_count": 19,
   "metadata": {},
   "outputs": [
    {
     "name": "stdout",
     "output_type": "stream",
     "text": [
      "Epoch 1/8\n",
      "88/88 [==============================] - 28s 234ms/step - loss: 0.5922 - accuracy: 0.6953 - precision: 0.6203 - recall: 0.2117 - val_loss: 0.5630 - val_accuracy: 0.7040 - val_precision: 0.8000 - val_recall: 0.1932\n",
      "Epoch 2/8\n",
      "88/88 [==============================] - 13s 147ms/step - loss: 0.4751 - accuracy: 0.7692 - precision: 0.7390 - recall: 0.4708 - val_loss: 0.4533 - val_accuracy: 0.7609 - val_precision: 0.6758 - val_recall: 0.5942\n",
      "Epoch 3/8\n",
      "88/88 [==============================] - 13s 146ms/step - loss: 0.3581 - accuracy: 0.8416 - precision: 0.8343 - recall: 0.6523 - val_loss: 0.3331 - val_accuracy: 0.8679 - val_precision: 0.8404 - val_recall: 0.7633\n",
      "Epoch 4/8\n",
      "88/88 [==============================] - 13s 147ms/step - loss: 0.2464 - accuracy: 0.9082 - precision: 0.8781 - recall: 0.8402 - val_loss: 0.2791 - val_accuracy: 0.8645 - val_precision: 0.8841 - val_recall: 0.7005\n",
      "Epoch 5/8\n",
      "88/88 [==============================] - 13s 147ms/step - loss: 0.1749 - accuracy: 0.9405 - precision: 0.9060 - recall: 0.9158 - val_loss: 0.2402 - val_accuracy: 0.8963 - val_precision: 0.9191 - val_recall: 0.7681\n",
      "Epoch 6/8\n",
      "88/88 [==============================] - 13s 147ms/step - loss: 0.1192 - accuracy: 0.9642 - precision: 0.9441 - recall: 0.9482 - val_loss: 0.1936 - val_accuracy: 0.9298 - val_precision: 0.8603 - val_recall: 0.9517\n",
      "Epoch 7/8\n",
      "88/88 [==============================] - 13s 147ms/step - loss: 0.0768 - accuracy: 0.9835 - precision: 0.9741 - recall: 0.9762 - val_loss: 0.1843 - val_accuracy: 0.9348 - val_precision: 0.8415 - val_recall: 1.0000\n",
      "Epoch 8/8\n",
      "88/88 [==============================] - 13s 147ms/step - loss: 0.0651 - accuracy: 0.9864 - precision: 0.9664 - recall: 0.9935 - val_loss: 0.2050 - val_accuracy: 0.9281 - val_precision: 0.8280 - val_recall: 1.0000\n"
     ]
    }
   ],
   "source": [
    "\n",
    "              \n",
    "hs=model.fit(\n",
    "    train_gen,\n",
    "    train_lab,\n",
    "    batch_size=16,\n",
    "    epochs=8,\n",
    "    verbose=1,  \n",
    "    validation_data=(test_gen,test_lab),\n",
    "    callbacks=cd\n",
    "    )\n"
   ]
  },
  {
   "cell_type": "code",
   "execution_count": 20,
   "metadata": {},
   "outputs": [],
   "source": [
    "def predict_output(x):\n",
    "    tsr=[[0]*maxm for i in range(36)]\n",
    "    k=0\n",
    "    for j in x:\n",
    "        tsr[atoms[j]][k]=1\n",
    "        k+=1\n",
    "    tsr=np.array(tsr).reshape(36,3821,1)\n",
    "    res=model.predict(np.array([tsr,]))\n",
    "    if(res[0][0]>0.6):\n",
    "        print(\"the drugs will interact with adenosine with probability \" + str(res[0][0]))\n",
    "    else:\n",
    "        print(\"the drugs will not interact with adenosine\")"
   ]
  },
  {
   "cell_type": "code",
   "execution_count": 21,
   "metadata": {},
   "outputs": [
    {
     "data": {
      "image/png": "[encoded data removed]",
      "text/plain": [
       "<Figure size 640x480 with 1 Axes>"
      ]
     },
     "metadata": {},
     "output_type": "display_data"
    }
   ],
   "source": [
    "from matplotlib import pyplot as plt\n",
    "plt.plot(hs.history['accuracy'])\n",
    "plt.plot(hs.history['val_accuracy'])\n",
    "plt.title('model accuracy')\n",
    "plt.ylabel('accuracy')\n",
    "plt.xlabel('epoch')\n",
    "plt.legend(['train', 'val'], loc='upper left')\n",
    "plt.show()"
   ]
  },
  {
   "cell_type": "code",
   "execution_count": 24,
   "metadata": {},
   "outputs": [
    {
     "data": {
      "image/png": "[encoded data removed]",
      "text/plain": [
       "<Figure size 640x480 with 1 Axes>"
      ]
     },
     "metadata": {},
     "output_type": "display_data"
    }
   ],
   "source": [
    "from matplotlib import pyplot as plt\n",
    "plt.plot(hs.history['accuracy'])\n",
    "plt.title('model accuracy')\n",
    "plt.ylabel('accuracy')\n",
    "plt.xlabel('epoch')\n",
    "\n",
    "plt.show()"
   ]
  },
  {
   "cell_type": "code",
   "execution_count": 22,
   "metadata": {},
   "outputs": [
    {
     "name": "stdout",
     "output_type": "stream",
     "text": [
      "1/1 [==============================] - 0s 351ms/step\n",
      "the drugs will interact with adenosine with probability 0.99922884\n"
     ]
    }
   ],
   "source": [
    "x=\"CC(C)(O)C1=C(CC[C@@H](SCC2(CC(O)=O)CC2)C2=CC(\\C=C\\C3=NC4=CC(Cl)=CC=C4C=C3)=CC=C2)C=CC=C1\"\n",
    "predict_output(x)"
   ]
  },
  {
   "cell_type": "code",
   "execution_count": 23,
   "metadata": {},
   "outputs": [
    {
     "name": "stdout",
     "output_type": "stream",
     "text": [
      "1/1 [==============================] - 0s 34ms/step\n",
      "the drugs will not interact with adenosine\n"
     ]
    }
   ],
   "source": [
    "x=\"CC(C)(CO)C1=CC2=C(C=C(F)C(NC(=O)C3(CC3)C3=CC=C4OC(F)(F)OC4=C3)=C2)N1C[C@@H](O)CO\"\n",
    "predict_output(x)"
   ]
  },
  {
   "cell_type": "code",
   "execution_count": 26,
   "metadata": {},
   "outputs": [],
   "source": [
    "\n"
   ]
  },
  {
   "cell_type": "code",
   "execution_count": 75,
   "metadata": {},
   "outputs": [
    {
     "ename": "AttributeError",
     "evalue": "'list' object has no attribute 'shape'",
     "output_type": "error",
     "traceback": [
      "\u001b[1;31m---------------------------------------------------------------------------\u001b[0m",
      "\u001b[1;31mAttributeError\u001b[0m                            Traceback (most recent call last)",
      "Cell \u001b[1;32mIn[75], line 1\u001b[0m\n\u001b[1;32m----> 1\u001b[0m tsr\u001b[39m.\u001b[39;49mshape\n",
      "\u001b[1;31mAttributeError\u001b[0m: 'list' object has no attribute 'shape'"
     ]
    }
   ],
   "source": [
    "tsr.shape"
   ]
  },
  {
   "cell_type": "code",
   "execution_count": 27,
   "metadata": {},
   "outputs": [
    {
     "name": "stdout",
     "output_type": "stream",
     "text": [
      "1/1 [==============================] - 0s 26ms/step\n"
     ]
    },
    {
     "data": {
      "text/plain": [
       "array([[2.0895238e-06]], dtype=float32)"
      ]
     },
     "execution_count": 27,
     "metadata": {},
     "output_type": "execute_result"
    }
   ],
   "source": [
    "model.predict(np.array([tsr,]))"
   ]
  }
 ],
 "metadata": {
  "kernelspec": {
   "display_name": "base",
   "language": "python",
   "name": "python3"
  },
  "language_info": {
   "codemirror_mode": {
    "name": "ipython",
    "version": 3
   },
   "file_extension": ".py",
   "mimetype": "text/x-python",
   "name": "python",
   "nbconvert_exporter": "python",
   "pygments_lexer": "ipython3",
   "version": "3.9.13"
  },
  "orig_nbformat": 4
 },
 "nbformat": 4,
 "nbformat_minor": 2
}
