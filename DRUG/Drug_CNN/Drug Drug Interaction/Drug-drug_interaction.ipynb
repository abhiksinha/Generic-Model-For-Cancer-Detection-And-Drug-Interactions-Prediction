{
 "cells": [
  {
   "cell_type": "code",
   "execution_count": 1,
   "metadata": {},
   "outputs": [],
   "source": [
    "import pandas as pd"
   ]
  },
  {
   "cell_type": "code",
   "execution_count": 2,
   "metadata": {},
   "outputs": [],
   "source": [
    "paths=\"D:\\Phase II Project Work\\DRUG\\Drug_CNN\\DDI\\Data\\\\\""
   ]
  },
  {
   "cell_type": "code",
   "execution_count": 3,
   "metadata": {},
   "outputs": [],
   "source": [
    "df=pd.read_csv(paths+\"borte_balanced.csv\")"
   ]
  },
  {
   "cell_type": "code",
   "execution_count": 4,
   "metadata": {},
   "outputs": [
    {
     "data": {
      "text/html": [
       "<div>\n",
       "<style scoped>\n",
       "    .dataframe tbody tr th:only-of-type {\n",
       "        vertical-align: middle;\n",
       "    }\n",
       "\n",
       "    .dataframe tbody tr th {\n",
       "        vertical-align: top;\n",
       "    }\n",
       "\n",
       "    .dataframe thead th {\n",
       "        text-align: right;\n",
       "    }\n",
       "</style>\n",
       "<table border=\"1\" class=\"dataframe\">\n",
       "  <thead>\n",
       "    <tr style=\"text-align: right;\">\n",
       "      <th></th>\n",
       "      <th>smiles</th>\n",
       "      <th>interact</th>\n",
       "    </tr>\n",
       "  </thead>\n",
       "  <tbody>\n",
       "    <tr>\n",
       "      <th>0</th>\n",
       "      <td>[H][C@@]12CC=C(C3=CC=CN=C3)[C@@]1(C)CC[C@@]1([...</td>\n",
       "      <td>1</td>\n",
       "    </tr>\n",
       "    <tr>\n",
       "      <th>1</th>\n",
       "      <td>CCCC(=O)NC1=CC(C(C)=O)=C(OCC(O)CNC(C)C)C=C1</td>\n",
       "      <td>1</td>\n",
       "    </tr>\n",
       "    <tr>\n",
       "      <th>2</th>\n",
       "      <td>CC(=O)CC(C1=CC=C(C=C1)[N+]([O-])=O)C1=C(O)C2=C...</td>\n",
       "      <td>1</td>\n",
       "    </tr>\n",
       "    <tr>\n",
       "      <th>3</th>\n",
       "      <td>CC(=O)NC1=CC=C(O)C=C1</td>\n",
       "      <td>1</td>\n",
       "    </tr>\n",
       "    <tr>\n",
       "      <th>4</th>\n",
       "      <td>CC(=O)NC1=NN=C(S1)S(N)(=O)=O</td>\n",
       "      <td>1</td>\n",
       "    </tr>\n",
       "  </tbody>\n",
       "</table>\n",
       "</div>"
      ],
      "text/plain": [
       "                                              smiles  interact\n",
       "0  [H][C@@]12CC=C(C3=CC=CN=C3)[C@@]1(C)CC[C@@]1([...         1\n",
       "1        CCCC(=O)NC1=CC(C(C)=O)=C(OCC(O)CNC(C)C)C=C1         1\n",
       "2  CC(=O)CC(C1=CC=C(C=C1)[N+]([O-])=O)C1=C(O)C2=C...         1\n",
       "3                              CC(=O)NC1=CC=C(O)C=C1         1\n",
       "4                       CC(=O)NC1=NN=C(S1)S(N)(=O)=O         1"
      ]
     },
     "execution_count": 4,
     "metadata": {},
     "output_type": "execute_result"
    }
   ],
   "source": [
    "df.head()"
   ]
  },
  {
   "cell_type": "code",
   "execution_count": 5,
   "metadata": {},
   "outputs": [],
   "source": [
    "atoms={}\n",
    "i=0\n",
    "maxm=0\n",
    "for x in df['smiles']:\n",
    "    maxm=max(maxm,len(x))\n",
    "    for j in x:\n",
    "        if j not in atoms:\n",
    "            atoms[j]=i\n",
    "            i+=1"
   ]
  },
  {
   "cell_type": "code",
   "execution_count": 6,
   "metadata": {},
   "outputs": [
    {
     "data": {
      "text/plain": [
       "358"
      ]
     },
     "execution_count": 6,
     "metadata": {},
     "output_type": "execute_result"
    }
   ],
   "source": [
    "maxm"
   ]
  },
  {
   "cell_type": "code",
   "execution_count": 7,
   "metadata": {},
   "outputs": [
    {
     "data": {
      "text/plain": [
       "43"
      ]
     },
     "execution_count": 7,
     "metadata": {},
     "output_type": "execute_result"
    }
   ],
   "source": [
    "len(atoms)"
   ]
  },
  {
   "cell_type": "code",
   "execution_count": 8,
   "metadata": {},
   "outputs": [],
   "source": [
    "input_data=[]\n",
    "for x,y in zip(df['smiles'],df['interact']):\n",
    "    tsr=[[0]*maxm for i in range(len(atoms))]\n",
    "    k=0\n",
    "    for j in x:\n",
    "        tsr[atoms[j]][k]=1\n",
    "        k+=1\n",
    "    input_data.append([tsr,y])"
   ]
  },
  {
   "cell_type": "code",
   "execution_count": 9,
   "metadata": {},
   "outputs": [],
   "source": [
    "import numpy as np\n",
    "def split_dataset(dataset, ratio):\n",
    "    \"\"\"Shuffle and split a dataset.\"\"\"\n",
    "    np.random.seed(1234)  # fix the seed for shuffle.\n",
    "    np.random.shuffle(dataset)\n",
    "    n = int(ratio * len(dataset))\n",
    "    return dataset, dataset[n:]"
   ]
  },
  {
   "cell_type": "code",
   "execution_count": 10,
   "metadata": {},
   "outputs": [],
   "source": [
    "dataset_train, dataset_test=split_dataset(input_data,0.7)"
   ]
  },
  {
   "cell_type": "code",
   "execution_count": 11,
   "metadata": {},
   "outputs": [],
   "source": [
    "train_gen=np.array([np.array(x[0]).reshape(len(atoms),maxm,1) for x in dataset_train])\n",
    "train_lab=np.array([x[1] for x in dataset_train])\n",
    "test_gen=np.array([np.array(x[0]).reshape(len(atoms),maxm,1) for x in dataset_test])\n",
    "test_lab=np.array([x[1] for x in dataset_test])"
   ]
  },
  {
   "cell_type": "code",
   "execution_count": 12,
   "metadata": {},
   "outputs": [
    {
     "name": "stdout",
     "output_type": "stream",
     "text": [
      "WARNING:tensorflow:Please fix your imports. Module tensorflow.python.training.tracking.autotrackable has been moved to tensorflow.python.trackable.autotrackable. The old module will be deleted in version 2.11.\n",
      "WARNING:tensorflow:Please fix your imports. Module tensorflow.python.training.tracking.base has been moved to tensorflow.python.trackable.base. The old module will be deleted in version 2.11.\n",
      "WARNING:tensorflow:Please fix your imports. Module tensorflow.python.training.tracking.base_delegate has been moved to tensorflow.python.trackable.base_delegate. The old module will be deleted in version 2.11.\n",
      "WARNING:tensorflow:Please fix your imports. Module tensorflow.python.training.tracking.data_structures has been moved to tensorflow.python.trackable.data_structures. The old module will be deleted in version 2.11.\n",
      "WARNING:tensorflow:Please fix your imports. Module tensorflow.python.training.tracking.graph_view has been moved to tensorflow.python.checkpoint.graph_view. The old module will be deleted in version 2.11.\n",
      "WARNING:tensorflow:Please fix your imports. Module tensorflow.python.training.tracking.util has been moved to tensorflow.python.checkpoint.checkpoint. The old module will be deleted in version 2.11.\n",
      "WARNING:tensorflow:Please fix your imports. Module tensorflow.python.training.checkpoint_management has been moved to tensorflow.python.checkpoint.checkpoint_management. The old module will be deleted in version 2.9.\n",
      "WARNING:tensorflow:Please fix your imports. Module tensorflow.python.training.tracking.resource has been moved to tensorflow.python.trackable.resource. The old module will be deleted in version 2.11.\n",
      "WARNING:tensorflow:Please fix your imports. Module tensorflow.python.training.tracking.asset has been moved to tensorflow.python.trackable.asset. The old module will be deleted in version 2.11.\n",
      "WARNING:tensorflow:Please fix your imports. Module tensorflow.python.training.tracking.python_state has been moved to tensorflow.python.trackable.python_state. The old module will be deleted in version 2.11.\n",
      "WARNING:tensorflow:Please fix your imports. Module tensorflow.python.training.saving.checkpoint_options has been moved to tensorflow.python.checkpoint.checkpoint_options. The old module will be deleted in version 2.11.\n"
     ]
    }
   ],
   "source": [
    "from tensorflow.keras.callbacks import ModelCheckpoint, EarlyStopping\n",
    "es= EarlyStopping(monitor=\"accuracy\",min_delta=0.02,patience=10,verbose=1,mode='auto')\n",
    "mc=ModelCheckpoint(monitor=\"accuracy\",filepath=\"D:\\\\Phase II Project Work\\\\DRUG\\\\Drug_CNN\\\\DDI.h5\",verbose=1,save_best_only=True,mode='auto')\n",
    "cd=[es,mc]"
   ]
  },
  {
   "cell_type": "code",
   "execution_count": 13,
   "metadata": {},
   "outputs": [],
   "source": [
    "import numpy as np\n",
    "import pandas as pd\n",
    "import matplotlib.pyplot as plt\n",
    "from tensorflow.keras.layers import Conv2D,MaxPool2D,Dropout,Flatten,Dense,BatchNormalization,GlobalAvgPool2D,GaussianNoise,GlobalAveragePooling2D\n",
    "from tensorflow.keras.models import Sequential"
   ]
  },
  {
   "cell_type": "code",
   "execution_count": 14,
   "metadata": {},
   "outputs": [
    {
     "name": "stdout",
     "output_type": "stream",
     "text": [
      "1 Physical GPUs, 1 Logical GPUs\n"
     ]
    }
   ],
   "source": [
    "import tensorflow as tf\n",
    "gpus = tf.config.list_physical_devices('GPU')\n",
    "if gpus:\n",
    "  # Restrict TensorFlow to only allocate 1GB of memory on the first GPU\n",
    "  try:\n",
    "    tf.config.set_logical_device_configuration(\n",
    "        gpus[0],\n",
    "        [tf.config.LogicalDeviceConfiguration(memory_limit=3072)])\n",
    "    logical_gpus = tf.config.list_logical_devices('GPU')\n",
    "    print(len(gpus), \"Physical GPUs,\", len(logical_gpus), \"Logical GPUs\")\n",
    "  except RuntimeError as e:\n",
    "    # Virtual devices must be set before GPUs have been initialized\n",
    "    print(e)"
   ]
  },
  {
   "cell_type": "code",
   "execution_count": 15,
   "metadata": {},
   "outputs": [
    {
     "name": "stdout",
     "output_type": "stream",
     "text": [
      "Model: \"sequential\"\n",
      "_________________________________________________________________\n",
      " Layer (type)                Output Shape              Param #   \n",
      "=================================================================\n",
      " conv2d (Conv2D)             (None, 43, 358, 64)       640       \n",
      "                                                                 \n",
      " max_pooling2d (MaxPooling2D  (None, 21, 179, 64)      0         \n",
      " )                                                               \n",
      "                                                                 \n",
      " conv2d_1 (Conv2D)           (None, 19, 177, 32)       18464     \n",
      "                                                                 \n",
      " max_pooling2d_1 (MaxPooling  (None, 9, 88, 32)        0         \n",
      " 2D)                                                             \n",
      "                                                                 \n",
      " flatten (Flatten)           (None, 25344)             0         \n",
      "                                                                 \n",
      " dense (Dense)               (None, 1)                 25345     \n",
      "                                                                 \n",
      "=================================================================\n",
      "Total params: 44,449\n",
      "Trainable params: 44,449\n",
      "Non-trainable params: 0\n",
      "_________________________________________________________________\n"
     ]
    }
   ],
   "source": [
    "import tensorflow as tf\n",
    "# base_model = tf.keras.applications.EfficientNetB2(weights='imagenet',input_shape=(256,256,1), include_top=False)\n",
    "# base_model = tf.keras.applications.resnet50.ResNet50(weights='imagenet', input_shape=(224,224,3), include_top=False)\n",
    "# with tf.device('/GPU:0'):\n",
    "model = Sequential()\n",
    "model.add(Conv2D(64, kernel_size=3, activation='relu',padding='Same', input_shape=(len(atoms),maxm,1)))\n",
    "model.add(MaxPool2D((2, 2)))\n",
    "model.add(Conv2D(32, kernel_size=3, activation='relu'))\n",
    "model.add(MaxPool2D((2, 2)))\n",
    "model.add(Flatten())\n",
    "model.add(Dense(1, activation='sigmoid'))\n",
    "model.summary()"
   ]
  },
  {
   "cell_type": "code",
   "execution_count": 16,
   "metadata": {},
   "outputs": [],
   "source": [
    "model.compile(loss='binary_crossentropy',\n",
    "              optimizer='adam',\n",
    "              metrics=['accuracy','Precision','Recall'])"
   ]
  },
  {
   "cell_type": "code",
   "execution_count": 17,
   "metadata": {},
   "outputs": [
    {
     "name": "stdout",
     "output_type": "stream",
     "text": [
      "Epoch 1/15\n",
      "95/95 [==============================] - ETA: 0s - loss: 0.6358 - accuracy: 0.6574 - precision: 0.4535 - recall: 0.0766\n",
      "Epoch 1: accuracy improved from -inf to 0.65739, saving model to D:\\Phase II Project Work\\DRUG\\Drug_CNN\\DDI.h5\n",
      "95/95 [==============================] - 6s 33ms/step - loss: 0.6358 - accuracy: 0.6574 - precision: 0.4535 - recall: 0.0766 - val_loss: 0.5716 - val_accuracy: 0.7042 - val_precision: 0.5769 - val_recall: 0.1087\n",
      "Epoch 2/15\n",
      "94/95 [============================>.] - ETA: 0s - loss: 0.5664 - accuracy: 0.6848 - precision: 0.5571 - recall: 0.3083\n",
      "Epoch 2: accuracy improved from 0.65739 to 0.68456, saving model to D:\\Phase II Project Work\\DRUG\\Drug_CNN\\DDI.h5\n",
      "95/95 [==============================] - 2s 25ms/step - loss: 0.5665 - accuracy: 0.6846 - precision: 0.5587 - recall: 0.3084 - val_loss: 0.5052 - val_accuracy: 0.7351 - val_precision: 0.6047 - val_recall: 0.3768\n",
      "Epoch 3/15\n",
      "94/95 [============================>.] - ETA: 0s - loss: 0.5208 - accuracy: 0.7207 - precision: 0.6287 - recall: 0.4232\n",
      "Epoch 3: accuracy improved from 0.68456 to 0.72101, saving model to D:\\Phase II Project Work\\DRUG\\Drug_CNN\\DDI.h5\n",
      "95/95 [==============================] - 2s 25ms/step - loss: 0.5205 - accuracy: 0.7210 - precision: 0.6279 - recall: 0.4244 - val_loss: 0.4734 - val_accuracy: 0.7792 - val_precision: 0.6583 - val_recall: 0.5725\n",
      "Epoch 4/15\n",
      "94/95 [============================>.] - ETA: 0s - loss: 0.4833 - accuracy: 0.7527 - precision: 0.6700 - recall: 0.5276\n",
      "Epoch 4: accuracy improved from 0.72101 to 0.75348, saving model to D:\\Phase II Project Work\\DRUG\\Drug_CNN\\DDI.h5\n",
      "95/95 [==============================] - 2s 25ms/step - loss: 0.4822 - accuracy: 0.7535 - precision: 0.6708 - recall: 0.5285 - val_loss: 0.4253 - val_accuracy: 0.7815 - val_precision: 0.6970 - val_recall: 0.5000\n",
      "Epoch 5/15\n",
      "94/95 [============================>.] - ETA: 0s - loss: 0.4394 - accuracy: 0.7793 - precision: 0.7261 - recall: 0.5542\n",
      "Epoch 5: accuracy improved from 0.75348 to 0.77932, saving model to D:\\Phase II Project Work\\DRUG\\Drug_CNN\\DDI.h5\n",
      "95/95 [==============================] - 2s 25ms/step - loss: 0.4392 - accuracy: 0.7793 - precision: 0.7268 - recall: 0.5540 - val_loss: 0.3981 - val_accuracy: 0.8102 - val_precision: 0.6806 - val_recall: 0.7101\n",
      "Epoch 6/15\n",
      "93/95 [============================>.] - ETA: 0s - loss: 0.4039 - accuracy: 0.8112 - precision: 0.7483 - recall: 0.6600\n",
      "Epoch 6: accuracy improved from 0.77932 to 0.81246, saving model to D:\\Phase II Project Work\\DRUG\\Drug_CNN\\DDI.h5\n",
      "95/95 [==============================] - 2s 25ms/step - loss: 0.4031 - accuracy: 0.8125 - precision: 0.7500 - recall: 0.6660 - val_loss: 0.3601 - val_accuracy: 0.8411 - val_precision: 0.7171 - val_recall: 0.7899\n",
      "Epoch 7/15\n",
      "93/95 [============================>.] - ETA: 0s - loss: 0.3617 - accuracy: 0.8233 - precision: 0.7587 - recall: 0.6966\n",
      "Epoch 7: accuracy improved from 0.81246 to 0.82240, saving model to D:\\Phase II Project Work\\DRUG\\Drug_CNN\\DDI.h5\n",
      "95/95 [==============================] - 2s 25ms/step - loss: 0.3621 - accuracy: 0.8224 - precision: 0.7603 - recall: 0.6916 - val_loss: 0.3125 - val_accuracy: 0.8742 - val_precision: 0.8462 - val_recall: 0.7174\n",
      "Epoch 8/15\n",
      "93/95 [============================>.] - ETA: 0s - loss: 0.3368 - accuracy: 0.8474 - precision: 0.7957 - recall: 0.7406\n",
      "Epoch 8: accuracy improved from 0.82240 to 0.84824, saving model to D:\\Phase II Project Work\\DRUG\\Drug_CNN\\DDI.h5\n",
      "95/95 [==============================] - 2s 25ms/step - loss: 0.3357 - accuracy: 0.8482 - precision: 0.7954 - recall: 0.7407 - val_loss: 0.2744 - val_accuracy: 0.8874 - val_precision: 0.8783 - val_recall: 0.7319\n",
      "Epoch 9/15\n",
      "94/95 [============================>.] - ETA: 0s - loss: 0.2974 - accuracy: 0.8723 - precision: 0.8302 - recall: 0.7811\n",
      "Epoch 9: accuracy improved from 0.84824 to 0.87276, saving model to D:\\Phase II Project Work\\DRUG\\Drug_CNN\\DDI.h5\n",
      "95/95 [==============================] - 2s 25ms/step - loss: 0.2971 - accuracy: 0.8728 - precision: 0.8309 - recall: 0.7819 - val_loss: 0.2503 - val_accuracy: 0.9073 - val_precision: 0.8871 - val_recall: 0.7971\n",
      "Epoch 10/15\n",
      "93/95 [============================>.] - ETA: 0s - loss: 0.2619 - accuracy: 0.8918 - precision: 0.8680 - recall: 0.8004\n",
      "Epoch 10: accuracy improved from 0.87276 to 0.89198, saving model to D:\\Phase II Project Work\\DRUG\\Drug_CNN\\DDI.h5\n",
      "95/95 [==============================] - 2s 25ms/step - loss: 0.2615 - accuracy: 0.8920 - precision: 0.8681 - recall: 0.8016 - val_loss: 0.2202 - val_accuracy: 0.9249 - val_precision: 0.8714 - val_recall: 0.8841\n",
      "Epoch 11/15\n",
      "94/95 [============================>.] - ETA: 0s - loss: 0.2348 - accuracy: 0.9029 - precision: 0.8729 - recall: 0.8313\n",
      "Epoch 11: accuracy improved from 0.89198 to 0.90192, saving model to D:\\Phase II Project Work\\DRUG\\Drug_CNN\\DDI.h5\n",
      "95/95 [==============================] - 2s 25ms/step - loss: 0.2383 - accuracy: 0.9019 - precision: 0.8737 - recall: 0.8291 - val_loss: 0.1951 - val_accuracy: 0.9404 - val_precision: 0.9512 - val_recall: 0.8478\n",
      "Epoch 12/15\n",
      "94/95 [============================>.] - ETA: 0s - loss: 0.2073 - accuracy: 0.9235 - precision: 0.9002 - recall: 0.8701\n",
      "Epoch 12: accuracy improved from 0.90192 to 0.92379, saving model to D:\\Phase II Project Work\\DRUG\\Drug_CNN\\DDI.h5\n",
      "95/95 [==============================] - 2s 25ms/step - loss: 0.2071 - accuracy: 0.9238 - precision: 0.9004 - recall: 0.8703 - val_loss: 0.1597 - val_accuracy: 0.9492 - val_precision: 0.9389 - val_recall: 0.8913\n",
      "Epoch 13/15\n",
      "93/95 [============================>.] - ETA: 0s - loss: 0.1858 - accuracy: 0.9288 - precision: 0.9125 - recall: 0.8725\n",
      "Epoch 13: accuracy improved from 0.92379 to 0.92843, saving model to D:\\Phase II Project Work\\DRUG\\Drug_CNN\\DDI.h5\n",
      "95/95 [==============================] - 2s 25ms/step - loss: 0.1863 - accuracy: 0.9284 - precision: 0.9134 - recall: 0.8703 - val_loss: 0.1557 - val_accuracy: 0.9470 - val_precision: 0.9191 - val_recall: 0.9058\n",
      "Epoch 14/15\n",
      "94/95 [============================>.] - ETA: 0s - loss: 0.1631 - accuracy: 0.9395 - precision: 0.9129 - recall: 0.9075\n",
      "Epoch 14: accuracy improved from 0.92843 to 0.93970, saving model to D:\\Phase II Project Work\\DRUG\\Drug_CNN\\DDI.h5\n",
      "95/95 [==============================] - 2s 25ms/step - loss: 0.1633 - accuracy: 0.9397 - precision: 0.9130 - recall: 0.9077 - val_loss: 0.1244 - val_accuracy: 0.9625 - val_precision: 0.9416 - val_recall: 0.9348\n",
      "Epoch 15/15\n",
      "93/95 [============================>.] - ETA: 0s - loss: 0.1386 - accuracy: 0.9543 - precision: 0.9375 - recall: 0.9263\n",
      "Epoch 15: accuracy improved from 0.93970 to 0.95427, saving model to D:\\Phase II Project Work\\DRUG\\Drug_CNN\\DDI.h5\n",
      "95/95 [==============================] - 2s 25ms/step - loss: 0.1402 - accuracy: 0.9543 - precision: 0.9365 - recall: 0.9273 - val_loss: 0.1105 - val_accuracy: 0.9669 - val_precision: 0.9424 - val_recall: 0.9493\n"
     ]
    }
   ],
   "source": [
    "hs=model.fit(\n",
    "    train_gen,\n",
    "    train_lab,\n",
    "    batch_size=16,\n",
    "    epochs=15,\n",
    "    verbose=1,  \n",
    "    validation_data=(test_gen,test_lab),\n",
    "    callbacks=cd\n",
    "    )"
   ]
  },
  {
   "cell_type": "code",
   "execution_count": 18,
   "metadata": {},
   "outputs": [
    {
     "data": {
      "image/png": "[encoded data removed]",
      "text/plain": [
       "<Figure size 640x480 with 1 Axes>"
      ]
     },
     "metadata": {},
     "output_type": "display_data"
    }
   ],
   "source": [
    "from matplotlib import pyplot as plt\n",
    "plt.plot(hs.history['accuracy'])\n",
    "plt.plot(hs.history['val_accuracy'])\n",
    "plt.title('model accuracy')\n",
    "plt.ylabel('accuracy')\n",
    "plt.xlabel('epoch')\n",
    "plt.legend(['train', 'val'], loc='upper left')\n",
    "plt.show()"
   ]
  },
  {
   "cell_type": "code",
   "execution_count": 19,
   "metadata": {},
   "outputs": [],
   "source": [
    "def predict_output(x,model):\n",
    "    tsr=[[0]*maxm for i in range(len(atoms))]\n",
    "    k=0\n",
    "    for j in x:\n",
    "        tsr[atoms[j]][k]=1\n",
    "        k+=1\n",
    "    tsr=np.array(tsr).reshape(len(atoms),maxm,1)\n",
    "    res=model.predict(np.array([tsr,]))\n",
    "    if(res[0][0]>0.6):\n",
    "        print(\"the drugs will interact with bortezomib \" + str(res[0][0]))\n",
    "    else:\n",
    "        print(\"the drugs will not interact with bortezomib\")"
   ]
  },
  {
   "cell_type": "code",
   "execution_count": 20,
   "metadata": {},
   "outputs": [],
   "source": [
    "import py3Dmol\n",
    "from rdkit import Chem\n",
    "from rdkit.Chem import AllChem\n",
    "from rdkit.Chem import Draw\n",
    "\n",
    "def draw_3d(mols):\n",
    "    \n",
    "    mol = Chem.MolFromSmiles(mols)\n",
    "    mol = Chem.AddHs(mol)\n",
    "    AllChem.EmbedMolecule(mol, AllChem.ETKDG())\n",
    "\n",
    "\n",
    "    mblock = Chem.MolToMolBlock(mol)\n",
    "    viewer = py3Dmol.view(width=400, height=400)\n",
    "    viewer.addModel(mblock, 'sdf')\n",
    "    viewer.setStyle({'stick':{}})\n",
    "    viewer.setBackgroundColor('0xeeeeee')\n",
    "    viewer.zoomTo()\n",
    "    viewer.show()\n",
    "\n",
    "def draw_2d(mols):\n",
    "     return Draw.MolToImage(Chem.MolFromSmiles(mols),size=(400,400))\n"
   ]
  },
  {
   "cell_type": "code",
   "execution_count": 21,
   "metadata": {},
   "outputs": [
    {
     "data": {
      "image/png": "[encoded data removed]",
      "text/plain": [
       "<PIL.PngImagePlugin.PngImageFile image mode=RGB size=400x400>"
      ]
     },
     "execution_count": 21,
     "metadata": {},
     "output_type": "execute_result"
    }
   ],
   "source": [
    "\n",
    "borte='CC(C)C[C@H](NC(=O)[C@H](CC1=CC=CC=C1)NC(=O)C1=CN=CC=N1)B(O)O'\n",
    "draw_2d(borte)"
   ]
  },
  {
   "cell_type": "code",
   "execution_count": 22,
   "metadata": {},
   "outputs": [
    {
     "data": {
      "application/3dmoljs_load.v0": "<div id=\"3dmolviewer_16838775667068489\"  style=\"position: relative; width: 400px; height: 400px\">\n        <p id=\"3dmolwarning_16838775667068489\" style=\"background-color:#ffcccc;color:black\">You appear to be running in JupyterLab (or JavaScript failed to load for some other reason).  You need to install the 3dmol extension: <br>\n        <tt>jupyter labextension install jupyterlab_3dmol</tt></p>\n        </div>\n<script>\n\nvar loadScriptAsync = function(uri){\n  return new Promise((resolve, reject) => {\n    //this is to ignore the existence of requirejs amd\n    var savedexports, savedmodule;\n    if (typeof exports !== 'undefined') savedexports = exports;\n    else exports = {}\n    if (typeof module !== 'undefined') savedmodule = module;\n    else module = {}\n\n    var tag = document.createElement('script');\n    tag.src = uri;\n    tag.async = true;\n    tag.onload = () => {\n        exports = savedexports;\n        module = savedmodule;\n        resolve();\n    };\n  var firstScriptTag = document.getElementsByTagName('script')[0];\n  firstScriptTag.parentNode.insertBefore(tag, firstScriptTag);\n});\n};\n\nif(typeof $3Dmolpromise === 'undefined') {\n$3Dmolpromise = null;\n  $3Dmolpromise = loadScriptAsync('https://cdnjs.cloudflare.com/ajax/libs/3Dmol/2.0.1/3Dmol-min.js');\n}\n\nvar viewer_16838775667068489 = null;\nvar warn = document.getElementById(\"3dmolwarning_16838775667068489\");\nif(warn) {\n    warn.parentNode.removeChild(warn);\n}\n$3Dmolpromise.then(function() {\nviewer_16838775667068489 = $3Dmol.createViewer(document.getElementById(\"3dmolviewer_16838775667068489\"),{backgroundColor:\"white\"});\nviewer_16838775667068489.zoomTo();\n\tviewer_16838775667068489.addModel(\"\\n     RDKit          3D\\n\\n 53 54  0  0  0  0  0  0  0  0999 V2000\\n   -5.9813    0.4393   -0.8272 C   0  0  0  0  0  0  0  0  0  0  0  0\\n   -5.2925   -0.3696    0.2205 C   0  0  0  0  0  0  0  0  0  0  0  0\\n   -5.2515   -1.8262   -0.2070 C   0  0  0  0  0  0  0  0  0  0  0  0\\n   -3.9415    0.1613    0.5173 C   0  0  0  0  0  0  0  0  0  0  0  0\\n   -3.0000    0.1668   -0.6610 C   0  0  2  0  0  0  0  0  0  0  0  0\\n   -1.7342    0.7110   -0.1424 N   0  0  0  0  0  0  0  0  0  0  0  0\\n   -0.6010   -0.1031   -0.1558 C   0  0  0  0  0  0  0  0  0  0  0  0\\n   -0.7062   -1.2715   -0.6112 O   0  0  0  0  0  0  0  0  0  0  0  0\\n    0.7381    0.3399    0.3441 C   0  0  2  0  0  0  0  0  0  0  0  0\\n    1.1317    1.5233   -0.5454 C   0  0  0  0  0  0  0  0  0  0  0  0\\n    2.4555    2.0616   -0.1500 C   0  0  0  0  0  0  0  0  0  0  0  0\\n    2.5873    3.0614    0.7913 C   0  0  0  0  0  0  0  0  0  0  0  0\\n    3.8155    3.5465    1.1445 C   0  0  0  0  0  0  0  0  0  0  0  0\\n    4.9391    3.0361    0.5582 C   0  0  0  0  0  0  0  0  0  0  0  0\\n    4.8113    2.0381   -0.3815 C   0  0  0  0  0  0  0  0  0  0  0  0\\n    3.5802    1.5391   -0.7478 C   0  0  0  0  0  0  0  0  0  0  0  0\\n    1.6857   -0.7511    0.1824 N   0  0  0  0  0  0  0  0  0  0  0  0\\n    2.4258   -1.2526    1.2951 C   0  0  0  0  0  0  0  0  0  0  0  0\\n    2.2329   -0.7168    2.4365 O   0  0  0  0  0  0  0  0  0  0  0  0\\n    3.3797   -2.3428    1.1607 C   0  0  0  0  0  0  0  0  0  0  0  0\\n    3.6621   -2.9851   -0.0065 C   0  0  0  0  0  0  0  0  0  0  0  0\\n    4.5713   -3.9823    0.0128 N   0  0  0  0  0  0  0  0  0  0  0  0\\n    5.2115   -4.3763    1.1147 C   0  0  0  0  0  0  0  0  0  0  0  0\\n    4.9199   -3.7222    2.2880 C   0  0  0  0  0  0  0  0  0  0  0  0\\n    4.0231   -2.7293    2.3012 N   0  0  0  0  0  0  0  0  0  0  0  0\\n   -3.5070    1.0823   -1.8581 B   0  0  0  0  0  0  0  0  0  0  0  0\\n   -3.4666    0.5234   -3.2112 O   0  0  0  0  0  0  0  0  0  0  0  0\\n   -3.3435    2.5391   -1.6704 O   0  0  0  0  0  0  0  0  0  0  0  0\\n   -7.0875    0.2917   -0.6613 H   0  0  0  0  0  0  0  0  0  0  0  0\\n   -5.7163    1.5090   -0.7507 H   0  0  0  0  0  0  0  0  0  0  0  0\\n   -5.7970    0.0643   -1.8332 H   0  0  0  0  0  0  0  0  0  0  0  0\\n   -5.8873   -0.3430    1.1700 H   0  0  0  0  0  0  0  0  0  0  0  0\\n   -5.0892   -1.9443   -1.2814 H   0  0  0  0  0  0  0  0  0  0  0  0\\n   -4.4268   -2.3229    0.3610 H   0  0  0  0  0  0  0  0  0  0  0  0\\n   -6.2182   -2.3088    0.0921 H   0  0  0  0  0  0  0  0  0  0  0  0\\n   -4.0565    1.2165    0.8588 H   0  0  0  0  0  0  0  0  0  0  0  0\\n   -3.5077   -0.4162    1.3770 H   0  0  0  0  0  0  0  0  0  0  0  0\\n   -2.8433   -0.8704   -1.0025 H   0  0  0  0  0  0  0  0  0  0  0  0\\n   -1.7109    1.6671    0.2145 H   0  0  0  0  0  0  0  0  0  0  0  0\\n    0.6792    0.6962    1.3730 H   0  0  0  0  0  0  0  0  0  0  0  0\\n    1.0579    1.2605   -1.6048 H   0  0  0  0  0  0  0  0  0  0  0  0\\n    0.3740    2.3129   -0.3478 H   0  0  0  0  0  0  0  0  0  0  0  0\\n    1.7048    3.4714    1.2603 H   0  0  0  0  0  0  0  0  0  0  0  0\\n    3.9001    4.3335    1.8870 H   0  0  0  0  0  0  0  0  0  0  0  0\\n    5.9325    3.4035    0.8201 H   0  0  0  0  0  0  0  0  0  0  0  0\\n    5.7099    1.6210   -0.8588 H   0  0  0  0  0  0  0  0  0  0  0  0\\n    3.5213    0.7454   -1.4990 H   0  0  0  0  0  0  0  0  0  0  0  0\\n    1.8543   -1.1979   -0.7389 H   0  0  0  0  0  0  0  0  0  0  0  0\\n    3.1707   -2.6991   -0.9104 H   0  0  0  0  0  0  0  0  0  0  0  0\\n    5.9471   -5.1865    1.1183 H   0  0  0  0  0  0  0  0  0  0  0  0\\n    5.4314   -4.0329    3.1825 H   0  0  0  0  0  0  0  0  0  0  0  0\\n   -3.7325   -0.4098   -3.1841 H   0  0  0  0  0  0  0  0  0  0  0  0\\n   -2.5555    2.7990   -2.2336 H   0  0  0  0  0  0  0  0  0  0  0  0\\n  1  2  1  0\\n  2  3  1  0\\n  2  4  1  0\\n  4  5  1  0\\n  5  6  1  0\\n  6  7  1  0\\n  7  8  2  0\\n  7  9  1  0\\n  9 10  1  0\\n 10 11  1  0\\n 11 12  2  0\\n 12 13  1  0\\n 13 14  2  0\\n 14 15  1  0\\n 15 16  2  0\\n  9 17  1  0\\n 17 18  1  0\\n 18 19  2  0\\n 18 20  1  0\\n 20 21  2  0\\n 21 22  1  0\\n 22 23  2  0\\n 23 24  1  0\\n 24 25  2  0\\n  5 26  1  0\\n 26 27  1  0\\n 26 28  1  0\\n 16 11  1  0\\n 25 20  1  0\\n  1 29  1  0\\n  1 30  1  0\\n  1 31  1  0\\n  2 32  1  0\\n  3 33  1  0\\n  3 34  1  0\\n  3 35  1  0\\n  4 36  1  0\\n  4 37  1  0\\n  5 38  1  6\\n  6 39  1  0\\n  9 40  1  1\\n 10 41  1  0\\n 10 42  1  0\\n 12 43  1  0\\n 13 44  1  0\\n 14 45  1  0\\n 15 46  1  0\\n 16 47  1  0\\n 17 48  1  0\\n 21 49  1  0\\n 23 50  1  0\\n 24 51  1  0\\n 27 52  1  0\\n 28 53  1  0\\nM  END\\n\",\"sdf\");\n\tviewer_16838775667068489.setStyle({\"stick\": {}});\n\tviewer_16838775667068489.setBackgroundColor(\"0xeeeeee\");\n\tviewer_16838775667068489.zoomTo();\nviewer_16838775667068489.render();\n});\n</script>",
      "text/html": [
       "<div id=\"3dmolviewer_16838775667068489\"  style=\"position: relative; width: 400px; height: 400px\">\n",
       "        <p id=\"3dmolwarning_16838775667068489\" style=\"background-color:#ffcccc;color:black\">You appear to be running in JupyterLab (or JavaScript failed to load for some other reason).  You need to install the 3dmol extension: <br>\n",
       "        <tt>jupyter labextension install jupyterlab_3dmol</tt></p>\n",
       "        </div>\n",
       "<script>\n",
       "\n",
       "var loadScriptAsync = function(uri){\n",
       "  return new Promise((resolve, reject) => {\n",
       "    //this is to ignore the existence of requirejs amd\n",
       "    var savedexports, savedmodule;\n",
       "    if (typeof exports !== 'undefined') savedexports = exports;\n",
       "    else exports = {}\n",
       "    if (typeof module !== 'undefined') savedmodule = module;\n",
       "    else module = {}\n",
       "\n",
       "    var tag = document.createElement('script');\n",
       "    tag.src = uri;\n",
       "    tag.async = true;\n",
       "    tag.onload = () => {\n",
       "        exports = savedexports;\n",
       "        module = savedmodule;\n",
       "        resolve();\n",
       "    };\n",
       "  var firstScriptTag = document.getElementsByTagName('script')[0];\n",
       "  firstScriptTag.parentNode.insertBefore(tag, firstScriptTag);\n",
       "});\n",
       "};\n",
       "\n",
       "if(typeof $3Dmolpromise === 'undefined') {\n",
       "$3Dmolpromise = null;\n",
       "  $3Dmolpromise = loadScriptAsync('https://cdnjs.cloudflare.com/ajax/libs/3Dmol/2.0.1/3Dmol-min.js');\n",
       "}\n",
       "\n",
       "var viewer_16838775667068489 = null;\n",
       "var warn = document.getElementById(\"3dmolwarning_16838775667068489\");\n",
       "if(warn) {\n",
       "    warn.parentNode.removeChild(warn);\n",
       "}\n",
       "$3Dmolpromise.then(function() {\n",
       "viewer_16838775667068489 = $3Dmol.createViewer(document.getElementById(\"3dmolviewer_16838775667068489\"),{backgroundColor:\"white\"});\n",
       "viewer_16838775667068489.zoomTo();\n",
       "\tviewer_16838775667068489.addModel(\"\\n     RDKit          3D\\n\\n 53 54  0  0  0  0  0  0  0  0999 V2000\\n   -5.9813    0.4393   -0.8272 C   0  0  0  0  0  0  0  0  0  0  0  0\\n   -5.2925   -0.3696    0.2205 C   0  0  0  0  0  0  0  0  0  0  0  0\\n   -5.2515   -1.8262   -0.2070 C   0  0  0  0  0  0  0  0  0  0  0  0\\n   -3.9415    0.1613    0.5173 C   0  0  0  0  0  0  0  0  0  0  0  0\\n   -3.0000    0.1668   -0.6610 C   0  0  2  0  0  0  0  0  0  0  0  0\\n   -1.7342    0.7110   -0.1424 N   0  0  0  0  0  0  0  0  0  0  0  0\\n   -0.6010   -0.1031   -0.1558 C   0  0  0  0  0  0  0  0  0  0  0  0\\n   -0.7062   -1.2715   -0.6112 O   0  0  0  0  0  0  0  0  0  0  0  0\\n    0.7381    0.3399    0.3441 C   0  0  2  0  0  0  0  0  0  0  0  0\\n    1.1317    1.5233   -0.5454 C   0  0  0  0  0  0  0  0  0  0  0  0\\n    2.4555    2.0616   -0.1500 C   0  0  0  0  0  0  0  0  0  0  0  0\\n    2.5873    3.0614    0.7913 C   0  0  0  0  0  0  0  0  0  0  0  0\\n    3.8155    3.5465    1.1445 C   0  0  0  0  0  0  0  0  0  0  0  0\\n    4.9391    3.0361    0.5582 C   0  0  0  0  0  0  0  0  0  0  0  0\\n    4.8113    2.0381   -0.3815 C   0  0  0  0  0  0  0  0  0  0  0  0\\n    3.5802    1.5391   -0.7478 C   0  0  0  0  0  0  0  0  0  0  0  0\\n    1.6857   -0.7511    0.1824 N   0  0  0  0  0  0  0  0  0  0  0  0\\n    2.4258   -1.2526    1.2951 C   0  0  0  0  0  0  0  0  0  0  0  0\\n    2.2329   -0.7168    2.4365 O   0  0  0  0  0  0  0  0  0  0  0  0\\n    3.3797   -2.3428    1.1607 C   0  0  0  0  0  0  0  0  0  0  0  0\\n    3.6621   -2.9851   -0.0065 C   0  0  0  0  0  0  0  0  0  0  0  0\\n    4.5713   -3.9823    0.0128 N   0  0  0  0  0  0  0  0  0  0  0  0\\n    5.2115   -4.3763    1.1147 C   0  0  0  0  0  0  0  0  0  0  0  0\\n    4.9199   -3.7222    2.2880 C   0  0  0  0  0  0  0  0  0  0  0  0\\n    4.0231   -2.7293    2.3012 N   0  0  0  0  0  0  0  0  0  0  0  0\\n   -3.5070    1.0823   -1.8581 B   0  0  0  0  0  0  0  0  0  0  0  0\\n   -3.4666    0.5234   -3.2112 O   0  0  0  0  0  0  0  0  0  0  0  0\\n   -3.3435    2.5391   -1.6704 O   0  0  0  0  0  0  0  0  0  0  0  0\\n   -7.0875    0.2917   -0.6613 H   0  0  0  0  0  0  0  0  0  0  0  0\\n   -5.7163    1.5090   -0.7507 H   0  0  0  0  0  0  0  0  0  0  0  0\\n   -5.7970    0.0643   -1.8332 H   0  0  0  0  0  0  0  0  0  0  0  0\\n   -5.8873   -0.3430    1.1700 H   0  0  0  0  0  0  0  0  0  0  0  0\\n   -5.0892   -1.9443   -1.2814 H   0  0  0  0  0  0  0  0  0  0  0  0\\n   -4.4268   -2.3229    0.3610 H   0  0  0  0  0  0  0  0  0  0  0  0\\n   -6.2182   -2.3088    0.0921 H   0  0  0  0  0  0  0  0  0  0  0  0\\n   -4.0565    1.2165    0.8588 H   0  0  0  0  0  0  0  0  0  0  0  0\\n   -3.5077   -0.4162    1.3770 H   0  0  0  0  0  0  0  0  0  0  0  0\\n   -2.8433   -0.8704   -1.0025 H   0  0  0  0  0  0  0  0  0  0  0  0\\n   -1.7109    1.6671    0.2145 H   0  0  0  0  0  0  0  0  0  0  0  0\\n    0.6792    0.6962    1.3730 H   0  0  0  0  0  0  0  0  0  0  0  0\\n    1.0579    1.2605   -1.6048 H   0  0  0  0  0  0  0  0  0  0  0  0\\n    0.3740    2.3129   -0.3478 H   0  0  0  0  0  0  0  0  0  0  0  0\\n    1.7048    3.4714    1.2603 H   0  0  0  0  0  0  0  0  0  0  0  0\\n    3.9001    4.3335    1.8870 H   0  0  0  0  0  0  0  0  0  0  0  0\\n    5.9325    3.4035    0.8201 H   0  0  0  0  0  0  0  0  0  0  0  0\\n    5.7099    1.6210   -0.8588 H   0  0  0  0  0  0  0  0  0  0  0  0\\n    3.5213    0.7454   -1.4990 H   0  0  0  0  0  0  0  0  0  0  0  0\\n    1.8543   -1.1979   -0.7389 H   0  0  0  0  0  0  0  0  0  0  0  0\\n    3.1707   -2.6991   -0.9104 H   0  0  0  0  0  0  0  0  0  0  0  0\\n    5.9471   -5.1865    1.1183 H   0  0  0  0  0  0  0  0  0  0  0  0\\n    5.4314   -4.0329    3.1825 H   0  0  0  0  0  0  0  0  0  0  0  0\\n   -3.7325   -0.4098   -3.1841 H   0  0  0  0  0  0  0  0  0  0  0  0\\n   -2.5555    2.7990   -2.2336 H   0  0  0  0  0  0  0  0  0  0  0  0\\n  1  2  1  0\\n  2  3  1  0\\n  2  4  1  0\\n  4  5  1  0\\n  5  6  1  0\\n  6  7  1  0\\n  7  8  2  0\\n  7  9  1  0\\n  9 10  1  0\\n 10 11  1  0\\n 11 12  2  0\\n 12 13  1  0\\n 13 14  2  0\\n 14 15  1  0\\n 15 16  2  0\\n  9 17  1  0\\n 17 18  1  0\\n 18 19  2  0\\n 18 20  1  0\\n 20 21  2  0\\n 21 22  1  0\\n 22 23  2  0\\n 23 24  1  0\\n 24 25  2  0\\n  5 26  1  0\\n 26 27  1  0\\n 26 28  1  0\\n 16 11  1  0\\n 25 20  1  0\\n  1 29  1  0\\n  1 30  1  0\\n  1 31  1  0\\n  2 32  1  0\\n  3 33  1  0\\n  3 34  1  0\\n  3 35  1  0\\n  4 36  1  0\\n  4 37  1  0\\n  5 38  1  6\\n  6 39  1  0\\n  9 40  1  1\\n 10 41  1  0\\n 10 42  1  0\\n 12 43  1  0\\n 13 44  1  0\\n 14 45  1  0\\n 15 46  1  0\\n 16 47  1  0\\n 17 48  1  0\\n 21 49  1  0\\n 23 50  1  0\\n 24 51  1  0\\n 27 52  1  0\\n 28 53  1  0\\nM  END\\n\",\"sdf\");\n",
       "\tviewer_16838775667068489.setStyle({\"stick\": {}});\n",
       "\tviewer_16838775667068489.setBackgroundColor(\"0xeeeeee\");\n",
       "\tviewer_16838775667068489.zoomTo();\n",
       "viewer_16838775667068489.render();\n",
       "});\n",
       "</script>"
      ]
     },
     "metadata": {},
     "output_type": "display_data"
    }
   ],
   "source": [
    "draw_3d(borte)"
   ]
  },
  {
   "cell_type": "code",
   "execution_count": 23,
   "metadata": {},
   "outputs": [],
   "source": [
    "comp=\"CC1=CC(=CC(C)=C1OC1=C(Br)C(N)=NC(NC2=CC=C(C=C2)C#N)=N1)C#N\"\n"
   ]
  },
  {
   "cell_type": "code",
   "execution_count": 24,
   "metadata": {},
   "outputs": [
    {
     "data": {
      "image/png": "[encoded data removed]",
      "text/plain": [
       "<PIL.PngImagePlugin.PngImageFile image mode=RGB size=400x400>"
      ]
     },
     "execution_count": 24,
     "metadata": {},
     "output_type": "execute_result"
    }
   ],
   "source": [
    "draw_2d(comp)"
   ]
  },
  {
   "cell_type": "code",
   "execution_count": 25,
   "metadata": {},
   "outputs": [
    {
     "data": {
      "application/3dmoljs_load.v0": "<div id=\"3dmolviewer_1683877566884859\"  style=\"position: relative; width: 400px; height: 400px\">\n        <p id=\"3dmolwarning_1683877566884859\" style=\"background-color:#ffcccc;color:black\">You appear to be running in JupyterLab (or JavaScript failed to load for some other reason).  You need to install the 3dmol extension: <br>\n        <tt>jupyter labextension install jupyterlab_3dmol</tt></p>\n        </div>\n<script>\n\nvar loadScriptAsync = function(uri){\n  return new Promise((resolve, reject) => {\n    //this is to ignore the existence of requirejs amd\n    var savedexports, savedmodule;\n    if (typeof exports !== 'undefined') savedexports = exports;\n    else exports = {}\n    if (typeof module !== 'undefined') savedmodule = module;\n    else module = {}\n\n    var tag = document.createElement('script');\n    tag.src = uri;\n    tag.async = true;\n    tag.onload = () => {\n        exports = savedexports;\n        module = savedmodule;\n        resolve();\n    };\n  var firstScriptTag = document.getElementsByTagName('script')[0];\n  firstScriptTag.parentNode.insertBefore(tag, firstScriptTag);\n});\n};\n\nif(typeof $3Dmolpromise === 'undefined') {\n$3Dmolpromise = null;\n  $3Dmolpromise = loadScriptAsync('https://cdnjs.cloudflare.com/ajax/libs/3Dmol/2.0.1/3Dmol-min.js');\n}\n\nvar viewer_1683877566884859 = null;\nvar warn = document.getElementById(\"3dmolwarning_1683877566884859\");\nif(warn) {\n    warn.parentNode.removeChild(warn);\n}\n$3Dmolpromise.then(function() {\nviewer_1683877566884859 = $3Dmol.createViewer(document.getElementById(\"3dmolviewer_1683877566884859\"),{backgroundColor:\"white\"});\nviewer_1683877566884859.zoomTo();\n\tviewer_1683877566884859.addModel(\"\\n     RDKit          3D\\n\\n 43 45  0  0  0  0  0  0  0  0999 V2000\\n    2.1154    2.4532    0.0686 C   0  0  0  0  0  0  0  0  0  0  0  0\\n    3.2712    1.6899   -0.4559 C   0  0  0  0  0  0  0  0  0  0  0  0\\n    4.3959    2.3769   -0.9423 C   0  0  0  0  0  0  0  0  0  0  0  0\\n    5.4508    1.6632   -1.3947 C   0  0  0  0  0  0  0  0  0  0  0  0\\n    5.4532    0.2776   -1.3989 C   0  0  0  0  0  0  0  0  0  0  0  0\\n    4.3321   -0.3713   -0.9110 C   0  0  0  0  0  0  0  0  0  0  0  0\\n    4.3654   -1.8666   -0.7991 C   0  0  0  0  0  0  0  0  0  0  0  0\\n    3.2213    0.2888   -0.4345 C   0  0  0  0  0  0  0  0  0  0  0  0\\n    2.1617   -0.3319    0.0318 O   0  0  0  0  0  0  0  0  0  0  0  0\\n    0.8647   -0.5584   -0.0822 C   0  0  0  0  0  0  0  0  0  0  0  0\\n    0.2636   -1.5586   -0.7869 C   0  0  0  0  0  0  0  0  0  0  0  0\\n    1.2537   -2.8468   -1.8203 Br  0  0  0  0  0  0  0  0  0  0  0  0\\n   -1.1320   -1.7359   -0.8329 C   0  0  0  0  0  0  0  0  0  0  0  0\\n   -1.6996   -2.7928   -1.5951 N   0  0  0  0  0  0  0  0  0  0  0  0\\n   -1.9349   -0.9141   -0.1659 N   0  0  0  0  0  0  0  0  0  0  0  0\\n   -1.3609    0.0926    0.5424 C   0  0  0  0  0  0  0  0  0  0  0  0\\n   -2.3170    0.8614    1.3117 N   0  0  0  0  0  0  0  0  0  0  0  0\\n   -3.6976    0.5008    1.2784 C   0  0  0  0  0  0  0  0  0  0  0  0\\n   -4.3502    0.1481    0.1140 C   0  0  0  0  0  0  0  0  0  0  0  0\\n   -5.6506   -0.2977    0.1029 C   0  0  0  0  0  0  0  0  0  0  0  0\\n   -6.3936   -0.4242    1.2807 C   0  0  0  0  0  0  0  0  0  0  0  0\\n   -5.6976   -0.0494    2.4558 C   0  0  0  0  0  0  0  0  0  0  0  0\\n   -4.4141    0.3878    2.4333 C   0  0  0  0  0  0  0  0  0  0  0  0\\n   -7.6802   -0.9042    1.3212 C   0  0  0  0  0  0  0  0  0  0  0  0\\n   -8.8463   -1.3418    1.3708 N   0  0  0  0  0  0  0  0  0  0  0  0\\n   -0.0505    0.2642    0.5853 N   0  0  0  0  0  0  0  0  0  0  0  0\\n    6.7042    2.2140   -1.8691 C   0  0  0  0  0  0  0  0  0  0  0  0\\n    7.7337    2.6671   -2.2672 N   0  0  0  0  0  0  0  0  0  0  0  0\\n    1.2240    2.4253   -0.5925 H   0  0  0  0  0  0  0  0  0  0  0  0\\n    1.8961    2.1678    1.1406 H   0  0  0  0  0  0  0  0  0  0  0  0\\n    2.3925    3.5433    0.1424 H   0  0  0  0  0  0  0  0  0  0  0  0\\n    4.4474    3.4416   -0.9773 H   0  0  0  0  0  0  0  0  0  0  0  0\\n    6.2918   -0.2841   -1.7601 H   0  0  0  0  0  0  0  0  0  0  0  0\\n    4.4428   -2.3659   -1.7598 H   0  0  0  0  0  0  0  0  0  0  0  0\\n    3.5816   -2.2048   -0.1012 H   0  0  0  0  0  0  0  0  0  0  0  0\\n    5.3316   -2.1271   -0.2515 H   0  0  0  0  0  0  0  0  0  0  0  0\\n   -2.2637   -2.5252   -2.4390 H   0  0  0  0  0  0  0  0  0  0  0  0\\n   -1.5778   -3.7907   -1.3546 H   0  0  0  0  0  0  0  0  0  0  0  0\\n   -1.9550    1.6471    1.8557 H   0  0  0  0  0  0  0  0  0  0  0  0\\n   -3.8101    0.2382   -0.8353 H   0  0  0  0  0  0  0  0  0  0  0  0\\n   -6.1792   -0.5710   -0.8370 H   0  0  0  0  0  0  0  0  0  0  0  0\\n   -6.2780   -0.1550    3.3890 H   0  0  0  0  0  0  0  0  0  0  0  0\\n   -3.9056    0.6686    3.3855 H   0  0  0  0  0  0  0  0  0  0  0  0\\n  1  2  1  0\\n  2  3  2  0\\n  3  4  1  0\\n  4  5  2  0\\n  5  6  1  0\\n  6  7  1  0\\n  6  8  2  0\\n  8  9  1  0\\n  9 10  1  0\\n 10 11  2  0\\n 11 12  1  0\\n 11 13  1  0\\n 13 14  1  0\\n 13 15  2  0\\n 15 16  1  0\\n 16 17  1  0\\n 17 18  1  0\\n 18 19  2  0\\n 19 20  1  0\\n 20 21  2  0\\n 21 22  1  0\\n 22 23  2  0\\n 21 24  1  0\\n 24 25  3  0\\n 16 26  2  0\\n  4 27  1  0\\n 27 28  3  0\\n  8  2  1  0\\n 26 10  1  0\\n 23 18  1  0\\n  1 29  1  0\\n  1 30  1  0\\n  1 31  1  0\\n  3 32  1  0\\n  5 33  1  0\\n  7 34  1  0\\n  7 35  1  0\\n  7 36  1  0\\n 14 37  1  0\\n 14 38  1  0\\n 17 39  1  0\\n 19 40  1  0\\n 20 41  1  0\\n 22 42  1  0\\n 23 43  1  0\\nM  END\\n\",\"sdf\");\n\tviewer_1683877566884859.setStyle({\"stick\": {}});\n\tviewer_1683877566884859.setBackgroundColor(\"0xeeeeee\");\n\tviewer_1683877566884859.zoomTo();\nviewer_1683877566884859.render();\n});\n</script>",
      "text/html": [
       "<div id=\"3dmolviewer_1683877566884859\"  style=\"position: relative; width: 400px; height: 400px\">\n",
       "        <p id=\"3dmolwarning_1683877566884859\" style=\"background-color:#ffcccc;color:black\">You appear to be running in JupyterLab (or JavaScript failed to load for some other reason).  You need to install the 3dmol extension: <br>\n",
       "        <tt>jupyter labextension install jupyterlab_3dmol</tt></p>\n",
       "        </div>\n",
       "<script>\n",
       "\n",
       "var loadScriptAsync = function(uri){\n",
       "  return new Promise((resolve, reject) => {\n",
       "    //this is to ignore the existence of requirejs amd\n",
       "    var savedexports, savedmodule;\n",
       "    if (typeof exports !== 'undefined') savedexports = exports;\n",
       "    else exports = {}\n",
       "    if (typeof module !== 'undefined') savedmodule = module;\n",
       "    else module = {}\n",
       "\n",
       "    var tag = document.createElement('script');\n",
       "    tag.src = uri;\n",
       "    tag.async = true;\n",
       "    tag.onload = () => {\n",
       "        exports = savedexports;\n",
       "        module = savedmodule;\n",
       "        resolve();\n",
       "    };\n",
       "  var firstScriptTag = document.getElementsByTagName('script')[0];\n",
       "  firstScriptTag.parentNode.insertBefore(tag, firstScriptTag);\n",
       "});\n",
       "};\n",
       "\n",
       "if(typeof $3Dmolpromise === 'undefined') {\n",
       "$3Dmolpromise = null;\n",
       "  $3Dmolpromise = loadScriptAsync('https://cdnjs.cloudflare.com/ajax/libs/3Dmol/2.0.1/3Dmol-min.js');\n",
       "}\n",
       "\n",
       "var viewer_1683877566884859 = null;\n",
       "var warn = document.getElementById(\"3dmolwarning_1683877566884859\");\n",
       "if(warn) {\n",
       "    warn.parentNode.removeChild(warn);\n",
       "}\n",
       "$3Dmolpromise.then(function() {\n",
       "viewer_1683877566884859 = $3Dmol.createViewer(document.getElementById(\"3dmolviewer_1683877566884859\"),{backgroundColor:\"white\"});\n",
       "viewer_1683877566884859.zoomTo();\n",
       "\tviewer_1683877566884859.addModel(\"\\n     RDKit          3D\\n\\n 43 45  0  0  0  0  0  0  0  0999 V2000\\n    2.1154    2.4532    0.0686 C   0  0  0  0  0  0  0  0  0  0  0  0\\n    3.2712    1.6899   -0.4559 C   0  0  0  0  0  0  0  0  0  0  0  0\\n    4.3959    2.3769   -0.9423 C   0  0  0  0  0  0  0  0  0  0  0  0\\n    5.4508    1.6632   -1.3947 C   0  0  0  0  0  0  0  0  0  0  0  0\\n    5.4532    0.2776   -1.3989 C   0  0  0  0  0  0  0  0  0  0  0  0\\n    4.3321   -0.3713   -0.9110 C   0  0  0  0  0  0  0  0  0  0  0  0\\n    4.3654   -1.8666   -0.7991 C   0  0  0  0  0  0  0  0  0  0  0  0\\n    3.2213    0.2888   -0.4345 C   0  0  0  0  0  0  0  0  0  0  0  0\\n    2.1617   -0.3319    0.0318 O   0  0  0  0  0  0  0  0  0  0  0  0\\n    0.8647   -0.5584   -0.0822 C   0  0  0  0  0  0  0  0  0  0  0  0\\n    0.2636   -1.5586   -0.7869 C   0  0  0  0  0  0  0  0  0  0  0  0\\n    1.2537   -2.8468   -1.8203 Br  0  0  0  0  0  0  0  0  0  0  0  0\\n   -1.1320   -1.7359   -0.8329 C   0  0  0  0  0  0  0  0  0  0  0  0\\n   -1.6996   -2.7928   -1.5951 N   0  0  0  0  0  0  0  0  0  0  0  0\\n   -1.9349   -0.9141   -0.1659 N   0  0  0  0  0  0  0  0  0  0  0  0\\n   -1.3609    0.0926    0.5424 C   0  0  0  0  0  0  0  0  0  0  0  0\\n   -2.3170    0.8614    1.3117 N   0  0  0  0  0  0  0  0  0  0  0  0\\n   -3.6976    0.5008    1.2784 C   0  0  0  0  0  0  0  0  0  0  0  0\\n   -4.3502    0.1481    0.1140 C   0  0  0  0  0  0  0  0  0  0  0  0\\n   -5.6506   -0.2977    0.1029 C   0  0  0  0  0  0  0  0  0  0  0  0\\n   -6.3936   -0.4242    1.2807 C   0  0  0  0  0  0  0  0  0  0  0  0\\n   -5.6976   -0.0494    2.4558 C   0  0  0  0  0  0  0  0  0  0  0  0\\n   -4.4141    0.3878    2.4333 C   0  0  0  0  0  0  0  0  0  0  0  0\\n   -7.6802   -0.9042    1.3212 C   0  0  0  0  0  0  0  0  0  0  0  0\\n   -8.8463   -1.3418    1.3708 N   0  0  0  0  0  0  0  0  0  0  0  0\\n   -0.0505    0.2642    0.5853 N   0  0  0  0  0  0  0  0  0  0  0  0\\n    6.7042    2.2140   -1.8691 C   0  0  0  0  0  0  0  0  0  0  0  0\\n    7.7337    2.6671   -2.2672 N   0  0  0  0  0  0  0  0  0  0  0  0\\n    1.2240    2.4253   -0.5925 H   0  0  0  0  0  0  0  0  0  0  0  0\\n    1.8961    2.1678    1.1406 H   0  0  0  0  0  0  0  0  0  0  0  0\\n    2.3925    3.5433    0.1424 H   0  0  0  0  0  0  0  0  0  0  0  0\\n    4.4474    3.4416   -0.9773 H   0  0  0  0  0  0  0  0  0  0  0  0\\n    6.2918   -0.2841   -1.7601 H   0  0  0  0  0  0  0  0  0  0  0  0\\n    4.4428   -2.3659   -1.7598 H   0  0  0  0  0  0  0  0  0  0  0  0\\n    3.5816   -2.2048   -0.1012 H   0  0  0  0  0  0  0  0  0  0  0  0\\n    5.3316   -2.1271   -0.2515 H   0  0  0  0  0  0  0  0  0  0  0  0\\n   -2.2637   -2.5252   -2.4390 H   0  0  0  0  0  0  0  0  0  0  0  0\\n   -1.5778   -3.7907   -1.3546 H   0  0  0  0  0  0  0  0  0  0  0  0\\n   -1.9550    1.6471    1.8557 H   0  0  0  0  0  0  0  0  0  0  0  0\\n   -3.8101    0.2382   -0.8353 H   0  0  0  0  0  0  0  0  0  0  0  0\\n   -6.1792   -0.5710   -0.8370 H   0  0  0  0  0  0  0  0  0  0  0  0\\n   -6.2780   -0.1550    3.3890 H   0  0  0  0  0  0  0  0  0  0  0  0\\n   -3.9056    0.6686    3.3855 H   0  0  0  0  0  0  0  0  0  0  0  0\\n  1  2  1  0\\n  2  3  2  0\\n  3  4  1  0\\n  4  5  2  0\\n  5  6  1  0\\n  6  7  1  0\\n  6  8  2  0\\n  8  9  1  0\\n  9 10  1  0\\n 10 11  2  0\\n 11 12  1  0\\n 11 13  1  0\\n 13 14  1  0\\n 13 15  2  0\\n 15 16  1  0\\n 16 17  1  0\\n 17 18  1  0\\n 18 19  2  0\\n 19 20  1  0\\n 20 21  2  0\\n 21 22  1  0\\n 22 23  2  0\\n 21 24  1  0\\n 24 25  3  0\\n 16 26  2  0\\n  4 27  1  0\\n 27 28  3  0\\n  8  2  1  0\\n 26 10  1  0\\n 23 18  1  0\\n  1 29  1  0\\n  1 30  1  0\\n  1 31  1  0\\n  3 32  1  0\\n  5 33  1  0\\n  7 34  1  0\\n  7 35  1  0\\n  7 36  1  0\\n 14 37  1  0\\n 14 38  1  0\\n 17 39  1  0\\n 19 40  1  0\\n 20 41  1  0\\n 22 42  1  0\\n 23 43  1  0\\nM  END\\n\",\"sdf\");\n",
       "\tviewer_1683877566884859.setStyle({\"stick\": {}});\n",
       "\tviewer_1683877566884859.setBackgroundColor(\"0xeeeeee\");\n",
       "\tviewer_1683877566884859.zoomTo();\n",
       "viewer_1683877566884859.render();\n",
       "});\n",
       "</script>"
      ]
     },
     "metadata": {},
     "output_type": "display_data"
    }
   ],
   "source": [
    "draw_3d(comp)"
   ]
  },
  {
   "cell_type": "code",
   "execution_count": 26,
   "metadata": {},
   "outputs": [],
   "source": [
    "from tensorflow import keras\n",
    "model = keras.models.load_model('D:\\\\Phase II Project Work\\\\DRUG\\\\Drug_CNN\\\\DDI.h5')"
   ]
  },
  {
   "cell_type": "code",
   "execution_count": 27,
   "metadata": {},
   "outputs": [
    {
     "name": "stdout",
     "output_type": "stream",
     "text": [
      "1/1 [==============================] - 0s 189ms/step\n",
      "the drugs will interact with bortezomib 0.9990207\n"
     ]
    }
   ],
   "source": [
    "predict_output(comp,model)"
   ]
  },
  {
   "cell_type": "code",
   "execution_count": 30,
   "metadata": {},
   "outputs": [
    {
     "name": "stdout",
     "output_type": "stream",
     "text": [
      "1/1 [==============================] - 0s 27ms/step\n",
      "the drugs will interact with bortezomib 0.9894677\n"
     ]
    }
   ],
   "source": [
    "\n",
    "t=\"NC1=C2N=CN([C@@H]3O[C@H](CO)[C@@H](O)[C@H]3O)C2=NC=N1\"\n",
    "predict_output(t,model)"
   ]
  }
 ],
 "metadata": {
  "kernelspec": {
   "display_name": "base",
   "language": "python",
   "name": "python3"
  },
  "language_info": {
   "codemirror_mode": {
    "name": "ipython",
    "version": 3
   },
   "file_extension": ".py",
   "mimetype": "text/x-python",
   "name": "python",
   "nbconvert_exporter": "python",
   "pygments_lexer": "ipython3",
   "version": "3.9.13"
  },
  "orig_nbformat": 4
 },
 "nbformat": 4,
 "nbformat_minor": 2
}
